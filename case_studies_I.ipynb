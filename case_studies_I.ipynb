{
 "cells": [
  {
   "cell_type": "markdown",
   "metadata": {},
   "source": [
    "# Case study I\n",
    "\n",
    "## Case study 1: Learn how to translate DNA\n",
    "\n",
    "This will involve **4 tasks**\n",
    "\n",
    "1. Download only the **sequence** (not header) of DNA (NM_207618.2) as dna.txt and its corresponding protein seq (CDS) as protein.txt from NCBI in FASTA format to computer.\n",
    "\n",
    "2. Import DNA into python\n",
    "\n",
    "3. Check that the length of the seq is divisible by 3\n",
    "\n",
    "4. Import translation table as dictionary\n",
    "\n",
    "4. Look up each 3-letter string in table and store result\n",
    "\n",
    "5. Continute look up till you reach end of sequence\n"
   ]
  },
  {
   "cell_type": "markdown",
   "metadata": {},
   "source": [
    "## Import DNA into python\n",
    "\n",
    "This essentially means that you have to read the file. There are two ways to read a file in python\n",
    "\n",
    "-  Line by line (more memory efficient, but not always useful)"
   ]
  },
  {
   "cell_type": "code",
   "execution_count": null,
   "metadata": {},
   "outputs": [],
   "source": [
    " filename = \"read.txt\"\n",
    "  for line in open(filename):\n",
    "    print(line)\n",
    "    line = line.rstrip() # this removes the \\n at the end of each line and returns a string. And since strings are immutable, have to reassign\n",
    "    print(line)\n",
    "    line = line.rstrip().split(\" \") # will split the \\n stripped string by \" \" and return a list \n",
    "    print(line)"
   ]
  },
  {
   "cell_type": "markdown",
   "metadata": {},
   "source": [
    "-  Complete file at once\n",
    "\n",
    "First confirm if the `pwd` is correct, if not `cd` into that directory from the python console. **_OR_** You can also give complete or relative path to the file instead."
   ]
  },
  {
   "cell_type": "code",
   "execution_count": 9,
   "metadata": {},
   "outputs": [
    {
     "data": {
      "text/plain": [
       "'GGTCAGAAAAAGCCCTCTCCATGTCTACTCACGATACATCCCTGAAAACCACTGAGGAAGTGGCTTTTCA\\nGATCATCTTGCTTTGCCAGTTTGGGGTTGGGACTTTTGCCAATGTATTTCTCTTTGTCTATAATTTCTCT\\nCCAATCTCGACTGGTTCTAAACAGAGGCCCAGACAAGTGATTTTAAGACACATGGCTGTGGCCAATGCCT\\nTAACTCTCTTCCTCACTATATTTCCAAACAACATGATGACTTTTGCTCCAATTATTCCTCAAACTGACCT\\nCAAATGTAAATTAGAATTCTTCACTCGCCTCGTGGCAAGAAGCACAAACTTGTGTTCAACTTGTGTTCTG\\nAGTATCCATCAGTTTGTCACACTTGTTCCTGTTAATTCAGGTAAAGGAATACTCAGAGCAAGTGTCACAA\\nACATGGCAAGTTATTCTTGTTACAGTTGTTGGTTCTTCAGTGTCTTAAATAACATCTACATTCCAATTAA\\nGGTCACTGGTCCACAGTTAACAGACAATAACAATAACTCTAAAAGCAAGTTGTTCTGTTCCACTTCTGAT\\nTTCAGTGTAGGCATTGTCTTCTTGAGGTTTGCCCATGATGCCACATTCATGAGCATCATGGTCTGGACCA\\nGTGTCTCCATGGTACTTCTCCTCCATAGACATTGTCAGAGAATGCAGTACATATTCACTCTCAATCAGGA\\nCCCCAGGGGCCAAGCAGAGACCACAGCAACCCATACTATCCTGATGCTGGTAGTCACATTTGTTGGCTTT\\nTATCTTCTAAGTCTTATTTGTATCATCTTTTACACCTATTTTATATATTCTCATCATTCCCTGAGGCATT\\nGCAATGACATTTTGGTTTCGGGTTTCCCTACAATTTCTCCTTTACTGTTGACCTTCAGAGACCCTAAGGG\\nTCCTTGTTCTGTGTTCTTCAACTGTTGAAAGCCAGAGTCACTAAAAATGCCAAACACAGAAGACAGCTTT\\nGCTAATACCATTAAATACTTTATTCCATAAATATGTTTTTAAAAGCTTGTATGAACAAGGTATGGTGCTC\\nACTGCTATACTTATAAAAGAGTAAGGTTATAATCACTTGTTGATATGAAAAGATTTCTGGTTGGAATCTG\\nATTGAAACAGTGAGTTATTCACCACCCTCCATTCTCT'"
      ]
     },
     "execution_count": 9,
     "metadata": {},
     "output_type": "execute_result"
    }
   ],
   "source": [
    "#pwd # make sure the working directory is correct \n",
    "inputfile = \"./files/dna.txt\"\n",
    "f = open(inputfile,\"r\") # open the file for reading as f\n",
    "seq = f.read() # read entire file into variable seq\n",
    "seq"
   ]
  },
  {
   "cell_type": "markdown",
   "metadata": {},
   "source": [
    "A better way to read the entire file at once is using `with`, which opens a file and uses it for the subsequent block of code only and then closes the file"
   ]
  },
  {
   "cell_type": "code",
   "execution_count": null,
   "metadata": {},
   "outputs": [],
   "source": [
    "inputfile = \"./files/dna.txt\"\n",
    "with open(inputfile,\"r\") as f:\n",
    "    seq = f.read() # read entire file into variable seq\n",
    "seq"
   ]
  },
  {
   "cell_type": "markdown",
   "metadata": {},
   "source": [
    "Notice the `\\n` in the printed sequence above ? We need to get rid of it otherwise it will cause problems during translation"
   ]
  },
  {
   "cell_type": "code",
   "execution_count": 10,
   "metadata": {},
   "outputs": [
    {
     "name": "stdout",
     "output_type": "stream",
     "text": [
      "GGTCAGAAAAAGCCCTCTCCATGTCTACTCACGATACATCCCTGAAAACCACTGAGGAAGTGGCTTTTCA\n",
      "GATCATCTTGCTTTGCCAGTTTGGGGTTGGGACTTTTGCCAATGTATTTCTCTTTGTCTATAATTTCTCT\n",
      "CCAATCTCGACTGGTTCTAAACAGAGGCCCAGACAAGTGATTTTAAGACACATGGCTGTGGCCAATGCCT\n",
      "TAACTCTCTTCCTCACTATATTTCCAAACAACATGATGACTTTTGCTCCAATTATTCCTCAAACTGACCT\n",
      "CAAATGTAAATTAGAATTCTTCACTCGCCTCGTGGCAAGAAGCACAAACTTGTGTTCAACTTGTGTTCTG\n",
      "AGTATCCATCAGTTTGTCACACTTGTTCCTGTTAATTCAGGTAAAGGAATACTCAGAGCAAGTGTCACAA\n",
      "ACATGGCAAGTTATTCTTGTTACAGTTGTTGGTTCTTCAGTGTCTTAAATAACATCTACATTCCAATTAA\n",
      "GGTCACTGGTCCACAGTTAACAGACAATAACAATAACTCTAAAAGCAAGTTGTTCTGTTCCACTTCTGAT\n",
      "TTCAGTGTAGGCATTGTCTTCTTGAGGTTTGCCCATGATGCCACATTCATGAGCATCATGGTCTGGACCA\n",
      "GTGTCTCCATGGTACTTCTCCTCCATAGACATTGTCAGAGAATGCAGTACATATTCACTCTCAATCAGGA\n",
      "CCCCAGGGGCCAAGCAGAGACCACAGCAACCCATACTATCCTGATGCTGGTAGTCACATTTGTTGGCTTT\n",
      "TATCTTCTAAGTCTTATTTGTATCATCTTTTACACCTATTTTATATATTCTCATCATTCCCTGAGGCATT\n",
      "GCAATGACATTTTGGTTTCGGGTTTCCCTACAATTTCTCCTTTACTGTTGACCTTCAGAGACCCTAAGGG\n",
      "TCCTTGTTCTGTGTTCTTCAACTGTTGAAAGCCAGAGTCACTAAAAATGCCAAACACAGAAGACAGCTTT\n",
      "GCTAATACCATTAAATACTTTATTCCATAAATATGTTTTTAAAAGCTTGTATGAACAAGGTATGGTGCTC\n",
      "ACTGCTATACTTATAAAAGAGTAAGGTTATAATCACTTGTTGATATGAAAAGATTTCTGGTTGGAATCTG\n",
      "ATTGAAACAGTGAGTTATTCACCACCCTCCATTCTCT\n"
     ]
    }
   ],
   "source": [
    "print(seq)"
   ]
  },
  {
   "cell_type": "code",
   "execution_count": 12,
   "metadata": {},
   "outputs": [
    {
     "name": "stdout",
     "output_type": "stream",
     "text": [
      "GGTCAGAAAAAGCCCTCTCCATGTCTACTCACGATACATCCCTGAAAACCACTGAGGAAGTGGCTTTTCAGATCATCTTGCTTTGCCAGTTTGGGGTTGGGACTTTTGCCAATGTATTTCTCTTTGTCTATAATTTCTCTCCAATCTCGACTGGTTCTAAACAGAGGCCCAGACAAGTGATTTTAAGACACATGGCTGTGGCCAATGCCTTAACTCTCTTCCTCACTATATTTCCAAACAACATGATGACTTTTGCTCCAATTATTCCTCAAACTGACCTCAAATGTAAATTAGAATTCTTCACTCGCCTCGTGGCAAGAAGCACAAACTTGTGTTCAACTTGTGTTCTGAGTATCCATCAGTTTGTCACACTTGTTCCTGTTAATTCAGGTAAAGGAATACTCAGAGCAAGTGTCACAAACATGGCAAGTTATTCTTGTTACAGTTGTTGGTTCTTCAGTGTCTTAAATAACATCTACATTCCAATTAAGGTCACTGGTCCACAGTTAACAGACAATAACAATAACTCTAAAAGCAAGTTGTTCTGTTCCACTTCTGATTTCAGTGTAGGCATTGTCTTCTTGAGGTTTGCCCATGATGCCACATTCATGAGCATCATGGTCTGGACCAGTGTCTCCATGGTACTTCTCCTCCATAGACATTGTCAGAGAATGCAGTACATATTCACTCTCAATCAGGACCCCAGGGGCCAAGCAGAGACCACAGCAACCCATACTATCCTGATGCTGGTAGTCACATTTGTTGGCTTTTATCTTCTAAGTCTTATTTGTATCATCTTTTACACCTATTTTATATATTCTCATCATTCCCTGAGGCATTGCAATGACATTTTGGTTTCGGGTTTCCCTACAATTTCTCCTTTACTGTTGACCTTCAGAGACCCTAAGGGTCCTTGTTCTGTGTTCTTCAACTGTTGAAAGCCAGAGTCACTAAAAATGCCAAACACAGAAGACAGCTTTGCTAATACCATTAAATACTTTATTCCATAAATATGTTTTTAAAAGCTTGTATGAACAAGGTATGGTGCTCACTGCTATACTTATAAAAGAGTAAGGTTATAATCACTTGTTGATATGAAAAGATTTCTGGTTGGAATCTGATTGAAACAGTGAGTTATTCACCACCCTCCATTCTCT\n"
     ]
    }
   ],
   "source": [
    "seq = seq.replace(\"\\n\",\"\")\n",
    "print(seq)"
   ]
  },
  {
   "cell_type": "markdown",
   "metadata": {},
   "source": [
    "Sometimes return carriage character `\\r` is another invisible character that could be present in your copied text. Depending on your editor, you may or may not see it. It is just safer to add a line of code to replace it, just in case"
   ]
  },
  {
   "cell_type": "code",
   "execution_count": 13,
   "metadata": {},
   "outputs": [
    {
     "name": "stdout",
     "output_type": "stream",
     "text": [
      "GGTCAGAAAAAGCCCTCTCCATGTCTACTCACGATACATCCCTGAAAACCACTGAGGAAGTGGCTTTTCAGATCATCTTGCTTTGCCAGTTTGGGGTTGGGACTTTTGCCAATGTATTTCTCTTTGTCTATAATTTCTCTCCAATCTCGACTGGTTCTAAACAGAGGCCCAGACAAGTGATTTTAAGACACATGGCTGTGGCCAATGCCTTAACTCTCTTCCTCACTATATTTCCAAACAACATGATGACTTTTGCTCCAATTATTCCTCAAACTGACCTCAAATGTAAATTAGAATTCTTCACTCGCCTCGTGGCAAGAAGCACAAACTTGTGTTCAACTTGTGTTCTGAGTATCCATCAGTTTGTCACACTTGTTCCTGTTAATTCAGGTAAAGGAATACTCAGAGCAAGTGTCACAAACATGGCAAGTTATTCTTGTTACAGTTGTTGGTTCTTCAGTGTCTTAAATAACATCTACATTCCAATTAAGGTCACTGGTCCACAGTTAACAGACAATAACAATAACTCTAAAAGCAAGTTGTTCTGTTCCACTTCTGATTTCAGTGTAGGCATTGTCTTCTTGAGGTTTGCCCATGATGCCACATTCATGAGCATCATGGTCTGGACCAGTGTCTCCATGGTACTTCTCCTCCATAGACATTGTCAGAGAATGCAGTACATATTCACTCTCAATCAGGACCCCAGGGGCCAAGCAGAGACCACAGCAACCCATACTATCCTGATGCTGGTAGTCACATTTGTTGGCTTTTATCTTCTAAGTCTTATTTGTATCATCTTTTACACCTATTTTATATATTCTCATCATTCCCTGAGGCATTGCAATGACATTTTGGTTTCGGGTTTCCCTACAATTTCTCCTTTACTGTTGACCTTCAGAGACCCTAAGGGTCCTTGTTCTGTGTTCTTCAACTGTTGAAAGCCAGAGTCACTAAAAATGCCAAACACAGAAGACAGCTTTGCTAATACCATTAAATACTTTATTCCATAAATATGTTTTTAAAAGCTTGTATGAACAAGGTATGGTGCTCACTGCTATACTTATAAAAGAGTAAGGTTATAATCACTTGTTGATATGAAAAGATTTCTGGTTGGAATCTGATTGAAACAGTGAGTTATTCACCACCCTCCATTCTCT\n"
     ]
    }
   ],
   "source": [
    "seq = seq.replace(\"\\r\",\"\")\n",
    "print(seq)"
   ]
  },
  {
   "cell_type": "code",
   "execution_count": 5,
   "metadata": {},
   "outputs": [],
   "source": [
    "def read_seq(inputfilename):\n",
    "    \"\"\"Reads and returns the input sequence with special characters removed\"\"\"\n",
    "    with open(inputfilename,\"r\") as f:\n",
    "        seq = f.read() # read entire file into variable seq\n",
    "    seq = seq.replace(\"\\n\",\"\")\n",
    "    seq = seq.replace(\"\\r\",\"\")\n",
    "    return seq"
   ]
  },
  {
   "cell_type": "markdown",
   "metadata": {},
   "source": [
    "`./files/table.py` contains a pre-made dictionary named table. Copy it here (make sure it is not indented)"
   ]
  },
  {
   "cell_type": "code",
   "execution_count": 16,
   "metadata": {},
   "outputs": [
    {
     "data": {
      "text/plain": [
       "'E'"
      ]
     },
     "execution_count": 16,
     "metadata": {},
     "output_type": "execute_result"
    }
   ],
   "source": [
    "table = {\n",
    "    'ATA':'I', 'ATC':'I', 'ATT':'I', 'ATG':'M',\n",
    "    'ACA':'T', 'ACC':'T', 'ACG':'T', 'ACT':'T',\n",
    "    'AAC':'N', 'AAT':'N', 'AAA':'K', 'AAG':'K',\n",
    "    'AGC':'S', 'AGT':'S', 'AGA':'R', 'AGG':'R',\n",
    "    'CTA':'L', 'CTC':'L', 'CTG':'L', 'CTT':'L',\n",
    "    'CCA':'P', 'CCC':'P', 'CCG':'P', 'CCT':'P',\n",
    "    'CAC':'H', 'CAT':'H', 'CAA':'Q', 'CAG':'Q',\n",
    "    'CGA':'R', 'CGC':'R', 'CGG':'R', 'CGT':'R',\n",
    "    'GTA':'V', 'GTC':'V', 'GTG':'V', 'GTT':'V',\n",
    "    'GCA':'A', 'GCC':'A', 'GCG':'A', 'GCT':'A',\n",
    "    'GAC':'D', 'GAT':'D', 'GAA':'E', 'GAG':'E',\n",
    "    'GGA':'G', 'GGC':'G', 'GGG':'G', 'GGT':'G',\n",
    "    'TCA':'S', 'TCC':'S', 'TCG':'S', 'TCT':'S',\n",
    "    'TTC':'F', 'TTT':'F', 'TTA':'L', 'TTG':'L',\n",
    "    'TAC':'Y', 'TAT':'Y', 'TAA':'_', 'TAG':'_',\n",
    "    'TGC':'C', 'TGT':'C', 'TGA':'_', 'TGG':'W',\n",
    "}\n",
    "#print(table)\n",
    "# how to traverse a dictionary\n",
    "table['GAA']"
   ]
  },
  {
   "cell_type": "code",
   "execution_count": 17,
   "metadata": {},
   "outputs": [
    {
     "data": {
      "text/plain": [
       "'E'"
      ]
     },
     "execution_count": 17,
     "metadata": {},
     "output_type": "execute_result"
    }
   ],
   "source": [
    "# or\n",
    "table[\"GAA\"]"
   ]
  },
  {
   "cell_type": "markdown",
   "metadata": {},
   "source": [
    "## Check that the length of the seq is divisible by 3\n",
    "\n",
    "This can be done using `%` which checks if the remainder is zero.\n"
   ]
  },
  {
   "cell_type": "code",
   "execution_count": 20,
   "metadata": {},
   "outputs": [
    {
     "data": {
      "text/plain": [
       "2"
      ]
     },
     "execution_count": 20,
     "metadata": {},
     "output_type": "execute_result"
    }
   ],
   "source": [
    "len(seq) % 3 "
   ]
  },
  {
   "cell_type": "code",
   "execution_count": 2,
   "metadata": {},
   "outputs": [],
   "source": [
    "def translate(seq):\n",
    "    \"\"\"Translate a string containing a nucleotide sequence into a string containing the corresponding sequence of amino acids . Nucleotides are translated in triplets using the table dictionary; each amino acid 4 is encoded with a string of length 1\"\"\"\n",
    "    table = {\n",
    "    'ATA':'I', 'ATC':'I', 'ATT':'I', 'ATG':'M',\n",
    "    'ACA':'T', 'ACC':'T', 'ACG':'T', 'ACT':'T',\n",
    "    'AAC':'N', 'AAT':'N', 'AAA':'K', 'AAG':'K',\n",
    "    'AGC':'S', 'AGT':'S', 'AGA':'R', 'AGG':'R',\n",
    "    'CTA':'L', 'CTC':'L', 'CTG':'L', 'CTT':'L',\n",
    "    'CCA':'P', 'CCC':'P', 'CCG':'P', 'CCT':'P',\n",
    "    'CAC':'H', 'CAT':'H', 'CAA':'Q', 'CAG':'Q',\n",
    "    'CGA':'R', 'CGC':'R', 'CGG':'R', 'CGT':'R',\n",
    "    'GTA':'V', 'GTC':'V', 'GTG':'V', 'GTT':'V',\n",
    "    'GCA':'A', 'GCC':'A', 'GCG':'A', 'GCT':'A',\n",
    "    'GAC':'D', 'GAT':'D', 'GAA':'E', 'GAG':'E',\n",
    "    'GGA':'G', 'GGC':'G', 'GGG':'G', 'GGT':'G',\n",
    "    'TCA':'S', 'TCC':'S', 'TCG':'S', 'TCT':'S',\n",
    "    'TTC':'F', 'TTT':'F', 'TTA':'L', 'TTG':'L',\n",
    "    'TAC':'Y', 'TAT':'Y', 'TAA':'_', 'TAG':'_',\n",
    "    'TGC':'C', 'TGT':'C', 'TGA':'_', 'TGG':'W',\n",
    "    }\n",
    "    \n",
    "    protein = \"\"\n",
    "    if len(seq)%3 == 0:\n",
    "        for i in range(0, len(seq), 3):\n",
    "            codon = seq[i: i+3]\n",
    "            protein += table[codon]\n",
    "    return(protein)\n",
    "        \n",
    "    "
   ]
  },
  {
   "cell_type": "code",
   "execution_count": 66,
   "metadata": {},
   "outputs": [
    {
     "data": {
      "text/plain": [
       "'I'"
      ]
     },
     "execution_count": 66,
     "metadata": {},
     "output_type": "execute_result"
    }
   ],
   "source": [
    "# lets test it out\n",
    "translate(\"ATA\")"
   ]
  },
  {
   "cell_type": "code",
   "execution_count": 56,
   "metadata": {},
   "outputs": [
    {
     "name": "stdout",
     "output_type": "stream",
     "text": [
      "Help on function translate in module __main__:\n",
      "\n",
      "translate(seq)\n",
      "    Translate a string containing a nt seq into its corresponding protein seq by translating codons using translation table\n",
      "\n"
     ]
    }
   ],
   "source": [
    "help(translate) # the docstring gives the help menu"
   ]
  },
  {
   "cell_type": "code",
   "execution_count": 6,
   "metadata": {},
   "outputs": [
    {
     "data": {
      "text/plain": [
       "'MSTHDTSLKTTEEVAFQIILLCQFGVGTFANVFLFVYNFSPISTGSKQRPRQVILRHMAVANALTLFLTIFPNNMMTFAPIIPQTDLKCKLEFFTRLVARSTNLCSTCVLSIHQFVTLVPVNSGKGILRASVTNMASYSCYSCWFFSVLNNIYIPIKVTGPQLTDNNNNSKSKLFCSTSDFSVGIVFLRFAHDATFMSIMVWTSVSMVLLLHRHCQRMQYIFTLNQDPRGQAETTATHTILMLVVTFVGFYLLSLICIIFYTYFIYSHHSLRHCNDILVSGFPTISPLLLTFRDPKGPCSVFFNC'"
      ]
     },
     "execution_count": 6,
     "metadata": {},
     "output_type": "execute_result"
    }
   ],
   "source": [
    "profilename = \"./files/protein.txt\"\n",
    "pro = read_seq(profilename)\n",
    "pro"
   ]
  },
  {
   "cell_type": "code",
   "execution_count": 7,
   "metadata": {},
   "outputs": [
    {
     "data": {
      "text/plain": [
       "'GGTCAGAAAAAGCCCTCTCCATGTCTACTCACGATACATCCCTGAAAACCACTGAGGAAGTGGCTTTTCAGATCATCTTGCTTTGCCAGTTTGGGGTTGGGACTTTTGCCAATGTATTTCTCTTTGTCTATAATTTCTCTCCAATCTCGACTGGTTCTAAACAGAGGCCCAGACAAGTGATTTTAAGACACATGGCTGTGGCCAATGCCTTAACTCTCTTCCTCACTATATTTCCAAACAACATGATGACTTTTGCTCCAATTATTCCTCAAACTGACCTCAAATGTAAATTAGAATTCTTCACTCGCCTCGTGGCAAGAAGCACAAACTTGTGTTCAACTTGTGTTCTGAGTATCCATCAGTTTGTCACACTTGTTCCTGTTAATTCAGGTAAAGGAATACTCAGAGCAAGTGTCACAAACATGGCAAGTTATTCTTGTTACAGTTGTTGGTTCTTCAGTGTCTTAAATAACATCTACATTCCAATTAAGGTCACTGGTCCACAGTTAACAGACAATAACAATAACTCTAAAAGCAAGTTGTTCTGTTCCACTTCTGATTTCAGTGTAGGCATTGTCTTCTTGAGGTTTGCCCATGATGCCACATTCATGAGCATCATGGTCTGGACCAGTGTCTCCATGGTACTTCTCCTCCATAGACATTGTCAGAGAATGCAGTACATATTCACTCTCAATCAGGACCCCAGGGGCCAAGCAGAGACCACAGCAACCCATACTATCCTGATGCTGGTAGTCACATTTGTTGGCTTTTATCTTCTAAGTCTTATTTGTATCATCTTTTACACCTATTTTATATATTCTCATCATTCCCTGAGGCATTGCAATGACATTTTGGTTTCGGGTTTCCCTACAATTTCTCCTTTACTGTTGACCTTCAGAGACCCTAAGGGTCCTTGTTCTGTGTTCTTCAACTGTTGAAAGCCAGAGTCACTAAAAATGCCAAACACAGAAGACAGCTTTGCTAATACCATTAAATACTTTATTCCATAAATATGTTTTTAAAAGCTTGTATGAACAAGGTATGGTGCTCACTGCTATACTTATAAAAGAGTAAGGTTATAATCACTTGTTGATATGAAAAGATTTCTGGTTGGAATCTGATTGAAACAGTGAGTTATTCACCACCCTCCATTCTCT'"
      ]
     },
     "execution_count": 7,
     "metadata": {},
     "output_type": "execute_result"
    }
   ],
   "source": [
    "dnafilename = \"./files/dna.txt\"\n",
    "dna = read_seq(dnafilename)\n",
    "dna"
   ]
  },
  {
   "cell_type": "code",
   "execution_count": null,
   "metadata": {},
   "outputs": [],
   "source": [
    "translate(dna)"
   ]
  },
  {
   "cell_type": "markdown",
   "metadata": {},
   "source": [
    "Since our sequence length is not divisible by 3, we don't get anything returned by our function ! Checking with the original NCBI entry, we see that the CDS is actually between 21 - 938 ( 20 - 938 in python indexing)"
   ]
  },
  {
   "cell_type": "code",
   "execution_count": 41,
   "metadata": {},
   "outputs": [
    {
     "data": {
      "text/plain": [
       "'MSTHDTSLKTTEEVAFQIILLCQFGVGTFANVFLFVYNFSPISTGSKQRPRQVILRHMAVANALTLFLTIFPNNMMTFAPIIPQTDLKCKLEFFTRLVARSTNLCSTCVLSIHQFVTLVPVNSGKGILRASVTNMASYSCYSCWFFSVLNNIYIPIKVTGPQLTDNNNNSKSKLFCSTSDFSVGIVFLRFAHDATFMSIMVWTSVSMVLLLHRHCQRMQYIFTLNQDPRGQAETTATHTILMLVVTFVGFYLLSLICIIFYTYFIYSHHSLRHCNDILVSGFPTISPLLLTFRDPKGPCSVFFNC_'"
      ]
     },
     "execution_count": 41,
     "metadata": {},
     "output_type": "execute_result"
    }
   ],
   "source": [
    "translate(dna[20:938])"
   ]
  },
  {
   "cell_type": "code",
   "execution_count": 9,
   "metadata": {},
   "outputs": [
    {
     "data": {
      "text/plain": [
       "False"
      ]
     },
     "execution_count": 9,
     "metadata": {},
     "output_type": "execute_result"
    }
   ],
   "source": [
    "pro == translate(dna[20:938])"
   ]
  },
  {
   "cell_type": "markdown",
   "metadata": {},
   "source": [
    "Since the stop codon is included in our downloaded (and CDS positions), we see the extra `_` in our translation. So if we remove the last codon, our translation will be identical to that of the NCBI download protein seq"
   ]
  },
  {
   "cell_type": "code",
   "execution_count": 42,
   "metadata": {},
   "outputs": [
    {
     "data": {
      "text/plain": [
       "'MSTHDTSLKTTEEVAFQIILLCQFGVGTFANVFLFVYNFSPISTGSKQRPRQVILRHMAVANALTLFLTIFPNNMMTFAPIIPQTDLKCKLEFFTRLVARSTNLCSTCVLSIHQFVTLVPVNSGKGILRASVTNMASYSCYSCWFFSVLNNIYIPIKVTGPQLTDNNNNSKSKLFCSTSDFSVGIVFLRFAHDATFMSIMVWTSVSMVLLLHRHCQRMQYIFTLNQDPRGQAETTATHTILMLVVTFVGFYLLSLICIIFYTYFIYSHHSLRHCNDILVSGFPTISPLLLTFRDPKGPCSVFFNC'"
      ]
     },
     "execution_count": 42,
     "metadata": {},
     "output_type": "execute_result"
    }
   ],
   "source": [
    "translate(dna[20:935])"
   ]
  },
  {
   "cell_type": "code",
   "execution_count": 10,
   "metadata": {},
   "outputs": [
    {
     "data": {
      "text/plain": [
       "True"
      ]
     },
     "execution_count": 10,
     "metadata": {},
     "output_type": "execute_result"
    }
   ],
   "source": [
    "pro == translate(dna[20:935])"
   ]
  },
  {
   "cell_type": "markdown",
   "metadata": {},
   "source": [
    "Instead of removing the last codon of the DNA sequence, we could also simply omit the last amino acid of the translated sequence "
   ]
  },
  {
   "cell_type": "code",
   "execution_count": 11,
   "metadata": {},
   "outputs": [
    {
     "data": {
      "text/plain": [
       "True"
      ]
     },
     "execution_count": 11,
     "metadata": {},
     "output_type": "execute_result"
    }
   ],
   "source": [
    "pro == translate(dna[20:938])[:-1]"
   ]
  },
  {
   "cell_type": "code",
   "execution_count": 12,
   "metadata": {},
   "outputs": [
    {
     "data": {
      "text/plain": [
       "True"
      ]
     },
     "execution_count": 12,
     "metadata": {},
     "output_type": "execute_result"
    }
   ],
   "source": [
    "translate(dna[20:938])[:-1] == translate(dna[20:935])"
   ]
  },
  {
   "cell_type": "markdown",
   "metadata": {},
   "source": [
    "## Homework \n",
    "\n",
    "**Exercise 1**\n",
    "\n",
    "A cipher is a secret code for a language. In this case study, we will explore a cipher that is reported by contemporary Greek historians to have been used by Julius Caesar to send secret messages to generals during times of war.\n",
    "\n",
    "The Caesar cipher shifts each letter of a message to another letter in the alphabet located a fixed distance from the original letter. If our encryption key were 1, we would shift `h` to the next letter `i`, `i` to the next letter `j`, and so on. If we reach the end of the alphabet, which for us is the space character, we simply loop back to `a`. To decode the message, we make a similar shift, except we move the same number of steps backwards in the alphabet.\n",
    "\n",
    "Over the next five exercises, we will create our own Caesar cipher, as well as a message decoder for this cipher. In this exercise, we will define the alphabet used in the cipher.\n",
    "\n",
    "-  The `string` library has been imported. Create a string called `alphabet` consisting of the lowercase letters of the space character space `' '`, concatenated with string.ascii_lowercase at the end."
   ]
  },
  {
   "cell_type": "code",
   "execution_count": null,
   "metadata": {},
   "outputs": [],
   "source": [
    "import string\n",
    "alphabet = (' ') + string.ascii_lowercase"
   ]
  },
  {
   "cell_type": "markdown",
   "metadata": {},
   "source": [
    "**Exercise 2**\n",
    "\n",
    "In this exercise, we will define a dictionary that specifies the index of each character in alphabet.\n",
    "\n",
    "-  `alphabet` has already defined from the last exercise. Create a dictionary with keys consisting of the characters in `alphabet`, and values consisting of the numbers from 0 to 26.\n",
    "-  Store this as `positions`.\n"
   ]
  },
  {
   "cell_type": "code",
   "execution_count": null,
   "metadata": {},
   "outputs": [],
   "source": [
    "positions = {}\n",
    "cnt = 0\n",
    "for k in list(alphabet):\n",
    "    positions[k] = cnt\n",
    "    cnt +=1"
   ]
  },
  {
   "cell_type": "markdown",
   "metadata": {},
   "source": [
    "**Exercise 3**\n",
    "\n",
    "In this exercise, we will encode a message with a Caesar cipher.\n",
    "\n",
    "-  `alphabet` and `positions` have already been defined from previous exercises. Use `positions` to create an encoded message based on message where each character in message has been shifted forward by 1 position, as defined by positions. Note that you can ensure the result remains within 0-26 using result % 27\n",
    "-  Store this as `encoded_message`.\n"
   ]
  },
  {
   "cell_type": "code",
   "execution_count": null,
   "metadata": {},
   "outputs": [],
   "source": [
    "message = \"hi my name is caesar\"\n",
    "alphabet\n",
    "encoded_message = ''\n",
    "newvals = []\n",
    "for x in list(message):\n",
    "    #print(x + \"=\"+str(positions[x]))\n",
    "        #print(x)\n",
    "    if positions[x] != 26:\n",
    "        newpos = positions[x]+1\n",
    "        newvals.append(newpos)\n",
    "        #print(x + \"is now =\"+ str(newpos))\n",
    "    else:\n",
    "        newpos = 0\n",
    "        newvals.append(newpos)\n",
    "        #print(x + \"is now =\"+ str(newpos))      \n",
    "\n",
    "#newvals\n",
    "for val in newvals:\n",
    "    for m in positions.keys():\n",
    "        if positions[m] == val:\n",
    "            #print(m)\n",
    "            encoded_message += m\n",
    "\n",
    "encoded_message"
   ]
  },
  {
   "cell_type": "raw",
   "metadata": {},
   "source": [
    "# instructor answer\n",
    "encoding_list = []\n",
    "for char in message:\n",
    "    position = positions[char]\n",
    "    encoded_position = (position + 1) % 27\n",
    "    encoding_list.append(alphabet[encoded_position])\n",
    "encoded_string = \"\".join(encoding_list)"
   ]
  },
  {
   "cell_type": "markdown",
   "metadata": {},
   "source": [
    "**Exercise 4 **\n",
    "\n",
    "In this exercise, we will define a function that encodes a message with any given encryption key.\n",
    "\n",
    "-  `alphabet`, `position` and `message` remain defined from previous exercises. In addition, sample code for the previous exercise is provided below. Modify this code to define a function `encoding` that takes a message as input as well as an `int` encryption key `key` to encode a message with the Caesar cipher by shifting each letter in `message` by `key` positions.\n",
    "-  Your function should return a string consisting of these encoded letters.\n",
    "-  Use `encode` to encode `message` using `key = 3`, and save the result as `encoded_message`.\n",
    "-  Print `encoded_message`"
   ]
  },
  {
   "cell_type": "code",
   "execution_count": null,
   "metadata": {},
   "outputs": [],
   "source": [
    "def encoding(message,key):\n",
    "    encoding_list = []\n",
    "    for char in message:\n",
    "        position = positions[char]\n",
    "        encoded_position = (position + key) % 27\n",
    "        encoding_list.append(alphabet[encoded_position])\n",
    "    encoded_string = \"\".join(encoding_list)\n",
    "    return(encoded_string)\n",
    "\n",
    "encoded_message = encoding(message,3)\n",
    "print(encoded_message)"
   ]
  },
  {
   "cell_type": "markdown",
   "metadata": {},
   "source": [
    "**Exercise 5 **\n",
    "\n",
    "In this exercise, we will decode an encoded message.\n",
    "\n",
    "\n",
    "-  Note that `encoding` and `encoded_message` are already loaded from the previous problem. Use `encoding` to decode encoded_message using `key = -3`.\n",
    "-  Store your decoded message as `decoded_message`.\n",
    "-  Print `decoded_message`. Does this recover your original message?\n"
   ]
  },
  {
   "cell_type": "code",
   "execution_count": null,
   "metadata": {},
   "outputs": [],
   "source": [
    "decoded_message = encoding(encoded_message,-3)\n",
    "print(decoded_message)"
   ]
  },
  {
   "cell_type": "markdown",
   "metadata": {},
   "source": [
    "## Case study 2: Language Processing\n",
    "\n",
    "In this case study we are going to use the Gutenburg project to count the unique words in different books.\n"
   ]
  },
  {
   "cell_type": "code",
   "execution_count": 6,
   "metadata": {},
   "outputs": [],
   "source": [
    "text = \"This is my text string. We're keeping this text short to keep it manageable\"\n",
    "\n",
    "def count_words(text):\n",
    "    \"\"\"Counts the number of times each word occurs in text (str). Return dictionary, where keys are unique words and the values are word counts\"\"\"\n",
    "    word_counts = {}\n",
    "    for word in text.split(\" \"):\n",
    "        if word in word_counts:\n",
    "            word_counts[word] += 1\n",
    "        else:\n",
    "            word_counts[word] = 1\n",
    "    return word_counts\n"
   ]
  },
  {
   "cell_type": "markdown",
   "metadata": {},
   "source": [
    "From the result we see few problems that will cause word count inflations.\n",
    "\n",
    "-  words with first letter capitalized <- easy to fix by changing everything to lower case\n",
    "-  words with periods <- more complex to address\n",
    "\n",
    "(test this option later-> [s.translate(None, string.punctuation) for s in test_case])\n",
    "Lets re-write our function "
   ]
  },
  {
   "cell_type": "code",
   "execution_count": 7,
   "metadata": {},
   "outputs": [
    {
     "data": {
      "text/plain": [
       "{'is': 1,\n",
       " 'it': 1,\n",
       " 'keep': 1,\n",
       " 'keeping': 1,\n",
       " 'manageable': 1,\n",
       " 'my': 1,\n",
       " 'short': 1,\n",
       " 'string': 1,\n",
       " 'text': 2,\n",
       " 'this': 2,\n",
       " 'to': 1,\n",
       " 'were': 1}"
      ]
     },
     "execution_count": 7,
     "metadata": {},
     "output_type": "execute_result"
    }
   ],
   "source": [
    "def count_words(text):\n",
    "    \"\"\"Counts the number of times each word occurs in text (str). Return dictionary, where keys are unique words and the values are word counts. Punctuations are skipped and first letter capitalizations are ignored\"\"\"\n",
    "    text = text.lower()\n",
    "    skips = [\",\",\".\",\";\",\":\",\"'\",'\"'] # note that \" is enclosed within single quotes\n",
    "    for ch in skips:\n",
    "        text = text.replace(ch, \"\")\n",
    "    word_counts = {}\n",
    "    for word in text.split(\" \"):\n",
    "        if word in word_counts:\n",
    "            word_counts[word] += 1\n",
    "        else:\n",
    "            word_counts[word] = 1\n",
    "    return word_counts\n",
    "\n",
    "count_words(text)"
   ]
  },
  {
   "cell_type": "markdown",
   "metadata": {},
   "source": [
    "Python has a `collections` module that has a `counter` function that is very handy for our purpose"
   ]
  },
  {
   "cell_type": "code",
   "execution_count": 8,
   "metadata": {},
   "outputs": [],
   "source": [
    "from collections import Counter\n",
    "\n",
    "def count_words_fast(text):\n",
    "    \"\"\"Counts the number of times each word occurs in text (str). Return dictionary, where keys are unique words and the values are word counts. Punctuations are skipped and first letter capitalizations are ignored\"\"\"\n",
    "    text = text.lower()\n",
    "    skips = [\",\",\".\",\";\",\":\",\"'\",'\"'] # note that \" is enclosed within single quotes\n",
    "    for ch in skips:\n",
    "        text = text.replace(ch, \"\")\n",
    "    word_counts = Counter(text.split(\" \"))\n",
    "    return word_counts"
   ]
  },
  {
   "cell_type": "code",
   "execution_count": null,
   "metadata": {},
   "outputs": [],
   "source": [
    "count_words(text)"
   ]
  },
  {
   "cell_type": "code",
   "execution_count": null,
   "metadata": {},
   "outputs": [],
   "source": [
    "count_words_fast(text)"
   ]
  },
  {
   "cell_type": "code",
   "execution_count": 9,
   "metadata": {},
   "outputs": [
    {
     "data": {
      "text/plain": [
       "True"
      ]
     },
     "execution_count": 9,
     "metadata": {},
     "output_type": "execute_result"
    }
   ],
   "source": [
    "count_words(text) == count_words_fast(text)"
   ]
  },
  {
   "cell_type": "code",
   "execution_count": 5,
   "metadata": {},
   "outputs": [
    {
     "data": {
      "text/plain": [
       "6"
      ]
     },
     "execution_count": 5,
     "metadata": {},
     "output_type": "execute_result"
    }
   ],
   "source": [
    "len(count_words(\"This comprehension check is to check for comprehension.\"))"
   ]
  },
  {
   "cell_type": "code",
   "execution_count": 9,
   "metadata": {},
   "outputs": [],
   "source": [
    "def read_book(title_path):\n",
    "    \"\"\"Read a book and return it as a string\"\"\"\n",
    "    with open(title_path,\"r\", encoding=\"utf8\") as current_file:\n",
    "        text = current_file.read()\n",
    "        text = text.replace(\"\\n\",\"\").replace(\"\\r\",\"\")\n",
    "    return(text)"
   ]
  },
  {
   "cell_type": "code",
   "execution_count": 7,
   "metadata": {},
   "outputs": [
    {
     "data": {
      "text/plain": [
       "169275"
      ]
     },
     "execution_count": 7,
     "metadata": {},
     "output_type": "execute_result"
    }
   ],
   "source": [
    "text = read_book(\"./files/gutenburg/English/shakespeare/Romeo and Juliet.txt\")\n",
    "len(text)"
   ]
  },
  {
   "cell_type": "markdown",
   "metadata": {},
   "source": [
    "Lets see if we can find the famous line \"What's in a name?\" in our read string"
   ]
  },
  {
   "cell_type": "code",
   "execution_count": 19,
   "metadata": {},
   "outputs": [
    {
     "data": {
      "text/plain": [
       "42757"
      ]
     },
     "execution_count": 19,
     "metadata": {},
     "output_type": "execute_result"
    }
   ],
   "source": [
    "ind = text.find(\"What's in a name?\")\n",
    "ind"
   ]
  },
  {
   "cell_type": "markdown",
   "metadata": {},
   "source": [
    "So the line is there and the returned index gives its starting position"
   ]
  },
  {
   "cell_type": "code",
   "execution_count": 21,
   "metadata": {},
   "outputs": [
    {
     "data": {
      "text/plain": [
       "\"What's in a name? That which we call a rose    By any other name would smell as sweet.    So Romeo would, were he not Romeo call'd,    Retain that dear perfection which he owes    Without that title. Romeo, doff thy name;    And for that name, which is no part of thee,    Take all myself.  Rom. I take thee at thy word.    Call me but love, and I'll be new baptiz'd;    Henceforth I never will be Romeo.  Jul. What man art thou that, thus bescreen'd in night,    So stumblest on my counsel?  Rom. By a name    I know not how to tell thee who I am.    My name, dear saint, is hateful to myself,    Because it is an enemy to thee.    Had I it written, I would tear the word.  Jul. My ears have yet not drunk a hundred words    Of that tongue's utterance, yet I know the sound.    Art thou not Romeo, and a Montague?  Rom. Neither, fair saint, if either thee dislike.  Jul. How cam'st thou hither, tell me, and wherefore?    The orchard walls are high and hard to climb,    And the place death, conside\""
      ]
     },
     "execution_count": 21,
     "metadata": {},
     "output_type": "execute_result"
    }
   ],
   "source": [
    "sample_text = text[ind: ind+1000]\n",
    "sample_text"
   ]
  },
  {
   "cell_type": "code",
   "execution_count": 11,
   "metadata": {},
   "outputs": [],
   "source": [
    "def word_stats(word_counts):\n",
    "    \"\"\"Return number of unique words and word frequencies\"\"\"\n",
    "    num_unique = len(word_counts) # since this is a dictionary of unique words, the length should give us the number of unique keys aka words\n",
    "    counts = word_counts.values() # will return the freq or counts of each unique word in our texty\n",
    "    return(num_unique, counts)"
   ]
  },
  {
   "cell_type": "code",
   "execution_count": null,
   "metadata": {},
   "outputs": [],
   "source": [
    "text = read_book(\"./files/gutenburg/English/shakespeare/Romeo and Juliet.txt\")\n",
    "word_counts = count_words_fast(text)\n",
    "(num_unique, counts) = word_stats(word_counts)"
   ]
  },
  {
   "cell_type": "code",
   "execution_count": 30,
   "metadata": {},
   "outputs": [
    {
     "name": "stdout",
     "output_type": "stream",
     "text": [
      "5118 40776\n"
     ]
    }
   ],
   "source": [
    "print(num_unique,sum(counts))"
   ]
  },
  {
   "cell_type": "code",
   "execution_count": null,
   "metadata": {},
   "outputs": [],
   "source": [
    "sum(counts) # words in total"
   ]
  },
  {
   "cell_type": "markdown",
   "metadata": {},
   "source": [
    "How does the Romeo and Juliet in English compare with its translation in german?"
   ]
  },
  {
   "cell_type": "code",
   "execution_count": 27,
   "metadata": {},
   "outputs": [],
   "source": [
    "textg = read_book(\"./files/gutenburg/German/shakespeare/Romeo und Julia.txt\")\n",
    "word_countsg = count_words_fast(textg)\n",
    "(num_uniqueg, countsg) = word_stats(word_countsg)"
   ]
  },
  {
   "cell_type": "code",
   "execution_count": 31,
   "metadata": {},
   "outputs": [
    {
     "name": "stdout",
     "output_type": "stream",
     "text": [
      "7527 20311\n"
     ]
    }
   ],
   "source": [
    "print(num_uniqueg,sum(countsg))"
   ]
  },
  {
   "cell_type": "markdown",
   "metadata": {},
   "source": [
    "### Opening multiple files"
   ]
  },
  {
   "cell_type": "code",
   "execution_count": 21,
   "metadata": {},
   "outputs": [
    {
     "ename": "NotADirectoryError",
     "evalue": "[Errno 20] Not a directory: './files/gutenburg/.DS_Store'",
     "output_type": "error",
     "traceback": [
      "\u001b[0;31m---------------------------------------------------------------------------\u001b[0m",
      "\u001b[0;31mNotADirectoryError\u001b[0m                        Traceback (most recent call last)",
      "\u001b[0;32m<ipython-input-21-122e1dc091cc>\u001b[0m in \u001b[0;36m<module>\u001b[0;34m()\u001b[0m\n\u001b[1;32m      3\u001b[0m \u001b[0;34m\u001b[0m\u001b[0m\n\u001b[1;32m      4\u001b[0m \u001b[0;32mfor\u001b[0m \u001b[0mlanguage\u001b[0m \u001b[0;32min\u001b[0m \u001b[0mos\u001b[0m\u001b[0;34m.\u001b[0m\u001b[0mlistdir\u001b[0m\u001b[0;34m(\u001b[0m\u001b[0mbook_dir\u001b[0m\u001b[0;34m)\u001b[0m\u001b[0;34m:\u001b[0m\u001b[0;34m\u001b[0m\u001b[0m\n\u001b[0;32m----> 5\u001b[0;31m     \u001b[0;32mfor\u001b[0m \u001b[0mauthor\u001b[0m \u001b[0;32min\u001b[0m \u001b[0mos\u001b[0m\u001b[0;34m.\u001b[0m\u001b[0mlistdir\u001b[0m\u001b[0;34m(\u001b[0m\u001b[0mbook_dir\u001b[0m \u001b[0;34m+\u001b[0m \u001b[0;34m\"/\"\u001b[0m \u001b[0;34m+\u001b[0m \u001b[0mlanguage\u001b[0m\u001b[0;34m)\u001b[0m\u001b[0;34m:\u001b[0m\u001b[0;34m\u001b[0m\u001b[0m\n\u001b[0m\u001b[1;32m      6\u001b[0m         \u001b[0;32mfor\u001b[0m \u001b[0mtitle\u001b[0m \u001b[0;32min\u001b[0m \u001b[0mos\u001b[0m\u001b[0;34m.\u001b[0m\u001b[0mlistdir\u001b[0m\u001b[0;34m(\u001b[0m\u001b[0mbook_dir\u001b[0m \u001b[0;34m+\u001b[0m \u001b[0;34m\"/\"\u001b[0m \u001b[0;34m+\u001b[0m \u001b[0mlanguage\u001b[0m \u001b[0;34m+\u001b[0m \u001b[0;34m\"/\"\u001b[0m \u001b[0;34m+\u001b[0m \u001b[0mauthor\u001b[0m\u001b[0;34m)\u001b[0m\u001b[0;34m:\u001b[0m\u001b[0;34m\u001b[0m\u001b[0m\n\u001b[1;32m      7\u001b[0m             \u001b[0minputfile\u001b[0m \u001b[0;34m=\u001b[0m \u001b[0mbook_dir\u001b[0m \u001b[0;34m+\u001b[0m \u001b[0;34m\"/\"\u001b[0m \u001b[0;34m+\u001b[0m \u001b[0mlanguage\u001b[0m \u001b[0;34m+\u001b[0m \u001b[0;34m\"/\"\u001b[0m \u001b[0;34m+\u001b[0m \u001b[0mauthor\u001b[0m \u001b[0;34m+\u001b[0m \u001b[0;34m\"/\"\u001b[0m \u001b[0;34m+\u001b[0m \u001b[0mtitle\u001b[0m\u001b[0;34m\u001b[0m\u001b[0m\n",
      "\u001b[0;31mNotADirectoryError\u001b[0m: [Errno 20] Not a directory: './files/gutenburg/.DS_Store'"
     ]
    }
   ],
   "source": [
    "import os\n",
    "book_dir = \"./files/gutenburg\"\n",
    "\n",
    "for language in os.listdir(book_dir):\n",
    "    for author in os.listdir(book_dir + \"/\" + language):\n",
    "        for title in os.listdir(book_dir + \"/\" + language + \"/\" + author):\n",
    "            inputfile = book_dir + \"/\" + language + \"/\" + author + \"/\" + title\n",
    "            print(inputfile)"
   ]
  },
  {
   "cell_type": "markdown",
   "metadata": {},
   "source": [
    "In the above code, I keep getting error for the hidden file `.DS_Store` . In the class discussion forum this issue was faced by someone else too. A suggested answer (by: DrBobby) was a custom code to filter out hidden files."
   ]
  },
  {
   "cell_type": "code",
   "execution_count": 4,
   "metadata": {},
   "outputs": [],
   "source": [
    "def listdir_filtered(dir_path):\n",
    "    \"\"\"\n",
    "    Filtering out hidden objects in a directory (i.e., such whose respective names start with \".\"), \n",
    "    out of the original list returned by the os.listdir(dir_path)\n",
    "    \"\"\"\n",
    "    dirs = os.listdir(dir_path)\n",
    "    dir_hidden_filter = [dir.startswith('.') for dir in dirs]\n",
    "    return [dir for (dir, hidden) in zip(dirs, dir_hidden_filter) if not hidden]"
   ]
  },
  {
   "cell_type": "markdown",
   "metadata": {},
   "source": [
    "Lets try rewriting the above code using this function"
   ]
  },
  {
   "cell_type": "code",
   "execution_count": 66,
   "metadata": {},
   "outputs": [
    {
     "name": "stdout",
     "output_type": "stream",
     "text": [
      "./files/gutenburg/English/shakespeare/A Midsummer Night's Dream.txt\n",
      "./files/gutenburg/English/shakespeare/Hamlet.txt\n",
      "./files/gutenburg/English/shakespeare/Macbeth.txt\n",
      "./files/gutenburg/English/shakespeare/Othello.txt\n",
      "./files/gutenburg/English/shakespeare/Richard III.txt\n",
      "./files/gutenburg/English/shakespeare/Romeo and Juliet.txt\n",
      "./files/gutenburg/English/shakespeare/The Merchant of Venice.txt\n",
      "./files/gutenburg/French/chevalier/L'åle de sable.txt\n",
      "./files/gutenburg/French/chevalier/L'enfer et le paradis de l'autre monde.txt\n",
      "./files/gutenburg/French/chevalier/La capitaine.txt\n",
      "./files/gutenburg/French/chevalier/La fille des indiens rouges.txt\n",
      "./files/gutenburg/French/chevalier/La fille du pirate.txt\n",
      "./files/gutenburg/French/chevalier/Le chasseur noir.txt\n",
      "./files/gutenburg/French/chevalier/Les derniers Iroquois.txt\n",
      "./files/gutenburg/French/de Maupassant/Boule de Suif.txt\n",
      "./files/gutenburg/French/de Maupassant/Claire de Lune.txt\n",
      "./files/gutenburg/French/de Maupassant/Contes de la Becasse.txt\n",
      "./files/gutenburg/French/de Maupassant/L'inutile beautÇ.txt\n",
      "./files/gutenburg/French/de Maupassant/La Main Gauche.txt\n",
      "./files/gutenburg/French/de Maupassant/La Maison Tellier.txt\n",
      "./files/gutenburg/French/de Maupassant/La petite roque.txt\n",
      "./files/gutenburg/French/de Maupassant/Le Horla.txt\n",
      "./files/gutenburg/French/de Maupassant/Œuvres complètes de Guy de Maupassant.txt\n",
      "./files/gutenburg/French/diderot/Ceci n'est pas un conte.txt\n",
      "./files/gutenburg/French/diderot/Entretien d'un päre avec ses enfants.txt\n",
      "./files/gutenburg/French/diderot/L'oiseau blanc.txt\n",
      "./files/gutenburg/French/diderot/Les deux amis de Bourbonne.txt\n",
      "./files/gutenburg/French/diderot/Regrets sur ma vieille robe de chambre.txt\n",
      "./files/gutenburg/French/sand/cora.txt\n",
      "./files/gutenburg/French/sand/Jacques le fataliste et son maåtre.txt\n",
      "./files/gutenburg/French/sand/L' Orco.txt\n",
      "./files/gutenburg/French/sand/La Coupe; Lupo Liverani; Le Toast; Garnier; Le Contrebandier; La Ràverie Ö Paris.txt\n",
      "./files/gutenburg/French/sand/La Marquise.txt\n",
      "./files/gutenburg/French/sand/Le Piccinino.txt\n",
      "./files/gutenburg/French/sand/Le poâme de Myrza.txt\n",
      "./files/gutenburg/French/sand/Mattea.txt\n",
      "./files/gutenburg/French/sand/Metella.txt\n",
      "./files/gutenburg/French/sand/Oeuvres illustrÇes de George Sand.txt\n",
      "./files/gutenburg/French/sand/Pauline.txt\n",
      "./files/gutenburg/German/lessing/der freigeist.txt\n",
      "./files/gutenburg/German/lessing/der junge gelehrte.txt\n",
      "./files/gutenburg/German/lessing/die juden.txt\n",
      "./files/gutenburg/German/lessing/emilia galotti.txt\n",
      "./files/gutenburg/German/lessing/hamburgische dramaturgie.txt\n",
      "./files/gutenburg/German/lessing/minna von barnhelm.txt\n",
      "./files/gutenburg/German/lessing/miss sara sampson.txt\n",
      "./files/gutenburg/German/lessing/philotas.txt\n",
      "./files/gutenburg/German/raimund/Das MÑdchen aus der Feenwelt.txt\n",
      "./files/gutenburg/German/raimund/Der Alpenkînig und der Menschenfeind.txt\n",
      "./files/gutenburg/German/raimund/Der Barometermacher auf der Zauberinsel.txt\n",
      "./files/gutenburg/German/raimund/Der Diamant des Geisterkînigs.txt\n",
      "./files/gutenburg/German/raimund/Der Verschwender.txt\n",
      "./files/gutenburg/German/raimund/Die gefesselte Phantasie.txt\n",
      "./files/gutenburg/German/raimund/Die unheilbringende Krone.txt\n",
      "./files/gutenburg/German/raimund/Moisasurs Zauberfluch.txt\n",
      "./files/gutenburg/German/schiller/Der Neffe als Onkel.txt\n",
      "./files/gutenburg/German/schiller/Der Parasit, oder die Kunst, sein GlÅck zu machen.txt\n",
      "./files/gutenburg/German/schiller/die braut von messina.txt\n",
      "./files/gutenburg/German/schiller/Die Huldigung der KÅnste.txt\n",
      "./files/gutenburg/German/schiller/Die Jungfrau von Orleans.txt\n",
      "./files/gutenburg/German/schiller/Die Piccolomini.txt\n",
      "./files/gutenburg/German/schiller/Die Verschwîrung des Fiesco zu Genua.txt\n",
      "./files/gutenburg/German/schiller/Kabale und Liebe.txt\n",
      "./files/gutenburg/German/schiller/Turandot, Prinzessin von China.txt\n",
      "./files/gutenburg/German/schiller/Wallensteins Lager.txt\n",
      "./files/gutenburg/German/schiller/Wallensteins Tod.txt\n",
      "./files/gutenburg/German/shakespeare/Der Kaufmann von Venedig.txt\n",
      "./files/gutenburg/German/shakespeare/Ein Sommernachtstraum.txt\n",
      "./files/gutenburg/German/shakespeare/Hamlet.txt\n",
      "./files/gutenburg/German/shakespeare/Macbeth.txt\n",
      "./files/gutenburg/German/shakespeare/Othello.txt\n",
      "./files/gutenburg/German/shakespeare/Richard III.txt\n",
      "./files/gutenburg/German/shakespeare/Romeo und Julia.txt\n",
      "./files/gutenburg/Portuguese/branco/A Filha do Arcediago.txt\n",
      "./files/gutenburg/Portuguese/branco/A Neta do Arcediago.txt\n",
      "./files/gutenburg/Portuguese/branco/A Queda d'um Anjo.txt\n",
      "./files/gutenburg/Portuguese/branco/Agulha em Palheiro.txt\n",
      "./files/gutenburg/Portuguese/branco/Amor de Perdição.txt\n",
      "./files/gutenburg/Portuguese/branco/Amor de Salvação.txt\n",
      "./files/gutenburg/Portuguese/branco/Annos de Prosa.txt\n",
      "./files/gutenburg/Portuguese/branco/Carlota Angela.txt\n",
      "./files/gutenburg/Portuguese/branco/Estrellas Funestas.txt\n",
      "./files/gutenburg/Portuguese/branco/Estrellas Prop°cias.txt\n",
      "./files/gutenburg/Portuguese/branco/Lagrimas Abenáoadas.txt\n",
      "./files/gutenburg/Portuguese/branco/Livro de Consolação.txt\n",
      "./files/gutenburg/Portuguese/branco/O Olho de Vidro.txt\n",
      "./files/gutenburg/Portuguese/branco/O que fazem mulheres.txt\n",
      "./files/gutenburg/Portuguese/branco/O Regicida.txt\n",
      "./files/gutenburg/Portuguese/branco/Scenas Contemporaneas.txt\n",
      "./files/gutenburg/Portuguese/dinis/A Morgadinha dos Cannaviaes.txt\n",
      "./files/gutenburg/Portuguese/dinis/Os fidalgos da Casa Mourisca.txt\n",
      "./files/gutenburg/Portuguese/dinis/Uma fam°lia ingleza.txt\n",
      "./files/gutenburg/Portuguese/Queir¢s/A Cidade e as Serras.txt\n",
      "./files/gutenburg/Portuguese/Queir¢s/A correspondància de Fradique Mendes.txt\n",
      "./files/gutenburg/Portuguese/Queir¢s/A Illustre Casa de Ramires.txt\n",
      "./files/gutenburg/Portuguese/Queir¢s/A Rel°quia.txt\n",
      "./files/gutenburg/Portuguese/Queir¢s/Cartas de Inglaterra.txt\n",
      "./files/gutenburg/Portuguese/Queir¢s/O crime do padre Amaro.txt\n",
      "./files/gutenburg/Portuguese/Queir¢s/O Mandarim.txt\n",
      "./files/gutenburg/Portuguese/Queir¢s/O Primo Bazilio.txt\n",
      "./files/gutenburg/Portuguese/Queir¢s/Os Maias.txt\n",
      "./files/gutenburg/Portuguese/shakespeare/Hamlet.txt\n"
     ]
    }
   ],
   "source": [
    "import os\n",
    "book_dir = \"./files/gutenburg\"\n",
    "\n",
    "for language in listdir_filtered(book_dir):\n",
    "    for author in listdir_filtered(book_dir + \"/\" + language):\n",
    "        for title in listdir_filtered(book_dir + \"/\" + language + \"/\" + author):\n",
    "            inputfile = book_dir + \"/\" + language + \"/\" + author + \"/\" + title\n",
    "            print(inputfile)"
   ]
  },
  {
   "cell_type": "markdown",
   "metadata": {},
   "source": [
    "The code does work ! Another way that I found is using `os.walk`"
   ]
  },
  {
   "cell_type": "code",
   "execution_count": 102,
   "metadata": {},
   "outputs": [
    {
     "name": "stdout",
     "output_type": "stream",
     "text": [
      "['English', 'French', 'German', 'Portuguese']\n",
      "['shakespeare']\n",
      "[]\n",
      "['chevalier', 'de Maupassant', 'diderot', 'sand']\n",
      "[]\n",
      "[]\n",
      "[]\n",
      "[]\n",
      "['lessing', 'raimund', 'schiller', 'shakespeare']\n",
      "[]\n",
      "[]\n",
      "[]\n",
      "[]\n",
      "['branco', 'dinis', 'Queir¢s', 'shakespeare']\n",
      "[]\n",
      "[]\n",
      "[]\n",
      "[]\n"
     ]
    }
   ],
   "source": [
    "for path, directories, files in os.walk(\"./files/gutenburg/\"):  \n",
    "    #print(path)\n",
    "    print(directories)\n",
    "    #print(files) # shows hidden files"
   ]
  },
  {
   "cell_type": "code",
   "execution_count": 36,
   "metadata": {},
   "outputs": [
    {
     "name": "stdout",
     "output_type": "stream",
     "text": [
      "A Midsummer Night's Dream.txt\n",
      "Hamlet.txt\n",
      "Macbeth.txt\n",
      "Othello.txt\n",
      "Richard III.txt\n",
      "Romeo and Juliet.txt\n",
      "The Merchant of Venice.txt\n",
      "L'åle de sable.txt\n",
      "L'enfer et le paradis de l'autre monde.txt\n",
      "La capitaine.txt\n",
      "La fille des indiens rouges.txt\n",
      "La fille du pirate.txt\n",
      "Le chasseur noir.txt\n",
      "Les derniers Iroquois.txt\n",
      "Boule de Suif.txt\n",
      "Claire de Lune.txt\n",
      "Contes de la Becasse.txt\n",
      "L'inutile beautÇ.txt\n",
      "La Main Gauche.txt\n",
      "La Maison Tellier.txt\n",
      "La petite roque.txt\n",
      "Le Horla.txt\n",
      "Œuvres complètes de Guy de Maupassant.txt\n",
      "Ceci n'est pas un conte.txt\n",
      "Entretien d'un päre avec ses enfants.txt\n",
      "L'oiseau blanc.txt\n",
      "Les deux amis de Bourbonne.txt\n",
      "Regrets sur ma vieille robe de chambre.txt\n",
      "cora.txt\n",
      "Jacques le fataliste et son maåtre.txt\n",
      "L' Orco.txt\n",
      "La Coupe; Lupo Liverani; Le Toast; Garnier; Le Contrebandier; La Ràverie Ö Paris.txt\n",
      "La Marquise.txt\n",
      "Le Piccinino.txt\n",
      "Le poâme de Myrza.txt\n",
      "Mattea.txt\n",
      "Metella.txt\n",
      "Oeuvres illustrÇes de George Sand.txt\n",
      "Pauline.txt\n",
      "der freigeist.txt\n",
      "der junge gelehrte.txt\n",
      "die juden.txt\n",
      "emilia galotti.txt\n",
      "hamburgische dramaturgie.txt\n",
      "minna von barnhelm.txt\n",
      "miss sara sampson.txt\n",
      "philotas.txt\n",
      "Das MÑdchen aus der Feenwelt.txt\n",
      "Der Alpenkînig und der Menschenfeind.txt\n",
      "Der Barometermacher auf der Zauberinsel.txt\n",
      "Der Diamant des Geisterkînigs.txt\n",
      "Der Verschwender.txt\n",
      "Die gefesselte Phantasie.txt\n",
      "Die unheilbringende Krone.txt\n",
      "Moisasurs Zauberfluch.txt\n",
      "Der Neffe als Onkel.txt\n",
      "Der Parasit, oder die Kunst, sein GlÅck zu machen.txt\n",
      "die braut von messina.txt\n",
      "Die Huldigung der KÅnste.txt\n",
      "Die Jungfrau von Orleans.txt\n",
      "Die Piccolomini.txt\n",
      "Die Verschwîrung des Fiesco zu Genua.txt\n",
      "Kabale und Liebe.txt\n",
      "Turandot, Prinzessin von China.txt\n",
      "Wallensteins Lager.txt\n",
      "Wallensteins Tod.txt\n",
      "Der Kaufmann von Venedig.txt\n",
      "Ein Sommernachtstraum.txt\n",
      "Hamlet.txt\n",
      "Macbeth.txt\n",
      "Othello.txt\n",
      "Richard III.txt\n",
      "Romeo und Julia.txt\n",
      "A Filha do Arcediago.txt\n",
      "A Neta do Arcediago.txt\n",
      "A Queda d'um Anjo.txt\n",
      "Agulha em Palheiro.txt\n",
      "Amor de Perdição.txt\n",
      "Amor de Salvação.txt\n",
      "Annos de Prosa.txt\n",
      "Carlota Angela.txt\n",
      "Estrellas Funestas.txt\n",
      "Estrellas Prop°cias.txt\n",
      "Lagrimas Abenáoadas.txt\n",
      "Livro de Consolação.txt\n",
      "O Olho de Vidro.txt\n",
      "O que fazem mulheres.txt\n",
      "O Regicida.txt\n",
      "Scenas Contemporaneas.txt\n",
      "A Morgadinha dos Cannaviaes.txt\n",
      "Os fidalgos da Casa Mourisca.txt\n",
      "Uma fam°lia ingleza.txt\n",
      "A Cidade e as Serras.txt\n",
      "A correspondància de Fradique Mendes.txt\n",
      "A Illustre Casa de Ramires.txt\n",
      "A Rel°quia.txt\n",
      "Cartas de Inglaterra.txt\n",
      "O crime do padre Amaro.txt\n",
      "O Mandarim.txt\n",
      "O Primo Bazilio.txt\n",
      "Os Maias.txt\n",
      "Hamlet.txt\n"
     ]
    }
   ],
   "source": [
    "for path, directories, files in os.walk(\"./files/gutenburg/\"):  \n",
    "    for inputfile in files:\n",
    "        if not inputfile.startswith('.'):\n",
    "            print(inputfile) # hidden files gone !"
   ]
  },
  {
   "cell_type": "code",
   "execution_count": 56,
   "metadata": {},
   "outputs": [
    {
     "name": "stdout",
     "output_type": "stream",
     "text": [
      "./files/gutenburg/English/shakespeare/A Midsummer Night's Dream.txt\n",
      "./files/gutenburg/English/shakespeare/Hamlet.txt\n",
      "./files/gutenburg/English/shakespeare/Macbeth.txt\n",
      "./files/gutenburg/English/shakespeare/Othello.txt\n",
      "./files/gutenburg/English/shakespeare/Richard III.txt\n",
      "./files/gutenburg/English/shakespeare/Romeo and Juliet.txt\n",
      "./files/gutenburg/English/shakespeare/The Merchant of Venice.txt\n",
      "./files/gutenburg/French/chevalier/L'åle de sable.txt\n",
      "./files/gutenburg/French/chevalier/L'enfer et le paradis de l'autre monde.txt\n",
      "./files/gutenburg/French/chevalier/La capitaine.txt\n",
      "./files/gutenburg/French/chevalier/La fille des indiens rouges.txt\n",
      "./files/gutenburg/French/chevalier/La fille du pirate.txt\n",
      "./files/gutenburg/French/chevalier/Le chasseur noir.txt\n",
      "./files/gutenburg/French/chevalier/Les derniers Iroquois.txt\n",
      "./files/gutenburg/French/de Maupassant/Boule de Suif.txt\n",
      "./files/gutenburg/French/de Maupassant/Claire de Lune.txt\n",
      "./files/gutenburg/French/de Maupassant/Contes de la Becasse.txt\n",
      "./files/gutenburg/French/de Maupassant/L'inutile beautÇ.txt\n",
      "./files/gutenburg/French/de Maupassant/La Main Gauche.txt\n",
      "./files/gutenburg/French/de Maupassant/La Maison Tellier.txt\n",
      "./files/gutenburg/French/de Maupassant/La petite roque.txt\n",
      "./files/gutenburg/French/de Maupassant/Le Horla.txt\n",
      "./files/gutenburg/French/de Maupassant/Œuvres complètes de Guy de Maupassant.txt\n",
      "./files/gutenburg/French/diderot/Ceci n'est pas un conte.txt\n",
      "./files/gutenburg/French/diderot/Entretien d'un päre avec ses enfants.txt\n",
      "./files/gutenburg/French/diderot/L'oiseau blanc.txt\n",
      "./files/gutenburg/French/diderot/Les deux amis de Bourbonne.txt\n",
      "./files/gutenburg/French/diderot/Regrets sur ma vieille robe de chambre.txt\n",
      "./files/gutenburg/French/sand/cora.txt\n",
      "./files/gutenburg/French/sand/Jacques le fataliste et son maåtre.txt\n",
      "./files/gutenburg/French/sand/L' Orco.txt\n",
      "./files/gutenburg/French/sand/La Coupe; Lupo Liverani; Le Toast; Garnier; Le Contrebandier; La Ràverie Ö Paris.txt\n",
      "./files/gutenburg/French/sand/La Marquise.txt\n",
      "./files/gutenburg/French/sand/Le Piccinino.txt\n",
      "./files/gutenburg/French/sand/Le poâme de Myrza.txt\n",
      "./files/gutenburg/French/sand/Mattea.txt\n",
      "./files/gutenburg/French/sand/Metella.txt\n",
      "./files/gutenburg/French/sand/Oeuvres illustrÇes de George Sand.txt\n",
      "./files/gutenburg/French/sand/Pauline.txt\n",
      "./files/gutenburg/German/lessing/der freigeist.txt\n",
      "./files/gutenburg/German/lessing/der junge gelehrte.txt\n",
      "./files/gutenburg/German/lessing/die juden.txt\n",
      "./files/gutenburg/German/lessing/emilia galotti.txt\n",
      "./files/gutenburg/German/lessing/hamburgische dramaturgie.txt\n",
      "./files/gutenburg/German/lessing/minna von barnhelm.txt\n",
      "./files/gutenburg/German/lessing/miss sara sampson.txt\n",
      "./files/gutenburg/German/lessing/philotas.txt\n",
      "./files/gutenburg/German/raimund/Das MÑdchen aus der Feenwelt.txt\n",
      "./files/gutenburg/German/raimund/Der Alpenkînig und der Menschenfeind.txt\n",
      "./files/gutenburg/German/raimund/Der Barometermacher auf der Zauberinsel.txt\n",
      "./files/gutenburg/German/raimund/Der Diamant des Geisterkînigs.txt\n",
      "./files/gutenburg/German/raimund/Der Verschwender.txt\n",
      "./files/gutenburg/German/raimund/Die gefesselte Phantasie.txt\n",
      "./files/gutenburg/German/raimund/Die unheilbringende Krone.txt\n",
      "./files/gutenburg/German/raimund/Moisasurs Zauberfluch.txt\n",
      "./files/gutenburg/German/schiller/Der Neffe als Onkel.txt\n",
      "./files/gutenburg/German/schiller/Der Parasit, oder die Kunst, sein GlÅck zu machen.txt\n",
      "./files/gutenburg/German/schiller/die braut von messina.txt\n",
      "./files/gutenburg/German/schiller/Die Huldigung der KÅnste.txt\n",
      "./files/gutenburg/German/schiller/Die Jungfrau von Orleans.txt\n",
      "./files/gutenburg/German/schiller/Die Piccolomini.txt\n",
      "./files/gutenburg/German/schiller/Die Verschwîrung des Fiesco zu Genua.txt\n",
      "./files/gutenburg/German/schiller/Kabale und Liebe.txt\n",
      "./files/gutenburg/German/schiller/Turandot, Prinzessin von China.txt\n",
      "./files/gutenburg/German/schiller/Wallensteins Lager.txt\n",
      "./files/gutenburg/German/schiller/Wallensteins Tod.txt\n",
      "./files/gutenburg/German/shakespeare/Der Kaufmann von Venedig.txt\n",
      "./files/gutenburg/German/shakespeare/Ein Sommernachtstraum.txt\n",
      "./files/gutenburg/German/shakespeare/Hamlet.txt\n",
      "./files/gutenburg/German/shakespeare/Macbeth.txt\n",
      "./files/gutenburg/German/shakespeare/Othello.txt\n",
      "./files/gutenburg/German/shakespeare/Richard III.txt\n",
      "./files/gutenburg/German/shakespeare/Romeo und Julia.txt\n",
      "./files/gutenburg/Portuguese/branco/A Filha do Arcediago.txt\n",
      "./files/gutenburg/Portuguese/branco/A Neta do Arcediago.txt\n",
      "./files/gutenburg/Portuguese/branco/A Queda d'um Anjo.txt\n",
      "./files/gutenburg/Portuguese/branco/Agulha em Palheiro.txt\n",
      "./files/gutenburg/Portuguese/branco/Amor de Perdição.txt\n",
      "./files/gutenburg/Portuguese/branco/Amor de Salvação.txt\n",
      "./files/gutenburg/Portuguese/branco/Annos de Prosa.txt\n",
      "./files/gutenburg/Portuguese/branco/Carlota Angela.txt\n",
      "./files/gutenburg/Portuguese/branco/Estrellas Funestas.txt\n",
      "./files/gutenburg/Portuguese/branco/Estrellas Prop°cias.txt\n",
      "./files/gutenburg/Portuguese/branco/Lagrimas Abenáoadas.txt\n",
      "./files/gutenburg/Portuguese/branco/Livro de Consolação.txt\n",
      "./files/gutenburg/Portuguese/branco/O Olho de Vidro.txt\n",
      "./files/gutenburg/Portuguese/branco/O que fazem mulheres.txt\n",
      "./files/gutenburg/Portuguese/branco/O Regicida.txt\n",
      "./files/gutenburg/Portuguese/branco/Scenas Contemporaneas.txt\n",
      "./files/gutenburg/Portuguese/dinis/A Morgadinha dos Cannaviaes.txt\n",
      "./files/gutenburg/Portuguese/dinis/Os fidalgos da Casa Mourisca.txt\n",
      "./files/gutenburg/Portuguese/dinis/Uma fam°lia ingleza.txt\n",
      "./files/gutenburg/Portuguese/Queir¢s/A Cidade e as Serras.txt\n",
      "./files/gutenburg/Portuguese/Queir¢s/A correspondància de Fradique Mendes.txt\n",
      "./files/gutenburg/Portuguese/Queir¢s/A Illustre Casa de Ramires.txt\n",
      "./files/gutenburg/Portuguese/Queir¢s/A Rel°quia.txt\n",
      "./files/gutenburg/Portuguese/Queir¢s/Cartas de Inglaterra.txt\n",
      "./files/gutenburg/Portuguese/Queir¢s/O crime do padre Amaro.txt\n",
      "./files/gutenburg/Portuguese/Queir¢s/O Mandarim.txt\n",
      "./files/gutenburg/Portuguese/Queir¢s/O Primo Bazilio.txt\n",
      "./files/gutenburg/Portuguese/Queir¢s/Os Maias.txt\n",
      "./files/gutenburg/Portuguese/shakespeare/Hamlet.txt\n"
     ]
    }
   ],
   "source": [
    "for path, directories, files in os.walk(\"./files/gutenburg/\"):  \n",
    "    for inputfile in files:\n",
    "        if not inputfile.startswith('.'):\n",
    "            #print(inputfile)\n",
    "            inputpath = path+ \"/\"+inputfile\n",
    "            print(inputpath)\n",
    "            text = read_book(inputpath)\n",
    "            (num_unique, counts)=word_stats(count_words(text))           "
   ]
  },
  {
   "cell_type": "markdown",
   "metadata": {},
   "source": [
    "#### Pandas (panel data)\n",
    "\n",
    "Though the code above works fine, we can be more efficient by using Pandas to track out book statistics\n",
    "\n",
    "Lets quickly create a table using pandas dataframe function to see how it works"
   ]
  },
  {
   "cell_type": "code",
   "execution_count": 61,
   "metadata": {},
   "outputs": [
    {
     "data": {
      "text/html": [
       "<div>\n",
       "<style>\n",
       "    .dataframe thead tr:only-child th {\n",
       "        text-align: right;\n",
       "    }\n",
       "\n",
       "    .dataframe thead th {\n",
       "        text-align: left;\n",
       "    }\n",
       "\n",
       "    .dataframe tbody tr th {\n",
       "        vertical-align: top;\n",
       "    }\n",
       "</style>\n",
       "<table border=\"1\" class=\"dataframe\">\n",
       "  <thead>\n",
       "    <tr style=\"text-align: right;\">\n",
       "      <th></th>\n",
       "      <th>name</th>\n",
       "      <th>age</th>\n",
       "    </tr>\n",
       "  </thead>\n",
       "  <tbody>\n",
       "    <tr>\n",
       "      <th>1</th>\n",
       "      <td>James</td>\n",
       "      <td>22</td>\n",
       "    </tr>\n",
       "    <tr>\n",
       "      <th>2</th>\n",
       "      <td>Jess</td>\n",
       "      <td>24</td>\n",
       "    </tr>\n",
       "  </tbody>\n",
       "</table>\n",
       "</div>"
      ],
      "text/plain": [
       "    name age\n",
       "1  James  22\n",
       "2   Jess  24"
      ]
     },
     "execution_count": 61,
     "metadata": {},
     "output_type": "execute_result"
    }
   ],
   "source": [
    "import pandas as pd\n",
    "table = pd.DataFrame(columns= (\"name\",\"age\")) # lets first specify the columns\n",
    "table.loc[1] = \"James\", 22 # row 1\n",
    "table.loc[2] = \"Jess\", 24 # row 2\n",
    "table"
   ]
  },
  {
   "cell_type": "code",
   "execution_count": 10,
   "metadata": {},
   "outputs": [
    {
     "name": "stdout",
     "output_type": "stream",
     "text": [
      "./files/gutenburg/English/shakespeare/A Midsummer Night's Dream.txt\n"
     ]
    },
    {
     "ename": "NameError",
     "evalue": "name 'word_stats' is not defined",
     "output_type": "error",
     "traceback": [
      "\u001b[0;31m---------------------------------------------------------------------------\u001b[0m",
      "\u001b[0;31mNameError\u001b[0m                                 Traceback (most recent call last)",
      "\u001b[0;32m<ipython-input-10-14366519e909>\u001b[0m in \u001b[0;36m<module>\u001b[0;34m()\u001b[0m\n\u001b[1;32m     11\u001b[0m             \u001b[0mprint\u001b[0m\u001b[0;34m(\u001b[0m\u001b[0minputpath\u001b[0m\u001b[0;34m)\u001b[0m\u001b[0;34m\u001b[0m\u001b[0m\n\u001b[1;32m     12\u001b[0m             \u001b[0mtext\u001b[0m \u001b[0;34m=\u001b[0m \u001b[0mread_book\u001b[0m\u001b[0;34m(\u001b[0m\u001b[0minputpath\u001b[0m\u001b[0;34m)\u001b[0m\u001b[0;34m\u001b[0m\u001b[0m\n\u001b[0;32m---> 13\u001b[0;31m             \u001b[0;34m(\u001b[0m\u001b[0mnum_unique\u001b[0m\u001b[0;34m,\u001b[0m \u001b[0mcounts\u001b[0m\u001b[0;34m)\u001b[0m\u001b[0;34m=\u001b[0m\u001b[0mword_stats\u001b[0m\u001b[0;34m(\u001b[0m\u001b[0mcount_words\u001b[0m\u001b[0;34m(\u001b[0m\u001b[0mtext\u001b[0m\u001b[0;34m)\u001b[0m\u001b[0;34m)\u001b[0m\u001b[0;34m\u001b[0m\u001b[0m\n\u001b[0m\u001b[1;32m     14\u001b[0m             \u001b[0mstats\u001b[0m\u001b[0;34m.\u001b[0m\u001b[0mloc\u001b[0m\u001b[0;34m[\u001b[0m\u001b[0mtitle_num\u001b[0m\u001b[0;34m]\u001b[0m \u001b[0;34m=\u001b[0m \u001b[0mlanguage\u001b[0m\u001b[0;34m,\u001b[0m \u001b[0mauthor\u001b[0m\u001b[0;34m,\u001b[0m \u001b[0mtitle\u001b[0m\u001b[0;34m,\u001b[0m\u001b[0msum\u001b[0m\u001b[0;34m(\u001b[0m\u001b[0mcounts\u001b[0m\u001b[0;34m)\u001b[0m\u001b[0;34m,\u001b[0m\u001b[0mnum_unique\u001b[0m\u001b[0;34m\u001b[0m\u001b[0m\n\u001b[1;32m     15\u001b[0m             \u001b[0mtitle_num\u001b[0m \u001b[0;34m+=\u001b[0m \u001b[0;36m1\u001b[0m\u001b[0;34m\u001b[0m\u001b[0m\n",
      "\u001b[0;31mNameError\u001b[0m: name 'word_stats' is not defined"
     ]
    }
   ],
   "source": [
    "import os\n",
    "book_dir = \"./files/gutenburg\"\n",
    "\n",
    "import pandas as pd\n",
    "stats = pd.DataFrame(columns=(\"language\",\"author\",\"title\",\"length\",\"unique\"))\n",
    "title_num = 1\n",
    "for language in listdir_filtered(book_dir):\n",
    "    for author in listdir_filtered(book_dir + \"/\" + language):\n",
    "        for title in listdir_filtered(book_dir + \"/\" + language + \"/\" + author):\n",
    "            inputpath = book_dir + \"/\" + language + \"/\" + author + \"/\" + title\n",
    "            print(inputpath)\n",
    "            text = read_book(inputpath)\n",
    "            (num_unique, counts)=word_stats(count_words(text))\n",
    "            stats.loc[title_num] = language, author, title,sum(counts),num_unique\n",
    "            title_num += 1"
   ]
  },
  {
   "cell_type": "code",
   "execution_count": 104,
   "metadata": {},
   "outputs": [
    {
     "data": {
      "text/html": [
       "<div>\n",
       "<style>\n",
       "    .dataframe thead tr:only-child th {\n",
       "        text-align: right;\n",
       "    }\n",
       "\n",
       "    .dataframe thead th {\n",
       "        text-align: left;\n",
       "    }\n",
       "\n",
       "    .dataframe tbody tr th {\n",
       "        vertical-align: top;\n",
       "    }\n",
       "</style>\n",
       "<table border=\"1\" class=\"dataframe\">\n",
       "  <thead>\n",
       "    <tr style=\"text-align: right;\">\n",
       "      <th></th>\n",
       "      <th>language</th>\n",
       "      <th>author</th>\n",
       "      <th>title</th>\n",
       "      <th>length</th>\n",
       "      <th>unique</th>\n",
       "    </tr>\n",
       "  </thead>\n",
       "  <tbody>\n",
       "    <tr>\n",
       "      <th>1</th>\n",
       "      <td>English</td>\n",
       "      <td>shakespeare</td>\n",
       "      <td>A Midsummer Night's Dream.txt</td>\n",
       "      <td>16103</td>\n",
       "      <td>4345</td>\n",
       "    </tr>\n",
       "    <tr>\n",
       "      <th>2</th>\n",
       "      <td>English</td>\n",
       "      <td>shakespeare</td>\n",
       "      <td>Hamlet.txt</td>\n",
       "      <td>28551</td>\n",
       "      <td>6776</td>\n",
       "    </tr>\n",
       "    <tr>\n",
       "      <th>3</th>\n",
       "      <td>English</td>\n",
       "      <td>shakespeare</td>\n",
       "      <td>Macbeth.txt</td>\n",
       "      <td>16874</td>\n",
       "      <td>4780</td>\n",
       "    </tr>\n",
       "    <tr>\n",
       "      <th>4</th>\n",
       "      <td>English</td>\n",
       "      <td>shakespeare</td>\n",
       "      <td>Othello.txt</td>\n",
       "      <td>26590</td>\n",
       "      <td>5898</td>\n",
       "    </tr>\n",
       "    <tr>\n",
       "      <th>5</th>\n",
       "      <td>English</td>\n",
       "      <td>shakespeare</td>\n",
       "      <td>Richard III.txt</td>\n",
       "      <td>48315</td>\n",
       "      <td>5449</td>\n",
       "    </tr>\n",
       "    <tr>\n",
       "      <th>6</th>\n",
       "      <td>English</td>\n",
       "      <td>shakespeare</td>\n",
       "      <td>Romeo and Juliet.txt</td>\n",
       "      <td>40776</td>\n",
       "      <td>5118</td>\n",
       "    </tr>\n",
       "    <tr>\n",
       "      <th>7</th>\n",
       "      <td>English</td>\n",
       "      <td>shakespeare</td>\n",
       "      <td>The Merchant of Venice.txt</td>\n",
       "      <td>20949</td>\n",
       "      <td>4978</td>\n",
       "    </tr>\n",
       "    <tr>\n",
       "      <th>8</th>\n",
       "      <td>French</td>\n",
       "      <td>chevalier</td>\n",
       "      <td>L'åle de sable.txt</td>\n",
       "      <td>73801</td>\n",
       "      <td>18989</td>\n",
       "    </tr>\n",
       "    <tr>\n",
       "      <th>9</th>\n",
       "      <td>French</td>\n",
       "      <td>chevalier</td>\n",
       "      <td>L'enfer et le paradis de l'autre monde.txt</td>\n",
       "      <td>40827</td>\n",
       "      <td>10831</td>\n",
       "    </tr>\n",
       "    <tr>\n",
       "      <th>10</th>\n",
       "      <td>French</td>\n",
       "      <td>chevalier</td>\n",
       "      <td>La capitaine.txt</td>\n",
       "      <td>46306</td>\n",
       "      <td>13083</td>\n",
       "    </tr>\n",
       "    <tr>\n",
       "      <th>11</th>\n",
       "      <td>French</td>\n",
       "      <td>chevalier</td>\n",
       "      <td>La fille des indiens rouges.txt</td>\n",
       "      <td>66621</td>\n",
       "      <td>17875</td>\n",
       "    </tr>\n",
       "    <tr>\n",
       "      <th>12</th>\n",
       "      <td>French</td>\n",
       "      <td>chevalier</td>\n",
       "      <td>La fille du pirate.txt</td>\n",
       "      <td>52519</td>\n",
       "      <td>14649</td>\n",
       "    </tr>\n",
       "    <tr>\n",
       "      <th>13</th>\n",
       "      <td>French</td>\n",
       "      <td>chevalier</td>\n",
       "      <td>Le chasseur noir.txt</td>\n",
       "      <td>51341</td>\n",
       "      <td>12945</td>\n",
       "    </tr>\n",
       "    <tr>\n",
       "      <th>14</th>\n",
       "      <td>French</td>\n",
       "      <td>chevalier</td>\n",
       "      <td>Les derniers Iroquois.txt</td>\n",
       "      <td>55565</td>\n",
       "      <td>15583</td>\n",
       "    </tr>\n",
       "    <tr>\n",
       "      <th>15</th>\n",
       "      <td>French</td>\n",
       "      <td>de Maupassant</td>\n",
       "      <td>Boule de Suif.txt</td>\n",
       "      <td>35905</td>\n",
       "      <td>10725</td>\n",
       "    </tr>\n",
       "    <tr>\n",
       "      <th>16</th>\n",
       "      <td>French</td>\n",
       "      <td>de Maupassant</td>\n",
       "      <td>Claire de Lune.txt</td>\n",
       "      <td>25975</td>\n",
       "      <td>8076</td>\n",
       "    </tr>\n",
       "    <tr>\n",
       "      <th>17</th>\n",
       "      <td>French</td>\n",
       "      <td>de Maupassant</td>\n",
       "      <td>Contes de la Becasse.txt</td>\n",
       "      <td>34723</td>\n",
       "      <td>10210</td>\n",
       "    </tr>\n",
       "    <tr>\n",
       "      <th>18</th>\n",
       "      <td>French</td>\n",
       "      <td>de Maupassant</td>\n",
       "      <td>L'inutile beautÇ.txt</td>\n",
       "      <td>37840</td>\n",
       "      <td>10781</td>\n",
       "    </tr>\n",
       "    <tr>\n",
       "      <th>19</th>\n",
       "      <td>French</td>\n",
       "      <td>de Maupassant</td>\n",
       "      <td>La Main Gauche.txt</td>\n",
       "      <td>33481</td>\n",
       "      <td>9983</td>\n",
       "    </tr>\n",
       "    <tr>\n",
       "      <th>20</th>\n",
       "      <td>French</td>\n",
       "      <td>de Maupassant</td>\n",
       "      <td>La Maison Tellier.txt</td>\n",
       "      <td>43685</td>\n",
       "      <td>12305</td>\n",
       "    </tr>\n",
       "    <tr>\n",
       "      <th>21</th>\n",
       "      <td>French</td>\n",
       "      <td>de Maupassant</td>\n",
       "      <td>La petite roque.txt</td>\n",
       "      <td>40688</td>\n",
       "      <td>10890</td>\n",
       "    </tr>\n",
       "    <tr>\n",
       "      <th>22</th>\n",
       "      <td>French</td>\n",
       "      <td>de Maupassant</td>\n",
       "      <td>Le Horla.txt</td>\n",
       "      <td>41485</td>\n",
       "      <td>11091</td>\n",
       "    </tr>\n",
       "    <tr>\n",
       "      <th>23</th>\n",
       "      <td>French</td>\n",
       "      <td>de Maupassant</td>\n",
       "      <td>Œuvres complètes de Guy de Maupassant.txt</td>\n",
       "      <td>54772</td>\n",
       "      <td>15028</td>\n",
       "    </tr>\n",
       "    <tr>\n",
       "      <th>24</th>\n",
       "      <td>French</td>\n",
       "      <td>diderot</td>\n",
       "      <td>Ceci n'est pas un conte.txt</td>\n",
       "      <td>10938</td>\n",
       "      <td>3674</td>\n",
       "    </tr>\n",
       "    <tr>\n",
       "      <th>25</th>\n",
       "      <td>French</td>\n",
       "      <td>diderot</td>\n",
       "      <td>Entretien d'un päre avec ses enfants.txt</td>\n",
       "      <td>11125</td>\n",
       "      <td>3720</td>\n",
       "    </tr>\n",
       "    <tr>\n",
       "      <th>26</th>\n",
       "      <td>French</td>\n",
       "      <td>diderot</td>\n",
       "      <td>L'oiseau blanc.txt</td>\n",
       "      <td>21973</td>\n",
       "      <td>6337</td>\n",
       "    </tr>\n",
       "    <tr>\n",
       "      <th>27</th>\n",
       "      <td>French</td>\n",
       "      <td>diderot</td>\n",
       "      <td>Les deux amis de Bourbonne.txt</td>\n",
       "      <td>8510</td>\n",
       "      <td>2929</td>\n",
       "    </tr>\n",
       "    <tr>\n",
       "      <th>28</th>\n",
       "      <td>French</td>\n",
       "      <td>diderot</td>\n",
       "      <td>Regrets sur ma vieille robe de chambre.txt</td>\n",
       "      <td>4980</td>\n",
       "      <td>1876</td>\n",
       "    </tr>\n",
       "    <tr>\n",
       "      <th>29</th>\n",
       "      <td>French</td>\n",
       "      <td>sand</td>\n",
       "      <td>cora.txt</td>\n",
       "      <td>12370</td>\n",
       "      <td>4370</td>\n",
       "    </tr>\n",
       "    <tr>\n",
       "      <th>30</th>\n",
       "      <td>French</td>\n",
       "      <td>sand</td>\n",
       "      <td>Jacques le fataliste et son maåtre.txt</td>\n",
       "      <td>85756</td>\n",
       "      <td>18744</td>\n",
       "    </tr>\n",
       "    <tr>\n",
       "      <th>...</th>\n",
       "      <td>...</td>\n",
       "      <td>...</td>\n",
       "      <td>...</td>\n",
       "      <td>...</td>\n",
       "      <td>...</td>\n",
       "    </tr>\n",
       "    <tr>\n",
       "      <th>73</th>\n",
       "      <td>German</td>\n",
       "      <td>shakespeare</td>\n",
       "      <td>Romeo und Julia.txt</td>\n",
       "      <td>20311</td>\n",
       "      <td>7527</td>\n",
       "    </tr>\n",
       "    <tr>\n",
       "      <th>74</th>\n",
       "      <td>Portuguese</td>\n",
       "      <td>branco</td>\n",
       "      <td>A Filha do Arcediago.txt</td>\n",
       "      <td>74446</td>\n",
       "      <td>18238</td>\n",
       "    </tr>\n",
       "    <tr>\n",
       "      <th>75</th>\n",
       "      <td>Portuguese</td>\n",
       "      <td>branco</td>\n",
       "      <td>A Neta do Arcediago.txt</td>\n",
       "      <td>52996</td>\n",
       "      <td>14549</td>\n",
       "    </tr>\n",
       "    <tr>\n",
       "      <th>76</th>\n",
       "      <td>Portuguese</td>\n",
       "      <td>branco</td>\n",
       "      <td>A Queda d'um Anjo.txt</td>\n",
       "      <td>48022</td>\n",
       "      <td>15133</td>\n",
       "    </tr>\n",
       "    <tr>\n",
       "      <th>77</th>\n",
       "      <td>Portuguese</td>\n",
       "      <td>branco</td>\n",
       "      <td>Agulha em Palheiro.txt</td>\n",
       "      <td>43575</td>\n",
       "      <td>12761</td>\n",
       "    </tr>\n",
       "    <tr>\n",
       "      <th>78</th>\n",
       "      <td>Portuguese</td>\n",
       "      <td>branco</td>\n",
       "      <td>Amor de Perdição.txt</td>\n",
       "      <td>46751</td>\n",
       "      <td>12884</td>\n",
       "    </tr>\n",
       "    <tr>\n",
       "      <th>79</th>\n",
       "      <td>Portuguese</td>\n",
       "      <td>branco</td>\n",
       "      <td>Amor de Salvação.txt</td>\n",
       "      <td>47739</td>\n",
       "      <td>14337</td>\n",
       "    </tr>\n",
       "    <tr>\n",
       "      <th>80</th>\n",
       "      <td>Portuguese</td>\n",
       "      <td>branco</td>\n",
       "      <td>Annos de Prosa.txt</td>\n",
       "      <td>61473</td>\n",
       "      <td>16987</td>\n",
       "    </tr>\n",
       "    <tr>\n",
       "      <th>81</th>\n",
       "      <td>Portuguese</td>\n",
       "      <td>branco</td>\n",
       "      <td>Carlota Angela.txt</td>\n",
       "      <td>46927</td>\n",
       "      <td>13456</td>\n",
       "    </tr>\n",
       "    <tr>\n",
       "      <th>82</th>\n",
       "      <td>Portuguese</td>\n",
       "      <td>branco</td>\n",
       "      <td>Estrellas Funestas.txt</td>\n",
       "      <td>46709</td>\n",
       "      <td>13450</td>\n",
       "    </tr>\n",
       "    <tr>\n",
       "      <th>83</th>\n",
       "      <td>Portuguese</td>\n",
       "      <td>branco</td>\n",
       "      <td>Estrellas Prop°cias.txt</td>\n",
       "      <td>43445</td>\n",
       "      <td>12478</td>\n",
       "    </tr>\n",
       "    <tr>\n",
       "      <th>84</th>\n",
       "      <td>Portuguese</td>\n",
       "      <td>branco</td>\n",
       "      <td>Lagrimas Abenáoadas.txt</td>\n",
       "      <td>45182</td>\n",
       "      <td>12622</td>\n",
       "    </tr>\n",
       "    <tr>\n",
       "      <th>85</th>\n",
       "      <td>Portuguese</td>\n",
       "      <td>branco</td>\n",
       "      <td>Livro de Consolação.txt</td>\n",
       "      <td>54151</td>\n",
       "      <td>15871</td>\n",
       "    </tr>\n",
       "    <tr>\n",
       "      <th>86</th>\n",
       "      <td>Portuguese</td>\n",
       "      <td>branco</td>\n",
       "      <td>O Olho de Vidro.txt</td>\n",
       "      <td>45461</td>\n",
       "      <td>13180</td>\n",
       "    </tr>\n",
       "    <tr>\n",
       "      <th>87</th>\n",
       "      <td>Portuguese</td>\n",
       "      <td>branco</td>\n",
       "      <td>O que fazem mulheres.txt</td>\n",
       "      <td>41175</td>\n",
       "      <td>12316</td>\n",
       "    </tr>\n",
       "    <tr>\n",
       "      <th>88</th>\n",
       "      <td>Portuguese</td>\n",
       "      <td>branco</td>\n",
       "      <td>O Regicida.txt</td>\n",
       "      <td>50751</td>\n",
       "      <td>14779</td>\n",
       "    </tr>\n",
       "    <tr>\n",
       "      <th>89</th>\n",
       "      <td>Portuguese</td>\n",
       "      <td>branco</td>\n",
       "      <td>Scenas Contemporaneas.txt</td>\n",
       "      <td>48889</td>\n",
       "      <td>14395</td>\n",
       "    </tr>\n",
       "    <tr>\n",
       "      <th>90</th>\n",
       "      <td>Portuguese</td>\n",
       "      <td>dinis</td>\n",
       "      <td>A Morgadinha dos Cannaviaes.txt</td>\n",
       "      <td>134382</td>\n",
       "      <td>30728</td>\n",
       "    </tr>\n",
       "    <tr>\n",
       "      <th>91</th>\n",
       "      <td>Portuguese</td>\n",
       "      <td>dinis</td>\n",
       "      <td>Os fidalgos da Casa Mourisca.txt</td>\n",
       "      <td>130834</td>\n",
       "      <td>27834</td>\n",
       "    </tr>\n",
       "    <tr>\n",
       "      <th>92</th>\n",
       "      <td>Portuguese</td>\n",
       "      <td>dinis</td>\n",
       "      <td>Uma fam°lia ingleza.txt</td>\n",
       "      <td>109270</td>\n",
       "      <td>26786</td>\n",
       "    </tr>\n",
       "    <tr>\n",
       "      <th>93</th>\n",
       "      <td>Portuguese</td>\n",
       "      <td>Queir¢s</td>\n",
       "      <td>A Cidade e as Serras.txt</td>\n",
       "      <td>65225</td>\n",
       "      <td>19230</td>\n",
       "    </tr>\n",
       "    <tr>\n",
       "      <th>94</th>\n",
       "      <td>Portuguese</td>\n",
       "      <td>Queir¢s</td>\n",
       "      <td>A correspondància de Fradique Mendes.txt</td>\n",
       "      <td>52982</td>\n",
       "      <td>16648</td>\n",
       "    </tr>\n",
       "    <tr>\n",
       "      <th>95</th>\n",
       "      <td>Portuguese</td>\n",
       "      <td>Queir¢s</td>\n",
       "      <td>A Illustre Casa de Ramires.txt</td>\n",
       "      <td>98218</td>\n",
       "      <td>25353</td>\n",
       "    </tr>\n",
       "    <tr>\n",
       "      <th>96</th>\n",
       "      <td>Portuguese</td>\n",
       "      <td>Queir¢s</td>\n",
       "      <td>A Rel°quia.txt</td>\n",
       "      <td>77627</td>\n",
       "      <td>21399</td>\n",
       "    </tr>\n",
       "    <tr>\n",
       "      <th>97</th>\n",
       "      <td>Portuguese</td>\n",
       "      <td>Queir¢s</td>\n",
       "      <td>Cartas de Inglaterra.txt</td>\n",
       "      <td>44293</td>\n",
       "      <td>13898</td>\n",
       "    </tr>\n",
       "    <tr>\n",
       "      <th>98</th>\n",
       "      <td>Portuguese</td>\n",
       "      <td>Queir¢s</td>\n",
       "      <td>O crime do padre Amaro.txt</td>\n",
       "      <td>128630</td>\n",
       "      <td>29300</td>\n",
       "    </tr>\n",
       "    <tr>\n",
       "      <th>99</th>\n",
       "      <td>Portuguese</td>\n",
       "      <td>Queir¢s</td>\n",
       "      <td>O Mandarim.txt</td>\n",
       "      <td>21440</td>\n",
       "      <td>7836</td>\n",
       "    </tr>\n",
       "    <tr>\n",
       "      <th>100</th>\n",
       "      <td>Portuguese</td>\n",
       "      <td>Queir¢s</td>\n",
       "      <td>O Primo Bazilio.txt</td>\n",
       "      <td>107303</td>\n",
       "      <td>27644</td>\n",
       "    </tr>\n",
       "    <tr>\n",
       "      <th>101</th>\n",
       "      <td>Portuguese</td>\n",
       "      <td>Queir¢s</td>\n",
       "      <td>Os Maias.txt</td>\n",
       "      <td>195771</td>\n",
       "      <td>40665</td>\n",
       "    </tr>\n",
       "    <tr>\n",
       "      <th>102</th>\n",
       "      <td>Portuguese</td>\n",
       "      <td>shakespeare</td>\n",
       "      <td>Hamlet.txt</td>\n",
       "      <td>30567</td>\n",
       "      <td>9700</td>\n",
       "    </tr>\n",
       "  </tbody>\n",
       "</table>\n",
       "<p>102 rows × 5 columns</p>\n",
       "</div>"
      ],
      "text/plain": [
       "       language         author                                       title  \\\n",
       "1       English    shakespeare               A Midsummer Night's Dream.txt   \n",
       "2       English    shakespeare                                  Hamlet.txt   \n",
       "3       English    shakespeare                                 Macbeth.txt   \n",
       "4       English    shakespeare                                 Othello.txt   \n",
       "5       English    shakespeare                             Richard III.txt   \n",
       "6       English    shakespeare                        Romeo and Juliet.txt   \n",
       "7       English    shakespeare                  The Merchant of Venice.txt   \n",
       "8        French      chevalier                         L'åle de sable.txt   \n",
       "9        French      chevalier  L'enfer et le paradis de l'autre monde.txt   \n",
       "10       French      chevalier                            La capitaine.txt   \n",
       "11       French      chevalier             La fille des indiens rouges.txt   \n",
       "12       French      chevalier                      La fille du pirate.txt   \n",
       "13       French      chevalier                        Le chasseur noir.txt   \n",
       "14       French      chevalier                   Les derniers Iroquois.txt   \n",
       "15       French  de Maupassant                           Boule de Suif.txt   \n",
       "16       French  de Maupassant                          Claire de Lune.txt   \n",
       "17       French  de Maupassant                    Contes de la Becasse.txt   \n",
       "18       French  de Maupassant                       L'inutile beautÇ.txt   \n",
       "19       French  de Maupassant                          La Main Gauche.txt   \n",
       "20       French  de Maupassant                       La Maison Tellier.txt   \n",
       "21       French  de Maupassant                         La petite roque.txt   \n",
       "22       French  de Maupassant                                Le Horla.txt   \n",
       "23       French  de Maupassant  Œuvres complètes de Guy de Maupassant.txt   \n",
       "24       French        diderot                 Ceci n'est pas un conte.txt   \n",
       "25       French        diderot   Entretien d'un päre avec ses enfants.txt   \n",
       "26       French        diderot                          L'oiseau blanc.txt   \n",
       "27       French        diderot              Les deux amis de Bourbonne.txt   \n",
       "28       French        diderot  Regrets sur ma vieille robe de chambre.txt   \n",
       "29       French           sand                                    cora.txt   \n",
       "30       French           sand     Jacques le fataliste et son maåtre.txt   \n",
       "..          ...            ...                                         ...   \n",
       "73       German    shakespeare                         Romeo und Julia.txt   \n",
       "74   Portuguese         branco                    A Filha do Arcediago.txt   \n",
       "75   Portuguese         branco                     A Neta do Arcediago.txt   \n",
       "76   Portuguese         branco                       A Queda d'um Anjo.txt   \n",
       "77   Portuguese         branco                      Agulha em Palheiro.txt   \n",
       "78   Portuguese         branco                      Amor de Perdição.txt   \n",
       "79   Portuguese         branco                      Amor de Salvação.txt   \n",
       "80   Portuguese         branco                          Annos de Prosa.txt   \n",
       "81   Portuguese         branco                          Carlota Angela.txt   \n",
       "82   Portuguese         branco                      Estrellas Funestas.txt   \n",
       "83   Portuguese         branco                     Estrellas Prop°cias.txt   \n",
       "84   Portuguese         branco                    Lagrimas Abenáoadas.txt   \n",
       "85   Portuguese         branco                   Livro de Consolação.txt   \n",
       "86   Portuguese         branco                         O Olho de Vidro.txt   \n",
       "87   Portuguese         branco                    O que fazem mulheres.txt   \n",
       "88   Portuguese         branco                              O Regicida.txt   \n",
       "89   Portuguese         branco                   Scenas Contemporaneas.txt   \n",
       "90   Portuguese          dinis             A Morgadinha dos Cannaviaes.txt   \n",
       "91   Portuguese          dinis            Os fidalgos da Casa Mourisca.txt   \n",
       "92   Portuguese          dinis                     Uma fam°lia ingleza.txt   \n",
       "93   Portuguese        Queir¢s                    A Cidade e as Serras.txt   \n",
       "94   Portuguese        Queir¢s   A correspondància de Fradique Mendes.txt   \n",
       "95   Portuguese        Queir¢s              A Illustre Casa de Ramires.txt   \n",
       "96   Portuguese        Queir¢s                              A Rel°quia.txt   \n",
       "97   Portuguese        Queir¢s                    Cartas de Inglaterra.txt   \n",
       "98   Portuguese        Queir¢s                  O crime do padre Amaro.txt   \n",
       "99   Portuguese        Queir¢s                              O Mandarim.txt   \n",
       "100  Portuguese        Queir¢s                         O Primo Bazilio.txt   \n",
       "101  Portuguese        Queir¢s                                Os Maias.txt   \n",
       "102  Portuguese    shakespeare                                  Hamlet.txt   \n",
       "\n",
       "     length unique  \n",
       "1     16103   4345  \n",
       "2     28551   6776  \n",
       "3     16874   4780  \n",
       "4     26590   5898  \n",
       "5     48315   5449  \n",
       "6     40776   5118  \n",
       "7     20949   4978  \n",
       "8     73801  18989  \n",
       "9     40827  10831  \n",
       "10    46306  13083  \n",
       "11    66621  17875  \n",
       "12    52519  14649  \n",
       "13    51341  12945  \n",
       "14    55565  15583  \n",
       "15    35905  10725  \n",
       "16    25975   8076  \n",
       "17    34723  10210  \n",
       "18    37840  10781  \n",
       "19    33481   9983  \n",
       "20    43685  12305  \n",
       "21    40688  10890  \n",
       "22    41485  11091  \n",
       "23    54772  15028  \n",
       "24    10938   3674  \n",
       "25    11125   3720  \n",
       "26    21973   6337  \n",
       "27     8510   2929  \n",
       "28     4980   1876  \n",
       "29    12370   4370  \n",
       "30    85756  18744  \n",
       "..      ...    ...  \n",
       "73    20311   7527  \n",
       "74    74446  18238  \n",
       "75    52996  14549  \n",
       "76    48022  15133  \n",
       "77    43575  12761  \n",
       "78    46751  12884  \n",
       "79    47739  14337  \n",
       "80    61473  16987  \n",
       "81    46927  13456  \n",
       "82    46709  13450  \n",
       "83    43445  12478  \n",
       "84    45182  12622  \n",
       "85    54151  15871  \n",
       "86    45461  13180  \n",
       "87    41175  12316  \n",
       "88    50751  14779  \n",
       "89    48889  14395  \n",
       "90   134382  30728  \n",
       "91   130834  27834  \n",
       "92   109270  26786  \n",
       "93    65225  19230  \n",
       "94    52982  16648  \n",
       "95    98218  25353  \n",
       "96    77627  21399  \n",
       "97    44293  13898  \n",
       "98   128630  29300  \n",
       "99    21440   7836  \n",
       "100  107303  27644  \n",
       "101  195771  40665  \n",
       "102   30567   9700  \n",
       "\n",
       "[102 rows x 5 columns]"
      ]
     },
     "execution_count": 104,
     "metadata": {},
     "output_type": "execute_result"
    }
   ],
   "source": [
    "stats"
   ]
  },
  {
   "cell_type": "code",
   "execution_count": 105,
   "metadata": {},
   "outputs": [
    {
     "data": {
      "text/html": [
       "<div>\n",
       "<style>\n",
       "    .dataframe thead tr:only-child th {\n",
       "        text-align: right;\n",
       "    }\n",
       "\n",
       "    .dataframe thead th {\n",
       "        text-align: left;\n",
       "    }\n",
       "\n",
       "    .dataframe tbody tr th {\n",
       "        vertical-align: top;\n",
       "    }\n",
       "</style>\n",
       "<table border=\"1\" class=\"dataframe\">\n",
       "  <thead>\n",
       "    <tr style=\"text-align: right;\">\n",
       "      <th></th>\n",
       "      <th>language</th>\n",
       "      <th>author</th>\n",
       "      <th>title</th>\n",
       "      <th>length</th>\n",
       "      <th>unique</th>\n",
       "    </tr>\n",
       "  </thead>\n",
       "  <tbody>\n",
       "    <tr>\n",
       "      <th>1</th>\n",
       "      <td>English</td>\n",
       "      <td>shakespeare</td>\n",
       "      <td>A Midsummer Night's Dream.txt</td>\n",
       "      <td>16103</td>\n",
       "      <td>4345</td>\n",
       "    </tr>\n",
       "    <tr>\n",
       "      <th>2</th>\n",
       "      <td>English</td>\n",
       "      <td>shakespeare</td>\n",
       "      <td>Hamlet.txt</td>\n",
       "      <td>28551</td>\n",
       "      <td>6776</td>\n",
       "    </tr>\n",
       "    <tr>\n",
       "      <th>3</th>\n",
       "      <td>English</td>\n",
       "      <td>shakespeare</td>\n",
       "      <td>Macbeth.txt</td>\n",
       "      <td>16874</td>\n",
       "      <td>4780</td>\n",
       "    </tr>\n",
       "    <tr>\n",
       "      <th>4</th>\n",
       "      <td>English</td>\n",
       "      <td>shakespeare</td>\n",
       "      <td>Othello.txt</td>\n",
       "      <td>26590</td>\n",
       "      <td>5898</td>\n",
       "    </tr>\n",
       "    <tr>\n",
       "      <th>5</th>\n",
       "      <td>English</td>\n",
       "      <td>shakespeare</td>\n",
       "      <td>Richard III.txt</td>\n",
       "      <td>48315</td>\n",
       "      <td>5449</td>\n",
       "    </tr>\n",
       "  </tbody>\n",
       "</table>\n",
       "</div>"
      ],
      "text/plain": [
       "  language       author                          title length unique\n",
       "1  English  shakespeare  A Midsummer Night's Dream.txt  16103   4345\n",
       "2  English  shakespeare                     Hamlet.txt  28551   6776\n",
       "3  English  shakespeare                    Macbeth.txt  16874   4780\n",
       "4  English  shakespeare                    Othello.txt  26590   5898\n",
       "5  English  shakespeare                Richard III.txt  48315   5449"
      ]
     },
     "execution_count": 105,
     "metadata": {},
     "output_type": "execute_result"
    }
   ],
   "source": [
    "stats.head()"
   ]
  },
  {
   "cell_type": "code",
   "execution_count": 72,
   "metadata": {},
   "outputs": [
    {
     "data": {
      "text/html": [
       "<div>\n",
       "<style>\n",
       "    .dataframe thead tr:only-child th {\n",
       "        text-align: right;\n",
       "    }\n",
       "\n",
       "    .dataframe thead th {\n",
       "        text-align: left;\n",
       "    }\n",
       "\n",
       "    .dataframe tbody tr th {\n",
       "        vertical-align: top;\n",
       "    }\n",
       "</style>\n",
       "<table border=\"1\" class=\"dataframe\">\n",
       "  <thead>\n",
       "    <tr style=\"text-align: right;\">\n",
       "      <th></th>\n",
       "      <th>language</th>\n",
       "      <th>author</th>\n",
       "      <th>title</th>\n",
       "      <th>length</th>\n",
       "      <th>unique</th>\n",
       "    </tr>\n",
       "  </thead>\n",
       "  <tbody>\n",
       "    <tr>\n",
       "      <th>98</th>\n",
       "      <td>Portuguese</td>\n",
       "      <td>Queir¢s</td>\n",
       "      <td>O crime do padre Amaro.txt</td>\n",
       "      <td>128630</td>\n",
       "      <td>29300</td>\n",
       "    </tr>\n",
       "    <tr>\n",
       "      <th>99</th>\n",
       "      <td>Portuguese</td>\n",
       "      <td>Queir¢s</td>\n",
       "      <td>O Mandarim.txt</td>\n",
       "      <td>21440</td>\n",
       "      <td>7836</td>\n",
       "    </tr>\n",
       "    <tr>\n",
       "      <th>100</th>\n",
       "      <td>Portuguese</td>\n",
       "      <td>Queir¢s</td>\n",
       "      <td>O Primo Bazilio.txt</td>\n",
       "      <td>107303</td>\n",
       "      <td>27644</td>\n",
       "    </tr>\n",
       "    <tr>\n",
       "      <th>101</th>\n",
       "      <td>Portuguese</td>\n",
       "      <td>Queir¢s</td>\n",
       "      <td>Os Maias.txt</td>\n",
       "      <td>195771</td>\n",
       "      <td>40665</td>\n",
       "    </tr>\n",
       "    <tr>\n",
       "      <th>102</th>\n",
       "      <td>Portuguese</td>\n",
       "      <td>shakespeare</td>\n",
       "      <td>Hamlet.txt</td>\n",
       "      <td>30567</td>\n",
       "      <td>9700</td>\n",
       "    </tr>\n",
       "  </tbody>\n",
       "</table>\n",
       "</div>"
      ],
      "text/plain": [
       "       language       author                       title  length unique\n",
       "98   Portuguese      Queir¢s  O crime do padre Amaro.txt  128630  29300\n",
       "99   Portuguese      Queir¢s              O Mandarim.txt   21440   7836\n",
       "100  Portuguese      Queir¢s         O Primo Bazilio.txt  107303  27644\n",
       "101  Portuguese      Queir¢s                Os Maias.txt  195771  40665\n",
       "102  Portuguese  shakespeare                  Hamlet.txt   30567   9700"
      ]
     },
     "execution_count": 72,
     "metadata": {},
     "output_type": "execute_result"
    }
   ],
   "source": [
    "stats.tail()"
   ]
  },
  {
   "cell_type": "code",
   "execution_count": 106,
   "metadata": {},
   "outputs": [
    {
     "data": {
      "text/plain": [
       "(102, 5)"
      ]
     },
     "execution_count": 106,
     "metadata": {},
     "output_type": "execute_result"
    }
   ],
   "source": [
    "stats.shape"
   ]
  },
  {
   "cell_type": "markdown",
   "metadata": {},
   "source": [
    "Testing out using our shorter code using `os.walk`, I realized that it is not useful for the pandas dataframe creation since I can't seperate the directories at invidual levels without needing to break the code (using either `break` or `next`)"
   ]
  },
  {
   "cell_type": "markdown",
   "metadata": {},
   "source": [
    "Now lets make some modifications in the table.\n",
    "-  Capitalize the authors names\n",
    "-  Remove the `.txt` from the file names"
   ]
  },
  {
   "cell_type": "code",
   "execution_count": 2,
   "metadata": {},
   "outputs": [
    {
     "ename": "NameError",
     "evalue": "name 'listdir_filtered' is not defined",
     "output_type": "error",
     "traceback": [
      "\u001b[0;31m---------------------------------------------------------------------------\u001b[0m",
      "\u001b[0;31mNameError\u001b[0m                                 Traceback (most recent call last)",
      "\u001b[0;32m<ipython-input-2-bddbcb691158>\u001b[0m in \u001b[0;36m<module>\u001b[0;34m()\u001b[0m\n\u001b[1;32m      5\u001b[0m \u001b[0mstats\u001b[0m \u001b[0;34m=\u001b[0m \u001b[0mpd\u001b[0m\u001b[0;34m.\u001b[0m\u001b[0mDataFrame\u001b[0m\u001b[0;34m(\u001b[0m\u001b[0mcolumns\u001b[0m\u001b[0;34m=\u001b[0m\u001b[0;34m(\u001b[0m\u001b[0;34m\"language\"\u001b[0m\u001b[0;34m,\u001b[0m\u001b[0;34m\"author\"\u001b[0m\u001b[0;34m,\u001b[0m\u001b[0;34m\"title\"\u001b[0m\u001b[0;34m,\u001b[0m\u001b[0;34m\"length\"\u001b[0m\u001b[0;34m,\u001b[0m\u001b[0;34m\"unique\"\u001b[0m\u001b[0;34m)\u001b[0m\u001b[0;34m)\u001b[0m\u001b[0;34m\u001b[0m\u001b[0m\n\u001b[1;32m      6\u001b[0m \u001b[0mtitle_num\u001b[0m \u001b[0;34m=\u001b[0m \u001b[0;36m1\u001b[0m\u001b[0;34m\u001b[0m\u001b[0m\n\u001b[0;32m----> 7\u001b[0;31m \u001b[0;32mfor\u001b[0m \u001b[0mlanguage\u001b[0m \u001b[0;32min\u001b[0m \u001b[0mlistdir_filtered\u001b[0m\u001b[0;34m(\u001b[0m\u001b[0mbook_dir\u001b[0m\u001b[0;34m)\u001b[0m\u001b[0;34m:\u001b[0m\u001b[0;34m\u001b[0m\u001b[0m\n\u001b[0m\u001b[1;32m      8\u001b[0m     \u001b[0;32mfor\u001b[0m \u001b[0mauthor\u001b[0m \u001b[0;32min\u001b[0m \u001b[0mlistdir_filtered\u001b[0m\u001b[0;34m(\u001b[0m\u001b[0mbook_dir\u001b[0m \u001b[0;34m+\u001b[0m \u001b[0;34m\"/\"\u001b[0m \u001b[0;34m+\u001b[0m \u001b[0mlanguage\u001b[0m\u001b[0;34m)\u001b[0m\u001b[0;34m:\u001b[0m\u001b[0;34m\u001b[0m\u001b[0m\n\u001b[1;32m      9\u001b[0m         \u001b[0;32mfor\u001b[0m \u001b[0mtitle\u001b[0m \u001b[0;32min\u001b[0m \u001b[0mlistdir_filtered\u001b[0m\u001b[0;34m(\u001b[0m\u001b[0mbook_dir\u001b[0m \u001b[0;34m+\u001b[0m \u001b[0;34m\"/\"\u001b[0m \u001b[0;34m+\u001b[0m \u001b[0mlanguage\u001b[0m \u001b[0;34m+\u001b[0m \u001b[0;34m\"/\"\u001b[0m \u001b[0;34m+\u001b[0m \u001b[0mauthor\u001b[0m\u001b[0;34m)\u001b[0m\u001b[0;34m:\u001b[0m\u001b[0;34m\u001b[0m\u001b[0m\n",
      "\u001b[0;31mNameError\u001b[0m: name 'listdir_filtered' is not defined"
     ]
    }
   ],
   "source": [
    "import os\n",
    "book_dir = \"./files/gutenburg\"\n",
    "\n",
    "import pandas as pd\n",
    "stats = pd.DataFrame(columns=(\"language\",\"author\",\"title\",\"length\",\"unique\"))\n",
    "title_num = 1\n",
    "for language in listdir_filtered(book_dir):\n",
    "    for author in listdir_filtered(book_dir + \"/\" + language):\n",
    "        for title in listdir_filtered(book_dir + \"/\" + language + \"/\" + author):\n",
    "            inputpath = book_dir + \"/\" + language + \"/\" + author + \"/\" + title\n",
    "            #print(inputpath)\n",
    "            text = read_book(inputpath)\n",
    "            (num_unique, counts)=word_stats(count_words(text))\n",
    "            stats.loc[title_num] = language, author.capitalize(), title.replace(\".txt\",\"\"),sum(counts),num_unique\n",
    "            title_num += 1            \n",
    "stats.head()"
   ]
  },
  {
   "cell_type": "markdown",
   "metadata": {},
   "source": [
    "Now say you already have a table and now you want to capitalize and replace text in colums.\n"
   ]
  },
  {
   "cell_type": "code",
   "execution_count": 12,
   "metadata": {},
   "outputs": [
    {
     "data": {
      "text/html": [
       "<div>\n",
       "<style>\n",
       "    .dataframe thead tr:only-child th {\n",
       "        text-align: right;\n",
       "    }\n",
       "\n",
       "    .dataframe thead th {\n",
       "        text-align: left;\n",
       "    }\n",
       "\n",
       "    .dataframe tbody tr th {\n",
       "        vertical-align: top;\n",
       "    }\n",
       "</style>\n",
       "<table border=\"1\" class=\"dataframe\">\n",
       "  <thead>\n",
       "    <tr style=\"text-align: right;\">\n",
       "      <th></th>\n",
       "      <th>language</th>\n",
       "      <th>author</th>\n",
       "      <th>title</th>\n",
       "      <th>length</th>\n",
       "      <th>unique</th>\n",
       "    </tr>\n",
       "  </thead>\n",
       "  <tbody>\n",
       "    <tr>\n",
       "      <th>1</th>\n",
       "      <td>English</td>\n",
       "      <td>shakespeare</td>\n",
       "      <td>A Midsummer Night's Dream.txt</td>\n",
       "      <td>16103</td>\n",
       "      <td>4345</td>\n",
       "    </tr>\n",
       "    <tr>\n",
       "      <th>2</th>\n",
       "      <td>English</td>\n",
       "      <td>shakespeare</td>\n",
       "      <td>Hamlet.txt</td>\n",
       "      <td>28551</td>\n",
       "      <td>6776</td>\n",
       "    </tr>\n",
       "    <tr>\n",
       "      <th>3</th>\n",
       "      <td>English</td>\n",
       "      <td>shakespeare</td>\n",
       "      <td>Macbeth.txt</td>\n",
       "      <td>16874</td>\n",
       "      <td>4780</td>\n",
       "    </tr>\n",
       "    <tr>\n",
       "      <th>4</th>\n",
       "      <td>English</td>\n",
       "      <td>shakespeare</td>\n",
       "      <td>Othello.txt</td>\n",
       "      <td>26590</td>\n",
       "      <td>5898</td>\n",
       "    </tr>\n",
       "    <tr>\n",
       "      <th>5</th>\n",
       "      <td>English</td>\n",
       "      <td>shakespeare</td>\n",
       "      <td>Richard III.txt</td>\n",
       "      <td>48315</td>\n",
       "      <td>5449</td>\n",
       "    </tr>\n",
       "  </tbody>\n",
       "</table>\n",
       "</div>"
      ],
      "text/plain": [
       "  language       author                          title length unique\n",
       "1  English  shakespeare  A Midsummer Night's Dream.txt  16103   4345\n",
       "2  English  shakespeare                     Hamlet.txt  28551   6776\n",
       "3  English  shakespeare                    Macbeth.txt  16874   4780\n",
       "4  English  shakespeare                    Othello.txt  26590   5898\n",
       "5  English  shakespeare                Richard III.txt  48315   5449"
      ]
     },
     "execution_count": 12,
     "metadata": {},
     "output_type": "execute_result"
    }
   ],
   "source": [
    "import os\n",
    "book_dir = \"./files/gutenburg\"\n",
    "\n",
    "import pandas as pd\n",
    "stats = pd.DataFrame(columns=(\"language\",\"author\",\"title\",\"length\",\"unique\"))\n",
    "title_num = 1\n",
    "for language in listdir_filtered(book_dir):\n",
    "    for author in listdir_filtered(book_dir + \"/\" + language):\n",
    "        for title in listdir_filtered(book_dir + \"/\" + language + \"/\" + author):\n",
    "            inputpath = book_dir + \"/\" + language + \"/\" + author + \"/\" + title\n",
    "            #print(inputpath)\n",
    "            text = read_book(inputpath)\n",
    "            (num_unique, counts)=word_stats(count_words(text))\n",
    "            stats.loc[title_num] = language, author, title,sum(counts),num_unique\n",
    "            title_num += 1       \n",
    "stats.head()"
   ]
  },
  {
   "cell_type": "code",
   "execution_count": 110,
   "metadata": {},
   "outputs": [
    {
     "data": {
      "text/html": [
       "<div>\n",
       "<style>\n",
       "    .dataframe thead tr:only-child th {\n",
       "        text-align: right;\n",
       "    }\n",
       "\n",
       "    .dataframe thead th {\n",
       "        text-align: left;\n",
       "    }\n",
       "\n",
       "    .dataframe tbody tr th {\n",
       "        vertical-align: top;\n",
       "    }\n",
       "</style>\n",
       "<table border=\"1\" class=\"dataframe\">\n",
       "  <thead>\n",
       "    <tr style=\"text-align: right;\">\n",
       "      <th></th>\n",
       "      <th>language</th>\n",
       "      <th>author</th>\n",
       "      <th>title</th>\n",
       "      <th>length</th>\n",
       "      <th>unique</th>\n",
       "    </tr>\n",
       "  </thead>\n",
       "  <tbody>\n",
       "    <tr>\n",
       "      <th>1</th>\n",
       "      <td>English</td>\n",
       "      <td>Shakespeare</td>\n",
       "      <td>A Midsummer Night's Dream.txt</td>\n",
       "      <td>16103</td>\n",
       "      <td>4345</td>\n",
       "    </tr>\n",
       "    <tr>\n",
       "      <th>2</th>\n",
       "      <td>English</td>\n",
       "      <td>Shakespeare</td>\n",
       "      <td>Hamlet.txt</td>\n",
       "      <td>28551</td>\n",
       "      <td>6776</td>\n",
       "    </tr>\n",
       "    <tr>\n",
       "      <th>3</th>\n",
       "      <td>English</td>\n",
       "      <td>Shakespeare</td>\n",
       "      <td>Macbeth.txt</td>\n",
       "      <td>16874</td>\n",
       "      <td>4780</td>\n",
       "    </tr>\n",
       "    <tr>\n",
       "      <th>4</th>\n",
       "      <td>English</td>\n",
       "      <td>Shakespeare</td>\n",
       "      <td>Othello.txt</td>\n",
       "      <td>26590</td>\n",
       "      <td>5898</td>\n",
       "    </tr>\n",
       "    <tr>\n",
       "      <th>5</th>\n",
       "      <td>English</td>\n",
       "      <td>Shakespeare</td>\n",
       "      <td>Richard III.txt</td>\n",
       "      <td>48315</td>\n",
       "      <td>5449</td>\n",
       "    </tr>\n",
       "  </tbody>\n",
       "</table>\n",
       "</div>"
      ],
      "text/plain": [
       "  language       author                          title length unique\n",
       "1  English  Shakespeare  A Midsummer Night's Dream.txt  16103   4345\n",
       "2  English  Shakespeare                     Hamlet.txt  28551   6776\n",
       "3  English  Shakespeare                    Macbeth.txt  16874   4780\n",
       "4  English  Shakespeare                    Othello.txt  26590   5898\n",
       "5  English  Shakespeare                Richard III.txt  48315   5449"
      ]
     },
     "execution_count": 110,
     "metadata": {},
     "output_type": "execute_result"
    }
   ],
   "source": [
    "stats['author'] = stats['author'].str.capitalize()\n",
    "stats.head()"
   ]
  },
  {
   "cell_type": "code",
   "execution_count": 111,
   "metadata": {},
   "outputs": [
    {
     "data": {
      "text/html": [
       "<div>\n",
       "<style>\n",
       "    .dataframe thead tr:only-child th {\n",
       "        text-align: right;\n",
       "    }\n",
       "\n",
       "    .dataframe thead th {\n",
       "        text-align: left;\n",
       "    }\n",
       "\n",
       "    .dataframe tbody tr th {\n",
       "        vertical-align: top;\n",
       "    }\n",
       "</style>\n",
       "<table border=\"1\" class=\"dataframe\">\n",
       "  <thead>\n",
       "    <tr style=\"text-align: right;\">\n",
       "      <th></th>\n",
       "      <th>language</th>\n",
       "      <th>author</th>\n",
       "      <th>title</th>\n",
       "      <th>length</th>\n",
       "      <th>unique</th>\n",
       "    </tr>\n",
       "  </thead>\n",
       "  <tbody>\n",
       "    <tr>\n",
       "      <th>1</th>\n",
       "      <td>English</td>\n",
       "      <td>Shakespeare</td>\n",
       "      <td>A Midsummer Night's Dream</td>\n",
       "      <td>16103</td>\n",
       "      <td>4345</td>\n",
       "    </tr>\n",
       "    <tr>\n",
       "      <th>2</th>\n",
       "      <td>English</td>\n",
       "      <td>Shakespeare</td>\n",
       "      <td>Hamlet</td>\n",
       "      <td>28551</td>\n",
       "      <td>6776</td>\n",
       "    </tr>\n",
       "    <tr>\n",
       "      <th>3</th>\n",
       "      <td>English</td>\n",
       "      <td>Shakespeare</td>\n",
       "      <td>Macbeth</td>\n",
       "      <td>16874</td>\n",
       "      <td>4780</td>\n",
       "    </tr>\n",
       "    <tr>\n",
       "      <th>4</th>\n",
       "      <td>English</td>\n",
       "      <td>Shakespeare</td>\n",
       "      <td>Othello</td>\n",
       "      <td>26590</td>\n",
       "      <td>5898</td>\n",
       "    </tr>\n",
       "    <tr>\n",
       "      <th>5</th>\n",
       "      <td>English</td>\n",
       "      <td>Shakespeare</td>\n",
       "      <td>Richard III</td>\n",
       "      <td>48315</td>\n",
       "      <td>5449</td>\n",
       "    </tr>\n",
       "  </tbody>\n",
       "</table>\n",
       "</div>"
      ],
      "text/plain": [
       "  language       author                      title length unique\n",
       "1  English  Shakespeare  A Midsummer Night's Dream  16103   4345\n",
       "2  English  Shakespeare                     Hamlet  28551   6776\n",
       "3  English  Shakespeare                    Macbeth  16874   4780\n",
       "4  English  Shakespeare                    Othello  26590   5898\n",
       "5  English  Shakespeare                Richard III  48315   5449"
      ]
     },
     "execution_count": 111,
     "metadata": {},
     "output_type": "execute_result"
    }
   ],
   "source": [
    "stats['title'] = stats['title'].str.replace(\".txt\",\"\")\n",
    "stats.head()"
   ]
  },
  {
   "cell_type": "code",
   "execution_count": 155,
   "metadata": {},
   "outputs": [
    {
     "data": {
      "text/plain": [
       "1    16103\n",
       "2    28551\n",
       "3    16874\n",
       "4    26590\n",
       "5    48315\n",
       "Name: length, dtype: object"
      ]
     },
     "execution_count": 155,
     "metadata": {},
     "output_type": "execute_result"
    }
   ],
   "source": [
    "stats.length.head() # access the entire column using stats.length"
   ]
  },
  {
   "cell_type": "code",
   "execution_count": 156,
   "metadata": {},
   "outputs": [
    {
     "data": {
      "text/plain": [
       "1    16103\n",
       "2    28551\n",
       "3    16874\n",
       "4    26590\n",
       "5    48315\n",
       "Name: length, dtype: object"
      ]
     },
     "execution_count": 156,
     "metadata": {},
     "output_type": "execute_result"
    }
   ],
   "source": [
    "stats[\"length\"].head()"
   ]
  },
  {
   "cell_type": "code",
   "execution_count": 13,
   "metadata": {},
   "outputs": [
    {
     "data": {
      "image/png": "[encoded data removed]",
      "text/plain": [
       "<matplotlib.figure.Figure at 0x1144438d0>"
      ]
     },
     "metadata": {},
     "output_type": "display_data"
    }
   ],
   "source": [
    "%matplotlib inline\n",
    "import matplotlib.pyplot as plt\n",
    "plt.plot(stats.length, stats.unique,\"bo\");"
   ]
  },
  {
   "cell_type": "code",
   "execution_count": 114,
   "metadata": {},
   "outputs": [
    {
     "data": {
      "image/png": "[encoded data removed]",
      "text/plain": [
       "<matplotlib.figure.Figure at 0x10894ac18>"
      ]
     },
     "metadata": {},
     "output_type": "display_data"
    }
   ],
   "source": [
    "%matplotlib inline\n",
    "import matplotlib.pyplot as plt\n",
    "plt.loglog(stats.length, stats.unique,\"bo\");"
   ]
  },
  {
   "cell_type": "markdown",
   "metadata": {},
   "source": [
    "We can also stratify our data by language in pandas"
   ]
  },
  {
   "cell_type": "code",
   "execution_count": 115,
   "metadata": {},
   "outputs": [
    {
     "data": {
      "text/html": [
       "<div>\n",
       "<style>\n",
       "    .dataframe thead tr:only-child th {\n",
       "        text-align: right;\n",
       "    }\n",
       "\n",
       "    .dataframe thead th {\n",
       "        text-align: left;\n",
       "    }\n",
       "\n",
       "    .dataframe tbody tr th {\n",
       "        vertical-align: top;\n",
       "    }\n",
       "</style>\n",
       "<table border=\"1\" class=\"dataframe\">\n",
       "  <thead>\n",
       "    <tr style=\"text-align: right;\">\n",
       "      <th></th>\n",
       "      <th>language</th>\n",
       "      <th>author</th>\n",
       "      <th>title</th>\n",
       "      <th>length</th>\n",
       "      <th>unique</th>\n",
       "    </tr>\n",
       "  </thead>\n",
       "  <tbody>\n",
       "    <tr>\n",
       "      <th>1</th>\n",
       "      <td>English</td>\n",
       "      <td>Shakespeare</td>\n",
       "      <td>A Midsummer Night's Dream</td>\n",
       "      <td>16103</td>\n",
       "      <td>4345</td>\n",
       "    </tr>\n",
       "    <tr>\n",
       "      <th>2</th>\n",
       "      <td>English</td>\n",
       "      <td>Shakespeare</td>\n",
       "      <td>Hamlet</td>\n",
       "      <td>28551</td>\n",
       "      <td>6776</td>\n",
       "    </tr>\n",
       "    <tr>\n",
       "      <th>3</th>\n",
       "      <td>English</td>\n",
       "      <td>Shakespeare</td>\n",
       "      <td>Macbeth</td>\n",
       "      <td>16874</td>\n",
       "      <td>4780</td>\n",
       "    </tr>\n",
       "    <tr>\n",
       "      <th>4</th>\n",
       "      <td>English</td>\n",
       "      <td>Shakespeare</td>\n",
       "      <td>Othello</td>\n",
       "      <td>26590</td>\n",
       "      <td>5898</td>\n",
       "    </tr>\n",
       "    <tr>\n",
       "      <th>5</th>\n",
       "      <td>English</td>\n",
       "      <td>Shakespeare</td>\n",
       "      <td>Richard III</td>\n",
       "      <td>48315</td>\n",
       "      <td>5449</td>\n",
       "    </tr>\n",
       "    <tr>\n",
       "      <th>6</th>\n",
       "      <td>English</td>\n",
       "      <td>Shakespeare</td>\n",
       "      <td>Romeo and Juliet</td>\n",
       "      <td>40776</td>\n",
       "      <td>5118</td>\n",
       "    </tr>\n",
       "    <tr>\n",
       "      <th>7</th>\n",
       "      <td>English</td>\n",
       "      <td>Shakespeare</td>\n",
       "      <td>The Merchant of Venice</td>\n",
       "      <td>20949</td>\n",
       "      <td>4978</td>\n",
       "    </tr>\n",
       "  </tbody>\n",
       "</table>\n",
       "</div>"
      ],
      "text/plain": [
       "  language       author                      title length unique\n",
       "1  English  Shakespeare  A Midsummer Night's Dream  16103   4345\n",
       "2  English  Shakespeare                     Hamlet  28551   6776\n",
       "3  English  Shakespeare                    Macbeth  16874   4780\n",
       "4  English  Shakespeare                    Othello  26590   5898\n",
       "5  English  Shakespeare                Richard III  48315   5449\n",
       "6  English  Shakespeare           Romeo and Juliet  40776   5118\n",
       "7  English  Shakespeare     The Merchant of Venice  20949   4978"
      ]
     },
     "execution_count": 115,
     "metadata": {},
     "output_type": "execute_result"
    }
   ],
   "source": [
    "stats[stats.language == \"English\"]"
   ]
  },
  {
   "cell_type": "code",
   "execution_count": 127,
   "metadata": {},
   "outputs": [
    {
     "data": {
      "image/png": "[encoded data removed]",
      "text/plain": [
       "<matplotlib.figure.Figure at 0x1088fdeb8>"
      ]
     },
     "metadata": {},
     "output_type": "display_data"
    }
   ],
   "source": [
    "plt.figure(figsize=(10,10))\n",
    "\n",
    "subset = stats[stats.language == \"English\"]\n",
    "plt.loglog(subset.length, subset.unique, \"o\", label = \"English\", color = \"crimson\")\n",
    "\n",
    "subset = stats[stats.language == \"French\"]\n",
    "plt.loglog(subset.length, subset.unique, \"o\", label = \"French\", color = \"forestgreen\")\n",
    "\n",
    "subset = stats[stats.language == \"German\"]\n",
    "plt.loglog(subset.length, subset.unique, \"o\", label = \"German\", color = \"orange\")\n",
    "\n",
    "subset = stats[stats.language == \"Portuguese\"]\n",
    "plt.loglog(subset.length, subset.unique, \"o\", label = \"Portuguese\", color = \"blueviolet\")\n",
    "\n",
    "plt.legend()\n",
    "plt.xlabel(\"Book length\")\n",
    "plt.ylabel(\"Number of unique words\");\n",
    "#plt.savefig(\"lang_plot.pdf\")"
   ]
  },
  {
   "cell_type": "code",
   "execution_count": 18,
   "metadata": {},
   "outputs": [
    {
     "data": {
      "image/png": "[encoded data removed]",
      "text/plain": [
       "<matplotlib.figure.Figure at 0x11a860a20>"
      ]
     },
     "metadata": {},
     "output_type": "display_data"
    }
   ],
   "source": [
    "import seaborn as sns\n",
    "g = sns.pairplot(x_vars=['length'], y_vars=['unique'], data=stats, hue='language', size=7) \n",
    "#g = g.map_offdiag(plt.scatter,  s=35,alpha=0.5);"
   ]
  },
  {
   "cell_type": "code",
   "execution_count": null,
   "metadata": {},
   "outputs": [],
   "source": [
    "g = sns.pairplot(x_vars=['length'], y_vars=['unique'], data=stats, hue='language', size=7, plot_kws = {\"s\": 80}) # increase point size"
   ]
  },
  {
   "cell_type": "markdown",
   "metadata": {},
   "source": [
    "# Homework\n",
    "\n",
    "**Exercise 1**\n",
    "\n",
    "In this case study, we will find and visualize summary statistics of the text of different translations of Hamlet. For this case study, functions count_words_fast, read_book, and word_stats are already defined as in the Case 2 Videos (Videos 3.2.x).\n",
    "\n",
    "book_titles is a nested dictionary, containing book titles within authors within languages, all of which are strings. These books are all stored online, and are accessed throughout this case study. In this exercise, we will first read in and store each translation of Hamlet.\n",
    "\n",
    "\n",
    "-  Define `hamlets` as a `pandas` dataframe with columns `language` and `text`.\n",
    "-  Add an `if`statement to check if the title is equal to `'Hamlet'`.\n",
    "-  Store the results from `read_book(inputfile)` to `text`.\n",
    "-  Consider: How many translations are there? Which languages are they translated into? \n",
    "    Ans: There are three translations: English, German, and Portuguese.\n"
   ]
  },
  {
   "cell_type": "code",
   "execution_count": null,
   "metadata": {},
   "outputs": [],
   "source": [
    "import pandas as pd\n",
    "hamlets = pd.DataFrame(columns=(\"language\",\"text\"))\n",
    "book_dir = \"Books\"\n",
    "title_num = 1\n",
    "for language in book_titles:\n",
    "    for author in book_titles[language]:\n",
    "        for title in book_titles[language][author]:\n",
    "            if title == \"Hamlet\":\n",
    "                inputfile = data_filepath+\"Books/\"+language+\"/\"+author+\"/\"+title+\".txt\"\n",
    "                text = read_book(inputfile)\n",
    "                hamlets.loc[title_num] = language, text\n",
    "                title_num += 1"
   ]
  },
  {
   "cell_type": "markdown",
   "metadata": {},
   "source": [
    "**Exercise 2**\n",
    "In this exercise, we will summarize the text for a single translation of Hamlet in a `pandas` dataframe. The language and text of the first translation of Hamlet in `hamlets` is given in the code section.\n",
    "\n",
    "\n",
    "-  Find the dictionary of word frequency in `text` by calling `count_words_fast()`. Store this as `counted_text`.\n",
    "-  Create a `pandas` dataframe named `data`.\n",
    "-  Using `counted_text`, define two columns in data:\n",
    "    -  `word`, consisting of each unique word in `text`.\n",
    "    -  `count`, consisting of the number of times each word in `word` is included in the text.\n"
   ]
  },
  {
   "cell_type": "code",
   "execution_count": null,
   "metadata": {},
   "outputs": [],
   "source": [
    "import pandas as pd\n",
    "language, text = hamlets.iloc[0]\n",
    "\n",
    "counted_text = count_words_fast(text)\n",
    "data = pd.DataFrame({'word': list(counted_text.keys()),'count': list(counted_text.values())})"
   ]
  },
  {
   "cell_type": "markdown",
   "metadata": {},
   "source": [
    "**Exercise 3**\n",
    "In this exercise, we will continue to define summary statistics for a single translation of Hamlet. The solution code from the previous section is already included here.\n",
    "\n",
    "-  Add a column to `data` named `length`, defined as the length of each word.\n",
    "-  Add another column named `frequency`, which is defined as follows for each word in data:\n",
    "    -  If `count` > 10, frequency is `frequent`.\n",
    "    -  If 1 < `count` <= 10, frequency is `infrequent`.\n",
    "    -  If `count` == 1, frequency is `unique`.\n"
   ]
  },
  {
   "cell_type": "code",
   "execution_count": null,
   "metadata": {},
   "outputs": [],
   "source": [
    "language, text = hamlets.iloc[0]\n",
    "\n",
    "counted_text = count_words_fast(text)\n",
    "\n",
    "data = pd.DataFrame({\n",
    "    \"word\": list(counted_text.keys()),\n",
    "    \"count\": list(counted_text.values())\n",
    "})\n",
    "\n",
    "#data = data.assign(length = list(len(counted_text.keys()))) \n",
    "# df['elderly'] = np.where(df['age']>=50, 'yes', 'no')\n",
    "data['length'] = data.apply(lambda row: len(row.word), axis=1)\n",
    "data.loc[data['count'] > 10,'frequency'] = 'frequent'\n",
    "data.loc[((data['count'] > 1) & (data['count'] <= 10)),'frequency'] = 'infrequent'\n",
    "data.loc[data['count'] == 1,'frequency'] = 'unique'"
   ]
  },
  {
   "cell_type": "code",
   "execution_count": null,
   "metadata": {},
   "outputs": [],
   "source": [
    "# instructor solution\n",
    "language, text = hamlets.iloc[0]\n",
    "\n",
    "counted_text = count_words_fast(text)\n",
    "\n",
    "data = pd.DataFrame({\n",
    "    \"word\": list(counted_text.keys()),\n",
    "    \"count\": list(counted_text.values())\n",
    "})\n",
    "\n",
    "data[\"length\"] = data[\"word\"].apply(len)\n",
    "\n",
    "data.loc[data[\"count\"] > 10,  \"frequency\"] = \"frequent\"\n",
    "data.loc[data[\"count\"] <= 10, \"frequency\"] = \"infrequent\"\n",
    "data.loc[data[\"count\"] == 1,  \"frequency\"] = \"unique\"\n"
   ]
  },
  {
   "cell_type": "markdown",
   "metadata": {},
   "source": [
    "**Exercise 4**\n",
    "In this exercise, we will summarize the statistics in data into a smaller pandas dataframe. The solution code from the previous section is already included here.\n",
    "\n",
    "Create a pandas dataframe named `sub_data` including the following columns:\n",
    "\n",
    "-  `language`, which is the language of the text.\n",
    "-  `frequency`, which is a list containing the strings \"frequent\", \"infrequent\", and \"unique\".\n",
    "-  `mean_word_length`, which is the mean word length of each value in frequency.\n",
    "-  `num_words`, which is the total number of words in each frequency category."
   ]
  }
 ],
 "metadata": {
  "kernelspec": {
   "display_name": "Python 3",
   "language": "python",
   "name": "python3"
  },
  "language_info": {
   "codemirror_mode": {
    "name": "ipython",
    "version": 3
   },
   "file_extension": ".py",
   "mimetype": "text/x-python",
   "name": "python",
   "nbconvert_exporter": "python",
   "pygments_lexer": "ipython3",
   "version": "3.6.3"
  }
 },
 "nbformat": 4,
 "nbformat_minor": 2
}
