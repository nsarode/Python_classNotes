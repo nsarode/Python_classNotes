{
 "cells": [
  {
   "cell_type": "code",
   "execution_count": 3,
   "metadata": {},
   "outputs": [],
   "source": [
    "%matplotlib inline\n",
    "import matplotlib.pyplot as plt\n",
    "from IPython.core.interactiveshell import InteractiveShell\n",
    "InteractiveShell.ast_node_interactivity = \"all\""
   ]
  },
  {
   "cell_type": "markdown",
   "metadata": {},
   "source": [
    "# Case studies I\n",
    "\n",
    "## Case study 1: Learn how to translate DNA\n",
    "\n",
    "This will involve **4 tasks**\n",
    "\n",
    "1. Download only the **sequence** (not header) of DNA (NM_207618.2) as dna.txt and its corresponding protein seq (CDS) as protein.txt from NCBI in FASTA format to computer.\n",
    "\n",
    "2. Import DNA into python\n",
    "\n",
    "3. Check that the length of the seq is divisible by 3\n",
    "\n",
    "4. Import translation table as dictionary\n",
    "\n",
    "4. Look up each 3-letter string in table and store result\n",
    "\n",
    "5. Continute look up till you reach end of sequence\n"
   ]
  },
  {
   "cell_type": "markdown",
   "metadata": {},
   "source": [
    "## Import DNA into python\n",
    "\n",
    "This essentially means that you have to read the file. There are two ways to read a file in python\n",
    "\n",
    "-  Line by line (more memory efficient, but not always useful)"
   ]
  },
  {
   "cell_type": "code",
   "execution_count": null,
   "metadata": {},
   "outputs": [],
   "source": [
    " filename = \"read.txt\"\n",
    "  for line in open(filename):\n",
    "    print(line)\n",
    "    line = line.rstrip() # this removes the \\n at the end of each line and returns a string. And since strings are immutable, have to reassign\n",
    "    print(line)\n",
    "    line = line.rstrip().split(\" \") # will split the \\n stripped string by \" \" and return a list \n",
    "    print(line)"
   ]
  },
  {
   "cell_type": "markdown",
   "metadata": {},
   "source": [
    "-  Complete file at once\n",
    "\n",
    "First confirm if the `pwd` is correct, if not `cd` into that directory from the python console. **_OR_** You can also give complete or relative path to the file instead."
   ]
  },
  {
   "cell_type": "code",
   "execution_count": 9,
   "metadata": {},
   "outputs": [
    {
     "data": {
      "text/plain": [
       "'GGTCAGAAAAAGCCCTCTCCATGTCTACTCACGATACATCCCTGAAAACCACTGAGGAAGTGGCTTTTCA\\nGATCATCTTGCTTTGCCAGTTTGGGGTTGGGACTTTTGCCAATGTATTTCTCTTTGTCTATAATTTCTCT\\nCCAATCTCGACTGGTTCTAAACAGAGGCCCAGACAAGTGATTTTAAGACACATGGCTGTGGCCAATGCCT\\nTAACTCTCTTCCTCACTATATTTCCAAACAACATGATGACTTTTGCTCCAATTATTCCTCAAACTGACCT\\nCAAATGTAAATTAGAATTCTTCACTCGCCTCGTGGCAAGAAGCACAAACTTGTGTTCAACTTGTGTTCTG\\nAGTATCCATCAGTTTGTCACACTTGTTCCTGTTAATTCAGGTAAAGGAATACTCAGAGCAAGTGTCACAA\\nACATGGCAAGTTATTCTTGTTACAGTTGTTGGTTCTTCAGTGTCTTAAATAACATCTACATTCCAATTAA\\nGGTCACTGGTCCACAGTTAACAGACAATAACAATAACTCTAAAAGCAAGTTGTTCTGTTCCACTTCTGAT\\nTTCAGTGTAGGCATTGTCTTCTTGAGGTTTGCCCATGATGCCACATTCATGAGCATCATGGTCTGGACCA\\nGTGTCTCCATGGTACTTCTCCTCCATAGACATTGTCAGAGAATGCAGTACATATTCACTCTCAATCAGGA\\nCCCCAGGGGCCAAGCAGAGACCACAGCAACCCATACTATCCTGATGCTGGTAGTCACATTTGTTGGCTTT\\nTATCTTCTAAGTCTTATTTGTATCATCTTTTACACCTATTTTATATATTCTCATCATTCCCTGAGGCATT\\nGCAATGACATTTTGGTTTCGGGTTTCCCTACAATTTCTCCTTTACTGTTGACCTTCAGAGACCCTAAGGG\\nTCCTTGTTCTGTGTTCTTCAACTGTTGAAAGCCAGAGTCACTAAAAATGCCAAACACAGAAGACAGCTTT\\nGCTAATACCATTAAATACTTTATTCCATAAATATGTTTTTAAAAGCTTGTATGAACAAGGTATGGTGCTC\\nACTGCTATACTTATAAAAGAGTAAGGTTATAATCACTTGTTGATATGAAAAGATTTCTGGTTGGAATCTG\\nATTGAAACAGTGAGTTATTCACCACCCTCCATTCTCT'"
      ]
     },
     "execution_count": 9,
     "metadata": {},
     "output_type": "execute_result"
    }
   ],
   "source": [
    "#pwd # make sure the working directory is correct \n",
    "inputfile = \"./files/dna.txt\"\n",
    "f = open(inputfile,\"r\") # open the file for reading as f\n",
    "seq = f.read() # read entire file into variable seq\n",
    "seq"
   ]
  },
  {
   "cell_type": "markdown",
   "metadata": {},
   "source": [
    "A better way to read the entire file at once is using `with`, which opens a file and uses it for the subsequent block of code only and then closes the file"
   ]
  },
  {
   "cell_type": "code",
   "execution_count": null,
   "metadata": {},
   "outputs": [],
   "source": [
    "inputfile = \"./files/dna.txt\"\n",
    "with open(inputfile,\"r\") as f:\n",
    "    seq = f.read() # read entire file into variable seq\n",
    "seq"
   ]
  },
  {
   "cell_type": "markdown",
   "metadata": {},
   "source": [
    "Notice the `\\n` in the printed sequence above ? We need to get rid of it otherwise it will cause problems during translation"
   ]
  },
  {
   "cell_type": "code",
   "execution_count": 10,
   "metadata": {},
   "outputs": [
    {
     "name": "stdout",
     "output_type": "stream",
     "text": [
      "GGTCAGAAAAAGCCCTCTCCATGTCTACTCACGATACATCCCTGAAAACCACTGAGGAAGTGGCTTTTCA\n",
      "GATCATCTTGCTTTGCCAGTTTGGGGTTGGGACTTTTGCCAATGTATTTCTCTTTGTCTATAATTTCTCT\n",
      "CCAATCTCGACTGGTTCTAAACAGAGGCCCAGACAAGTGATTTTAAGACACATGGCTGTGGCCAATGCCT\n",
      "TAACTCTCTTCCTCACTATATTTCCAAACAACATGATGACTTTTGCTCCAATTATTCCTCAAACTGACCT\n",
      "CAAATGTAAATTAGAATTCTTCACTCGCCTCGTGGCAAGAAGCACAAACTTGTGTTCAACTTGTGTTCTG\n",
      "AGTATCCATCAGTTTGTCACACTTGTTCCTGTTAATTCAGGTAAAGGAATACTCAGAGCAAGTGTCACAA\n",
      "ACATGGCAAGTTATTCTTGTTACAGTTGTTGGTTCTTCAGTGTCTTAAATAACATCTACATTCCAATTAA\n",
      "GGTCACTGGTCCACAGTTAACAGACAATAACAATAACTCTAAAAGCAAGTTGTTCTGTTCCACTTCTGAT\n",
      "TTCAGTGTAGGCATTGTCTTCTTGAGGTTTGCCCATGATGCCACATTCATGAGCATCATGGTCTGGACCA\n",
      "GTGTCTCCATGGTACTTCTCCTCCATAGACATTGTCAGAGAATGCAGTACATATTCACTCTCAATCAGGA\n",
      "CCCCAGGGGCCAAGCAGAGACCACAGCAACCCATACTATCCTGATGCTGGTAGTCACATTTGTTGGCTTT\n",
      "TATCTTCTAAGTCTTATTTGTATCATCTTTTACACCTATTTTATATATTCTCATCATTCCCTGAGGCATT\n",
      "GCAATGACATTTTGGTTTCGGGTTTCCCTACAATTTCTCCTTTACTGTTGACCTTCAGAGACCCTAAGGG\n",
      "TCCTTGTTCTGTGTTCTTCAACTGTTGAAAGCCAGAGTCACTAAAAATGCCAAACACAGAAGACAGCTTT\n",
      "GCTAATACCATTAAATACTTTATTCCATAAATATGTTTTTAAAAGCTTGTATGAACAAGGTATGGTGCTC\n",
      "ACTGCTATACTTATAAAAGAGTAAGGTTATAATCACTTGTTGATATGAAAAGATTTCTGGTTGGAATCTG\n",
      "ATTGAAACAGTGAGTTATTCACCACCCTCCATTCTCT\n"
     ]
    }
   ],
   "source": [
    "print(seq)"
   ]
  },
  {
   "cell_type": "code",
   "execution_count": 12,
   "metadata": {},
   "outputs": [
    {
     "name": "stdout",
     "output_type": "stream",
     "text": [
      "GGTCAGAAAAAGCCCTCTCCATGTCTACTCACGATACATCCCTGAAAACCACTGAGGAAGTGGCTTTTCAGATCATCTTGCTTTGCCAGTTTGGGGTTGGGACTTTTGCCAATGTATTTCTCTTTGTCTATAATTTCTCTCCAATCTCGACTGGTTCTAAACAGAGGCCCAGACAAGTGATTTTAAGACACATGGCTGTGGCCAATGCCTTAACTCTCTTCCTCACTATATTTCCAAACAACATGATGACTTTTGCTCCAATTATTCCTCAAACTGACCTCAAATGTAAATTAGAATTCTTCACTCGCCTCGTGGCAAGAAGCACAAACTTGTGTTCAACTTGTGTTCTGAGTATCCATCAGTTTGTCACACTTGTTCCTGTTAATTCAGGTAAAGGAATACTCAGAGCAAGTGTCACAAACATGGCAAGTTATTCTTGTTACAGTTGTTGGTTCTTCAGTGTCTTAAATAACATCTACATTCCAATTAAGGTCACTGGTCCACAGTTAACAGACAATAACAATAACTCTAAAAGCAAGTTGTTCTGTTCCACTTCTGATTTCAGTGTAGGCATTGTCTTCTTGAGGTTTGCCCATGATGCCACATTCATGAGCATCATGGTCTGGACCAGTGTCTCCATGGTACTTCTCCTCCATAGACATTGTCAGAGAATGCAGTACATATTCACTCTCAATCAGGACCCCAGGGGCCAAGCAGAGACCACAGCAACCCATACTATCCTGATGCTGGTAGTCACATTTGTTGGCTTTTATCTTCTAAGTCTTATTTGTATCATCTTTTACACCTATTTTATATATTCTCATCATTCCCTGAGGCATTGCAATGACATTTTGGTTTCGGGTTTCCCTACAATTTCTCCTTTACTGTTGACCTTCAGAGACCCTAAGGGTCCTTGTTCTGTGTTCTTCAACTGTTGAAAGCCAGAGTCACTAAAAATGCCAAACACAGAAGACAGCTTTGCTAATACCATTAAATACTTTATTCCATAAATATGTTTTTAAAAGCTTGTATGAACAAGGTATGGTGCTCACTGCTATACTTATAAAAGAGTAAGGTTATAATCACTTGTTGATATGAAAAGATTTCTGGTTGGAATCTGATTGAAACAGTGAGTTATTCACCACCCTCCATTCTCT\n"
     ]
    }
   ],
   "source": [
    "seq = seq.replace(\"\\n\",\"\")\n",
    "print(seq)"
   ]
  },
  {
   "cell_type": "markdown",
   "metadata": {},
   "source": [
    "Sometimes return carriage character `\\r` is another invisible character that could be present in your copied text. Depending on your editor, you may or may not see it. It is just safer to add a line of code to replace it, just in case"
   ]
  },
  {
   "cell_type": "code",
   "execution_count": 13,
   "metadata": {},
   "outputs": [
    {
     "name": "stdout",
     "output_type": "stream",
     "text": [
      "GGTCAGAAAAAGCCCTCTCCATGTCTACTCACGATACATCCCTGAAAACCACTGAGGAAGTGGCTTTTCAGATCATCTTGCTTTGCCAGTTTGGGGTTGGGACTTTTGCCAATGTATTTCTCTTTGTCTATAATTTCTCTCCAATCTCGACTGGTTCTAAACAGAGGCCCAGACAAGTGATTTTAAGACACATGGCTGTGGCCAATGCCTTAACTCTCTTCCTCACTATATTTCCAAACAACATGATGACTTTTGCTCCAATTATTCCTCAAACTGACCTCAAATGTAAATTAGAATTCTTCACTCGCCTCGTGGCAAGAAGCACAAACTTGTGTTCAACTTGTGTTCTGAGTATCCATCAGTTTGTCACACTTGTTCCTGTTAATTCAGGTAAAGGAATACTCAGAGCAAGTGTCACAAACATGGCAAGTTATTCTTGTTACAGTTGTTGGTTCTTCAGTGTCTTAAATAACATCTACATTCCAATTAAGGTCACTGGTCCACAGTTAACAGACAATAACAATAACTCTAAAAGCAAGTTGTTCTGTTCCACTTCTGATTTCAGTGTAGGCATTGTCTTCTTGAGGTTTGCCCATGATGCCACATTCATGAGCATCATGGTCTGGACCAGTGTCTCCATGGTACTTCTCCTCCATAGACATTGTCAGAGAATGCAGTACATATTCACTCTCAATCAGGACCCCAGGGGCCAAGCAGAGACCACAGCAACCCATACTATCCTGATGCTGGTAGTCACATTTGTTGGCTTTTATCTTCTAAGTCTTATTTGTATCATCTTTTACACCTATTTTATATATTCTCATCATTCCCTGAGGCATTGCAATGACATTTTGGTTTCGGGTTTCCCTACAATTTCTCCTTTACTGTTGACCTTCAGAGACCCTAAGGGTCCTTGTTCTGTGTTCTTCAACTGTTGAAAGCCAGAGTCACTAAAAATGCCAAACACAGAAGACAGCTTTGCTAATACCATTAAATACTTTATTCCATAAATATGTTTTTAAAAGCTTGTATGAACAAGGTATGGTGCTCACTGCTATACTTATAAAAGAGTAAGGTTATAATCACTTGTTGATATGAAAAGATTTCTGGTTGGAATCTGATTGAAACAGTGAGTTATTCACCACCCTCCATTCTCT\n"
     ]
    }
   ],
   "source": [
    "seq = seq.replace(\"\\r\",\"\")\n",
    "print(seq)"
   ]
  },
  {
   "cell_type": "code",
   "execution_count": 5,
   "metadata": {},
   "outputs": [],
   "source": [
    "def read_seq(inputfilename):\n",
    "    \"\"\"Reads and returns the input sequence with special characters removed\"\"\"\n",
    "    with open(inputfilename,\"r\") as f:\n",
    "        seq = f.read() # read entire file into variable seq\n",
    "    seq = seq.replace(\"\\n\",\"\")\n",
    "    seq = seq.replace(\"\\r\",\"\")\n",
    "    return seq"
   ]
  },
  {
   "cell_type": "markdown",
   "metadata": {},
   "source": [
    "`./files/table.py` contains a pre-made dictionary named table. Copy it here (make sure it is not indented)"
   ]
  },
  {
   "cell_type": "code",
   "execution_count": 16,
   "metadata": {},
   "outputs": [
    {
     "data": {
      "text/plain": [
       "'E'"
      ]
     },
     "execution_count": 16,
     "metadata": {},
     "output_type": "execute_result"
    }
   ],
   "source": [
    "table = {\n",
    "    'ATA':'I', 'ATC':'I', 'ATT':'I', 'ATG':'M',\n",
    "    'ACA':'T', 'ACC':'T', 'ACG':'T', 'ACT':'T',\n",
    "    'AAC':'N', 'AAT':'N', 'AAA':'K', 'AAG':'K',\n",
    "    'AGC':'S', 'AGT':'S', 'AGA':'R', 'AGG':'R',\n",
    "    'CTA':'L', 'CTC':'L', 'CTG':'L', 'CTT':'L',\n",
    "    'CCA':'P', 'CCC':'P', 'CCG':'P', 'CCT':'P',\n",
    "    'CAC':'H', 'CAT':'H', 'CAA':'Q', 'CAG':'Q',\n",
    "    'CGA':'R', 'CGC':'R', 'CGG':'R', 'CGT':'R',\n",
    "    'GTA':'V', 'GTC':'V', 'GTG':'V', 'GTT':'V',\n",
    "    'GCA':'A', 'GCC':'A', 'GCG':'A', 'GCT':'A',\n",
    "    'GAC':'D', 'GAT':'D', 'GAA':'E', 'GAG':'E',\n",
    "    'GGA':'G', 'GGC':'G', 'GGG':'G', 'GGT':'G',\n",
    "    'TCA':'S', 'TCC':'S', 'TCG':'S', 'TCT':'S',\n",
    "    'TTC':'F', 'TTT':'F', 'TTA':'L', 'TTG':'L',\n",
    "    'TAC':'Y', 'TAT':'Y', 'TAA':'_', 'TAG':'_',\n",
    "    'TGC':'C', 'TGT':'C', 'TGA':'_', 'TGG':'W',\n",
    "}\n",
    "#print(table)\n",
    "# how to traverse a dictionary\n",
    "table['GAA']"
   ]
  },
  {
   "cell_type": "code",
   "execution_count": 17,
   "metadata": {},
   "outputs": [
    {
     "data": {
      "text/plain": [
       "'E'"
      ]
     },
     "execution_count": 17,
     "metadata": {},
     "output_type": "execute_result"
    }
   ],
   "source": [
    "# or\n",
    "table[\"GAA\"]"
   ]
  },
  {
   "cell_type": "markdown",
   "metadata": {},
   "source": [
    "## Check that the length of the seq is divisible by 3\n",
    "\n",
    "This can be done using `%` which checks if the remainder is zero.\n"
   ]
  },
  {
   "cell_type": "code",
   "execution_count": 20,
   "metadata": {},
   "outputs": [
    {
     "data": {
      "text/plain": [
       "2"
      ]
     },
     "execution_count": 20,
     "metadata": {},
     "output_type": "execute_result"
    }
   ],
   "source": [
    "len(seq) % 3 "
   ]
  },
  {
   "cell_type": "code",
   "execution_count": 2,
   "metadata": {},
   "outputs": [],
   "source": [
    "def translate(seq):\n",
    "    \"\"\"Translate a string containing a nucleotide sequence into a string containing the corresponding sequence of amino acids . Nucleotides are translated in triplets using the table dictionary; each amino acid 4 is encoded with a string of length 1\"\"\"\n",
    "    table = {\n",
    "    'ATA':'I', 'ATC':'I', 'ATT':'I', 'ATG':'M',\n",
    "    'ACA':'T', 'ACC':'T', 'ACG':'T', 'ACT':'T',\n",
    "    'AAC':'N', 'AAT':'N', 'AAA':'K', 'AAG':'K',\n",
    "    'AGC':'S', 'AGT':'S', 'AGA':'R', 'AGG':'R',\n",
    "    'CTA':'L', 'CTC':'L', 'CTG':'L', 'CTT':'L',\n",
    "    'CCA':'P', 'CCC':'P', 'CCG':'P', 'CCT':'P',\n",
    "    'CAC':'H', 'CAT':'H', 'CAA':'Q', 'CAG':'Q',\n",
    "    'CGA':'R', 'CGC':'R', 'CGG':'R', 'CGT':'R',\n",
    "    'GTA':'V', 'GTC':'V', 'GTG':'V', 'GTT':'V',\n",
    "    'GCA':'A', 'GCC':'A', 'GCG':'A', 'GCT':'A',\n",
    "    'GAC':'D', 'GAT':'D', 'GAA':'E', 'GAG':'E',\n",
    "    'GGA':'G', 'GGC':'G', 'GGG':'G', 'GGT':'G',\n",
    "    'TCA':'S', 'TCC':'S', 'TCG':'S', 'TCT':'S',\n",
    "    'TTC':'F', 'TTT':'F', 'TTA':'L', 'TTG':'L',\n",
    "    'TAC':'Y', 'TAT':'Y', 'TAA':'_', 'TAG':'_',\n",
    "    'TGC':'C', 'TGT':'C', 'TGA':'_', 'TGG':'W',\n",
    "    }\n",
    "    \n",
    "    protein = \"\"\n",
    "    if len(seq)%3 == 0:\n",
    "        for i in range(0, len(seq), 3):\n",
    "            codon = seq[i: i+3]\n",
    "            protein += table[codon]\n",
    "    return(protein)\n",
    "        \n",
    "    "
   ]
  },
  {
   "cell_type": "code",
   "execution_count": 66,
   "metadata": {},
   "outputs": [
    {
     "data": {
      "text/plain": [
       "'I'"
      ]
     },
     "execution_count": 66,
     "metadata": {},
     "output_type": "execute_result"
    }
   ],
   "source": [
    "# lets test it out\n",
    "translate(\"ATA\")"
   ]
  },
  {
   "cell_type": "code",
   "execution_count": 56,
   "metadata": {},
   "outputs": [
    {
     "name": "stdout",
     "output_type": "stream",
     "text": [
      "Help on function translate in module __main__:\n",
      "\n",
      "translate(seq)\n",
      "    Translate a string containing a nt seq into its corresponding protein seq by translating codons using translation table\n",
      "\n"
     ]
    }
   ],
   "source": [
    "help(translate) # the docstring gives the help menu"
   ]
  },
  {
   "cell_type": "code",
   "execution_count": 6,
   "metadata": {},
   "outputs": [
    {
     "data": {
      "text/plain": [
       "'MSTHDTSLKTTEEVAFQIILLCQFGVGTFANVFLFVYNFSPISTGSKQRPRQVILRHMAVANALTLFLTIFPNNMMTFAPIIPQTDLKCKLEFFTRLVARSTNLCSTCVLSIHQFVTLVPVNSGKGILRASVTNMASYSCYSCWFFSVLNNIYIPIKVTGPQLTDNNNNSKSKLFCSTSDFSVGIVFLRFAHDATFMSIMVWTSVSMVLLLHRHCQRMQYIFTLNQDPRGQAETTATHTILMLVVTFVGFYLLSLICIIFYTYFIYSHHSLRHCNDILVSGFPTISPLLLTFRDPKGPCSVFFNC'"
      ]
     },
     "execution_count": 6,
     "metadata": {},
     "output_type": "execute_result"
    }
   ],
   "source": [
    "profilename = \"./files/protein.txt\"\n",
    "pro = read_seq(profilename)\n",
    "pro"
   ]
  },
  {
   "cell_type": "code",
   "execution_count": 7,
   "metadata": {},
   "outputs": [
    {
     "data": {
      "text/plain": [
       "'GGTCAGAAAAAGCCCTCTCCATGTCTACTCACGATACATCCCTGAAAACCACTGAGGAAGTGGCTTTTCAGATCATCTTGCTTTGCCAGTTTGGGGTTGGGACTTTTGCCAATGTATTTCTCTTTGTCTATAATTTCTCTCCAATCTCGACTGGTTCTAAACAGAGGCCCAGACAAGTGATTTTAAGACACATGGCTGTGGCCAATGCCTTAACTCTCTTCCTCACTATATTTCCAAACAACATGATGACTTTTGCTCCAATTATTCCTCAAACTGACCTCAAATGTAAATTAGAATTCTTCACTCGCCTCGTGGCAAGAAGCACAAACTTGTGTTCAACTTGTGTTCTGAGTATCCATCAGTTTGTCACACTTGTTCCTGTTAATTCAGGTAAAGGAATACTCAGAGCAAGTGTCACAAACATGGCAAGTTATTCTTGTTACAGTTGTTGGTTCTTCAGTGTCTTAAATAACATCTACATTCCAATTAAGGTCACTGGTCCACAGTTAACAGACAATAACAATAACTCTAAAAGCAAGTTGTTCTGTTCCACTTCTGATTTCAGTGTAGGCATTGTCTTCTTGAGGTTTGCCCATGATGCCACATTCATGAGCATCATGGTCTGGACCAGTGTCTCCATGGTACTTCTCCTCCATAGACATTGTCAGAGAATGCAGTACATATTCACTCTCAATCAGGACCCCAGGGGCCAAGCAGAGACCACAGCAACCCATACTATCCTGATGCTGGTAGTCACATTTGTTGGCTTTTATCTTCTAAGTCTTATTTGTATCATCTTTTACACCTATTTTATATATTCTCATCATTCCCTGAGGCATTGCAATGACATTTTGGTTTCGGGTTTCCCTACAATTTCTCCTTTACTGTTGACCTTCAGAGACCCTAAGGGTCCTTGTTCTGTGTTCTTCAACTGTTGAAAGCCAGAGTCACTAAAAATGCCAAACACAGAAGACAGCTTTGCTAATACCATTAAATACTTTATTCCATAAATATGTTTTTAAAAGCTTGTATGAACAAGGTATGGTGCTCACTGCTATACTTATAAAAGAGTAAGGTTATAATCACTTGTTGATATGAAAAGATTTCTGGTTGGAATCTGATTGAAACAGTGAGTTATTCACCACCCTCCATTCTCT'"
      ]
     },
     "execution_count": 7,
     "metadata": {},
     "output_type": "execute_result"
    }
   ],
   "source": [
    "dnafilename = \"./files/dna.txt\"\n",
    "dna = read_seq(dnafilename)\n",
    "dna"
   ]
  },
  {
   "cell_type": "code",
   "execution_count": null,
   "metadata": {},
   "outputs": [],
   "source": [
    "translate(dna)"
   ]
  },
  {
   "cell_type": "markdown",
   "metadata": {},
   "source": [
    "Since our sequence length is not divisible by 3, we don't get anything returned by our function ! Checking with the original NCBI entry, we see that the CDS is actually between 21 - 938 ( 20 - 938 in python indexing)"
   ]
  },
  {
   "cell_type": "code",
   "execution_count": 41,
   "metadata": {},
   "outputs": [
    {
     "data": {
      "text/plain": [
       "'MSTHDTSLKTTEEVAFQIILLCQFGVGTFANVFLFVYNFSPISTGSKQRPRQVILRHMAVANALTLFLTIFPNNMMTFAPIIPQTDLKCKLEFFTRLVARSTNLCSTCVLSIHQFVTLVPVNSGKGILRASVTNMASYSCYSCWFFSVLNNIYIPIKVTGPQLTDNNNNSKSKLFCSTSDFSVGIVFLRFAHDATFMSIMVWTSVSMVLLLHRHCQRMQYIFTLNQDPRGQAETTATHTILMLVVTFVGFYLLSLICIIFYTYFIYSHHSLRHCNDILVSGFPTISPLLLTFRDPKGPCSVFFNC_'"
      ]
     },
     "execution_count": 41,
     "metadata": {},
     "output_type": "execute_result"
    }
   ],
   "source": [
    "translate(dna[20:938])"
   ]
  },
  {
   "cell_type": "code",
   "execution_count": 9,
   "metadata": {},
   "outputs": [
    {
     "data": {
      "text/plain": [
       "False"
      ]
     },
     "execution_count": 9,
     "metadata": {},
     "output_type": "execute_result"
    }
   ],
   "source": [
    "pro == translate(dna[20:938])"
   ]
  },
  {
   "cell_type": "markdown",
   "metadata": {},
   "source": [
    "Since the stop codon is included in our downloaded (and CDS positions), we see the extra `_` in our translation. So if we remove the last codon, our translation will be identical to that of the NCBI download protein seq"
   ]
  },
  {
   "cell_type": "code",
   "execution_count": 42,
   "metadata": {},
   "outputs": [
    {
     "data": {
      "text/plain": [
       "'MSTHDTSLKTTEEVAFQIILLCQFGVGTFANVFLFVYNFSPISTGSKQRPRQVILRHMAVANALTLFLTIFPNNMMTFAPIIPQTDLKCKLEFFTRLVARSTNLCSTCVLSIHQFVTLVPVNSGKGILRASVTNMASYSCYSCWFFSVLNNIYIPIKVTGPQLTDNNNNSKSKLFCSTSDFSVGIVFLRFAHDATFMSIMVWTSVSMVLLLHRHCQRMQYIFTLNQDPRGQAETTATHTILMLVVTFVGFYLLSLICIIFYTYFIYSHHSLRHCNDILVSGFPTISPLLLTFRDPKGPCSVFFNC'"
      ]
     },
     "execution_count": 42,
     "metadata": {},
     "output_type": "execute_result"
    }
   ],
   "source": [
    "translate(dna[20:935])"
   ]
  },
  {
   "cell_type": "code",
   "execution_count": 10,
   "metadata": {},
   "outputs": [
    {
     "data": {
      "text/plain": [
       "True"
      ]
     },
     "execution_count": 10,
     "metadata": {},
     "output_type": "execute_result"
    }
   ],
   "source": [
    "pro == translate(dna[20:935])"
   ]
  },
  {
   "cell_type": "markdown",
   "metadata": {},
   "source": [
    "Instead of removing the last codon of the DNA sequence, we could also simply omit the last amino acid of the translated sequence "
   ]
  },
  {
   "cell_type": "code",
   "execution_count": 11,
   "metadata": {},
   "outputs": [
    {
     "data": {
      "text/plain": [
       "True"
      ]
     },
     "execution_count": 11,
     "metadata": {},
     "output_type": "execute_result"
    }
   ],
   "source": [
    "pro == translate(dna[20:938])[:-1]"
   ]
  },
  {
   "cell_type": "code",
   "execution_count": 12,
   "metadata": {},
   "outputs": [
    {
     "data": {
      "text/plain": [
       "True"
      ]
     },
     "execution_count": 12,
     "metadata": {},
     "output_type": "execute_result"
    }
   ],
   "source": [
    "translate(dna[20:938])[:-1] == translate(dna[20:935])"
   ]
  },
  {
   "cell_type": "markdown",
   "metadata": {},
   "source": [
    "## Homework \n",
    "\n",
    "**Exercise 1**\n",
    "\n",
    "A cipher is a secret code for a language. In this case study, we will explore a cipher that is reported by contemporary Greek historians to have been used by Julius Caesar to send secret messages to generals during times of war.\n",
    "\n",
    "The Caesar cipher shifts each letter of a message to another letter in the alphabet located a fixed distance from the original letter. If our encryption key were 1, we would shift `h` to the next letter `i`, `i` to the next letter `j`, and so on. If we reach the end of the alphabet, which for us is the space character, we simply loop back to `a`. To decode the message, we make a similar shift, except we move the same number of steps backwards in the alphabet.\n",
    "\n",
    "Over the next five exercises, we will create our own Caesar cipher, as well as a message decoder for this cipher. In this exercise, we will define the alphabet used in the cipher.\n",
    "\n",
    "-  The `string` library has been imported. Create a string called `alphabet` consisting of the lowercase letters of the space character space `' '`, concatenated with string.ascii_lowercase at the end."
   ]
  },
  {
   "cell_type": "code",
   "execution_count": null,
   "metadata": {},
   "outputs": [],
   "source": [
    "import string\n",
    "alphabet = (' ') + string.ascii_lowercase"
   ]
  },
  {
   "cell_type": "markdown",
   "metadata": {},
   "source": [
    "**Exercise 2**\n",
    "\n",
    "In this exercise, we will define a dictionary that specifies the index of each character in alphabet.\n",
    "\n",
    "-  `alphabet` has already defined from the last exercise. Create a dictionary with keys consisting of the characters in `alphabet`, and values consisting of the numbers from 0 to 26.\n",
    "-  Store this as `positions`.\n"
   ]
  },
  {
   "cell_type": "code",
   "execution_count": null,
   "metadata": {},
   "outputs": [],
   "source": [
    "positions = {}\n",
    "cnt = 0\n",
    "for k in list(alphabet):\n",
    "    positions[k] = cnt\n",
    "    cnt +=1"
   ]
  },
  {
   "cell_type": "markdown",
   "metadata": {},
   "source": [
    "**Exercise 3**\n",
    "\n",
    "In this exercise, we will encode a message with a Caesar cipher.\n",
    "\n",
    "-  `alphabet` and `positions` have already been defined from previous exercises. Use `positions` to create an encoded message based on message where each character in message has been shifted forward by 1 position, as defined by positions. Note that you can ensure the result remains within 0-26 using result % 27\n",
    "-  Store this as `encoded_message`.\n"
   ]
  },
  {
   "cell_type": "code",
   "execution_count": null,
   "metadata": {},
   "outputs": [],
   "source": [
    "message = \"hi my name is caesar\"\n",
    "alphabet\n",
    "encoded_message = ''\n",
    "newvals = []\n",
    "for x in list(message):\n",
    "    #print(x + \"=\"+str(positions[x]))\n",
    "        #print(x)\n",
    "    if positions[x] != 26:\n",
    "        newpos = positions[x]+1\n",
    "        newvals.append(newpos)\n",
    "        #print(x + \"is now =\"+ str(newpos))\n",
    "    else:\n",
    "        newpos = 0\n",
    "        newvals.append(newpos)\n",
    "        #print(x + \"is now =\"+ str(newpos))      \n",
    "\n",
    "#newvals\n",
    "for val in newvals:\n",
    "    for m in positions.keys():\n",
    "        if positions[m] == val:\n",
    "            #print(m)\n",
    "            encoded_message += m\n",
    "\n",
    "encoded_message"
   ]
  },
  {
   "cell_type": "raw",
   "metadata": {},
   "source": [
    "# instructor answer\n",
    "encoding_list = []\n",
    "for char in message:\n",
    "    position = positions[char]\n",
    "    encoded_position = (position + 1) % 27\n",
    "    encoding_list.append(alphabet[encoded_position])\n",
    "encoded_string = \"\".join(encoding_list)"
   ]
  },
  {
   "cell_type": "markdown",
   "metadata": {},
   "source": [
    "**Exercise 4 **\n",
    "\n",
    "In this exercise, we will define a function that encodes a message with any given encryption key.\n",
    "\n",
    "-  `alphabet`, `position` and `message` remain defined from previous exercises. In addition, sample code for the previous exercise is provided below. Modify this code to define a function `encoding` that takes a message as input as well as an `int` encryption key `key` to encode a message with the Caesar cipher by shifting each letter in `message` by `key` positions.\n",
    "-  Your function should return a string consisting of these encoded letters.\n",
    "-  Use `encode` to encode `message` using `key = 3`, and save the result as `encoded_message`.\n",
    "-  Print `encoded_message`"
   ]
  },
  {
   "cell_type": "code",
   "execution_count": null,
   "metadata": {},
   "outputs": [],
   "source": [
    "def encoding(message,key):\n",
    "    encoding_list = []\n",
    "    for char in message:\n",
    "        position = positions[char]\n",
    "        encoded_position = (position + key) % 27\n",
    "        encoding_list.append(alphabet[encoded_position])\n",
    "    encoded_string = \"\".join(encoding_list)\n",
    "    return(encoded_string)\n",
    "\n",
    "encoded_message = encoding(message,3)\n",
    "print(encoded_message)"
   ]
  },
  {
   "cell_type": "markdown",
   "metadata": {},
   "source": [
    "**Exercise 5 **\n",
    "\n",
    "In this exercise, we will decode an encoded message.\n",
    "\n",
    "\n",
    "-  Note that `encoding` and `encoded_message` are already loaded from the previous problem. Use `encoding` to decode encoded_message using `key = -3`.\n",
    "-  Store your decoded message as `decoded_message`.\n",
    "-  Print `decoded_message`. Does this recover your original message?\n"
   ]
  },
  {
   "cell_type": "code",
   "execution_count": null,
   "metadata": {},
   "outputs": [],
   "source": [
    "decoded_message = encoding(encoded_message,-3)\n",
    "print(decoded_message)"
   ]
  },
  {
   "cell_type": "markdown",
   "metadata": {},
   "source": [
    "## Case study 2: Language Processing\n",
    "\n",
    "In this case study we are going to use the Gutenburg project to count the unique words in different books.\n"
   ]
  },
  {
   "cell_type": "code",
   "execution_count": 6,
   "metadata": {},
   "outputs": [],
   "source": [
    "text = \"This is my text string. We're keeping this text short to keep it manageable\"\n",
    "\n",
    "def count_words(text):\n",
    "    \"\"\"Counts the number of times each word occurs in text (str). Return dictionary, where keys are unique words and the values are word counts\"\"\"\n",
    "    word_counts = {}\n",
    "    for word in text.split(\" \"):\n",
    "        if word in word_counts:\n",
    "            word_counts[word] += 1\n",
    "        else:\n",
    "            word_counts[word] = 1\n",
    "    return word_counts\n"
   ]
  },
  {
   "cell_type": "markdown",
   "metadata": {},
   "source": [
    "From the result we see few problems that will cause word count inflations.\n",
    "\n",
    "-  words with first letter capitalized <- easy to fix by changing everything to lower case\n",
    "-  words with periods <- more complex to address\n",
    "\n",
    "(test this option later-> [s.translate(None, string.punctuation) for s in test_case])\n",
    "Lets re-write our function "
   ]
  },
  {
   "cell_type": "code",
   "execution_count": 7,
   "metadata": {},
   "outputs": [
    {
     "data": {
      "text/plain": [
       "{'is': 1,\n",
       " 'it': 1,\n",
       " 'keep': 1,\n",
       " 'keeping': 1,\n",
       " 'manageable': 1,\n",
       " 'my': 1,\n",
       " 'short': 1,\n",
       " 'string': 1,\n",
       " 'text': 2,\n",
       " 'this': 2,\n",
       " 'to': 1,\n",
       " 'were': 1}"
      ]
     },
     "execution_count": 7,
     "metadata": {},
     "output_type": "execute_result"
    }
   ],
   "source": [
    "def count_words(text):\n",
    "    \"\"\"Counts the number of times each word occurs in text (str). Return dictionary, where keys are unique words and the values are word counts. Punctuations are skipped and first letter capitalizations are ignored\"\"\"\n",
    "    text = text.lower()\n",
    "    skips = [\",\",\".\",\";\",\":\",\"'\",'\"'] # note that \" is enclosed within single quotes\n",
    "    for ch in skips:\n",
    "        text = text.replace(ch, \"\")\n",
    "    word_counts = {}\n",
    "    for word in text.split(\" \"):\n",
    "        if word in word_counts:\n",
    "            word_counts[word] += 1\n",
    "        else:\n",
    "            word_counts[word] = 1\n",
    "    return word_counts\n",
    "\n",
    "count_words(text)"
   ]
  },
  {
   "cell_type": "markdown",
   "metadata": {},
   "source": [
    "Python has a `collections` module that has a `counter` function that is very handy for our purpose"
   ]
  },
  {
   "cell_type": "code",
   "execution_count": 8,
   "metadata": {},
   "outputs": [],
   "source": [
    "from collections import Counter\n",
    "\n",
    "def count_words_fast(text):\n",
    "    \"\"\"Counts the number of times each word occurs in text (str). Return dictionary, where keys are unique words and the values are word counts. Punctuations are skipped and first letter capitalizations are ignored\"\"\"\n",
    "    text = text.lower()\n",
    "    skips = [\",\",\".\",\";\",\":\",\"'\",'\"'] # note that \" is enclosed within single quotes\n",
    "    for ch in skips:\n",
    "        text = text.replace(ch, \"\")\n",
    "    word_counts = Counter(text.split(\" \"))\n",
    "    return word_counts"
   ]
  },
  {
   "cell_type": "code",
   "execution_count": null,
   "metadata": {},
   "outputs": [],
   "source": [
    "count_words(text)"
   ]
  },
  {
   "cell_type": "code",
   "execution_count": null,
   "metadata": {},
   "outputs": [],
   "source": [
    "count_words_fast(text)"
   ]
  },
  {
   "cell_type": "code",
   "execution_count": 9,
   "metadata": {},
   "outputs": [
    {
     "data": {
      "text/plain": [
       "True"
      ]
     },
     "execution_count": 9,
     "metadata": {},
     "output_type": "execute_result"
    }
   ],
   "source": [
    "count_words(text) == count_words_fast(text)"
   ]
  },
  {
   "cell_type": "code",
   "execution_count": 5,
   "metadata": {},
   "outputs": [
    {
     "data": {
      "text/plain": [
       "6"
      ]
     },
     "execution_count": 5,
     "metadata": {},
     "output_type": "execute_result"
    }
   ],
   "source": [
    "len(count_words(\"This comprehension check is to check for comprehension.\"))"
   ]
  },
  {
   "cell_type": "code",
   "execution_count": 9,
   "metadata": {},
   "outputs": [],
   "source": [
    "def read_book(title_path):\n",
    "    \"\"\"Read a book and return it as a string\"\"\"\n",
    "    with open(title_path,\"r\", encoding=\"utf8\") as current_file:\n",
    "        text = current_file.read()\n",
    "        text = text.replace(\"\\n\",\"\").replace(\"\\r\",\"\")\n",
    "    return(text)"
   ]
  },
  {
   "cell_type": "code",
   "execution_count": 7,
   "metadata": {},
   "outputs": [
    {
     "data": {
      "text/plain": [
       "169275"
      ]
     },
     "execution_count": 7,
     "metadata": {},
     "output_type": "execute_result"
    }
   ],
   "source": [
    "text = read_book(\"./files/gutenburg/English/shakespeare/Romeo and Juliet.txt\")\n",
    "len(text)"
   ]
  },
  {
   "cell_type": "markdown",
   "metadata": {},
   "source": [
    "Lets see if we can find the famous line \"What's in a name?\" in our read string"
   ]
  },
  {
   "cell_type": "code",
   "execution_count": 19,
   "metadata": {},
   "outputs": [
    {
     "data": {
      "text/plain": [
       "42757"
      ]
     },
     "execution_count": 19,
     "metadata": {},
     "output_type": "execute_result"
    }
   ],
   "source": [
    "ind = text.find(\"What's in a name?\")\n",
    "ind"
   ]
  },
  {
   "cell_type": "markdown",
   "metadata": {},
   "source": [
    "So the line is there and the returned index gives its starting position"
   ]
  },
  {
   "cell_type": "code",
   "execution_count": 21,
   "metadata": {},
   "outputs": [
    {
     "data": {
      "text/plain": [
       "\"What's in a name? That which we call a rose    By any other name would smell as sweet.    So Romeo would, were he not Romeo call'd,    Retain that dear perfection which he owes    Without that title. Romeo, doff thy name;    And for that name, which is no part of thee,    Take all myself.  Rom. I take thee at thy word.    Call me but love, and I'll be new baptiz'd;    Henceforth I never will be Romeo.  Jul. What man art thou that, thus bescreen'd in night,    So stumblest on my counsel?  Rom. By a name    I know not how to tell thee who I am.    My name, dear saint, is hateful to myself,    Because it is an enemy to thee.    Had I it written, I would tear the word.  Jul. My ears have yet not drunk a hundred words    Of that tongue's utterance, yet I know the sound.    Art thou not Romeo, and a Montague?  Rom. Neither, fair saint, if either thee dislike.  Jul. How cam'st thou hither, tell me, and wherefore?    The orchard walls are high and hard to climb,    And the place death, conside\""
      ]
     },
     "execution_count": 21,
     "metadata": {},
     "output_type": "execute_result"
    }
   ],
   "source": [
    "sample_text = text[ind: ind+1000]\n",
    "sample_text"
   ]
  },
  {
   "cell_type": "code",
   "execution_count": 11,
   "metadata": {},
   "outputs": [],
   "source": [
    "def word_stats(word_counts):\n",
    "    \"\"\"Return number of unique words and word frequencies\"\"\"\n",
    "    num_unique = len(word_counts) # since this is a dictionary of unique words, the length should give us the number of unique keys aka words\n",
    "    counts = word_counts.values() # will return the freq or counts of each unique word in our texty\n",
    "    return(num_unique, counts)"
   ]
  },
  {
   "cell_type": "code",
   "execution_count": null,
   "metadata": {},
   "outputs": [],
   "source": [
    "text = read_book(\"./files/gutenburg/English/shakespeare/Romeo and Juliet.txt\")\n",
    "word_counts = count_words_fast(text)\n",
    "(num_unique, counts) = word_stats(word_counts)"
   ]
  },
  {
   "cell_type": "code",
   "execution_count": 30,
   "metadata": {},
   "outputs": [
    {
     "name": "stdout",
     "output_type": "stream",
     "text": [
      "5118 40776\n"
     ]
    }
   ],
   "source": [
    "print(num_unique,sum(counts))"
   ]
  },
  {
   "cell_type": "code",
   "execution_count": null,
   "metadata": {},
   "outputs": [],
   "source": [
    "sum(counts) # words in total"
   ]
  },
  {
   "cell_type": "markdown",
   "metadata": {},
   "source": [
    "How does the Romeo and Juliet in English compare with its translation in german?"
   ]
  },
  {
   "cell_type": "code",
   "execution_count": 27,
   "metadata": {},
   "outputs": [],
   "source": [
    "textg = read_book(\"./files/gutenburg/German/shakespeare/Romeo und Julia.txt\")\n",
    "word_countsg = count_words_fast(textg)\n",
    "(num_uniqueg, countsg) = word_stats(word_countsg)"
   ]
  },
  {
   "cell_type": "code",
   "execution_count": 31,
   "metadata": {},
   "outputs": [
    {
     "name": "stdout",
     "output_type": "stream",
     "text": [
      "7527 20311\n"
     ]
    }
   ],
   "source": [
    "print(num_uniqueg,sum(countsg))"
   ]
  },
  {
   "cell_type": "markdown",
   "metadata": {},
   "source": [
    "### Opening multiple files"
   ]
  },
  {
   "cell_type": "code",
   "execution_count": 21,
   "metadata": {},
   "outputs": [
    {
     "ename": "NotADirectoryError",
     "evalue": "[Errno 20] Not a directory: './files/gutenburg/.DS_Store'",
     "output_type": "error",
     "traceback": [
      "\u001b[0;31m---------------------------------------------------------------------------\u001b[0m",
      "\u001b[0;31mNotADirectoryError\u001b[0m                        Traceback (most recent call last)",
      "\u001b[0;32m<ipython-input-21-122e1dc091cc>\u001b[0m in \u001b[0;36m<module>\u001b[0;34m()\u001b[0m\n\u001b[1;32m      3\u001b[0m \u001b[0;34m\u001b[0m\u001b[0m\n\u001b[1;32m      4\u001b[0m \u001b[0;32mfor\u001b[0m \u001b[0mlanguage\u001b[0m \u001b[0;32min\u001b[0m \u001b[0mos\u001b[0m\u001b[0;34m.\u001b[0m\u001b[0mlistdir\u001b[0m\u001b[0;34m(\u001b[0m\u001b[0mbook_dir\u001b[0m\u001b[0;34m)\u001b[0m\u001b[0;34m:\u001b[0m\u001b[0;34m\u001b[0m\u001b[0m\n\u001b[0;32m----> 5\u001b[0;31m     \u001b[0;32mfor\u001b[0m \u001b[0mauthor\u001b[0m \u001b[0;32min\u001b[0m \u001b[0mos\u001b[0m\u001b[0;34m.\u001b[0m\u001b[0mlistdir\u001b[0m\u001b[0;34m(\u001b[0m\u001b[0mbook_dir\u001b[0m \u001b[0;34m+\u001b[0m \u001b[0;34m\"/\"\u001b[0m \u001b[0;34m+\u001b[0m \u001b[0mlanguage\u001b[0m\u001b[0;34m)\u001b[0m\u001b[0;34m:\u001b[0m\u001b[0;34m\u001b[0m\u001b[0m\n\u001b[0m\u001b[1;32m      6\u001b[0m         \u001b[0;32mfor\u001b[0m \u001b[0mtitle\u001b[0m \u001b[0;32min\u001b[0m \u001b[0mos\u001b[0m\u001b[0;34m.\u001b[0m\u001b[0mlistdir\u001b[0m\u001b[0;34m(\u001b[0m\u001b[0mbook_dir\u001b[0m \u001b[0;34m+\u001b[0m \u001b[0;34m\"/\"\u001b[0m \u001b[0;34m+\u001b[0m \u001b[0mlanguage\u001b[0m \u001b[0;34m+\u001b[0m \u001b[0;34m\"/\"\u001b[0m \u001b[0;34m+\u001b[0m \u001b[0mauthor\u001b[0m\u001b[0;34m)\u001b[0m\u001b[0;34m:\u001b[0m\u001b[0;34m\u001b[0m\u001b[0m\n\u001b[1;32m      7\u001b[0m             \u001b[0minputfile\u001b[0m \u001b[0;34m=\u001b[0m \u001b[0mbook_dir\u001b[0m \u001b[0;34m+\u001b[0m \u001b[0;34m\"/\"\u001b[0m \u001b[0;34m+\u001b[0m \u001b[0mlanguage\u001b[0m \u001b[0;34m+\u001b[0m \u001b[0;34m\"/\"\u001b[0m \u001b[0;34m+\u001b[0m \u001b[0mauthor\u001b[0m \u001b[0;34m+\u001b[0m \u001b[0;34m\"/\"\u001b[0m \u001b[0;34m+\u001b[0m \u001b[0mtitle\u001b[0m\u001b[0;34m\u001b[0m\u001b[0m\n",
      "\u001b[0;31mNotADirectoryError\u001b[0m: [Errno 20] Not a directory: './files/gutenburg/.DS_Store'"
     ]
    }
   ],
   "source": [
    "import os\n",
    "book_dir = \"./files/gutenburg\"\n",
    "\n",
    "for language in os.listdir(book_dir):\n",
    "    for author in os.listdir(book_dir + \"/\" + language):\n",
    "        for title in os.listdir(book_dir + \"/\" + language + \"/\" + author):\n",
    "            inputfile = book_dir + \"/\" + language + \"/\" + author + \"/\" + title\n",
    "            print(inputfile)"
   ]
  },
  {
   "cell_type": "markdown",
   "metadata": {},
   "source": [
    "In the above code, I keep getting error for the hidden file `.DS_Store` . In the class discussion forum this issue was faced by someone else too. A suggested answer (by: DrBobby) was a custom code to filter out hidden files."
   ]
  },
  {
   "cell_type": "code",
   "execution_count": 4,
   "metadata": {},
   "outputs": [],
   "source": [
    "def listdir_filtered(dir_path):\n",
    "    \"\"\"\n",
    "    Filtering out hidden objects in a directory (i.e., such whose respective names start with \".\"), \n",
    "    out of the original list returned by the os.listdir(dir_path)\n",
    "    \"\"\"\n",
    "    dirs = os.listdir(dir_path)\n",
    "    dir_hidden_filter = [dir.startswith('.') for dir in dirs]\n",
    "    return [dir for (dir, hidden) in zip(dirs, dir_hidden_filter) if not hidden]"
   ]
  },
  {
   "cell_type": "markdown",
   "metadata": {},
   "source": [
    "Lets try rewriting the above code using this function"
   ]
  },
  {
   "cell_type": "code",
   "execution_count": 66,
   "metadata": {},
   "outputs": [
    {
     "name": "stdout",
     "output_type": "stream",
     "text": [
      "./files/gutenburg/English/shakespeare/A Midsummer Night's Dream.txt\n",
      "./files/gutenburg/English/shakespeare/Hamlet.txt\n",
      "./files/gutenburg/English/shakespeare/Macbeth.txt\n",
      "./files/gutenburg/English/shakespeare/Othello.txt\n",
      "./files/gutenburg/English/shakespeare/Richard III.txt\n",
      "./files/gutenburg/English/shakespeare/Romeo and Juliet.txt\n",
      "./files/gutenburg/English/shakespeare/The Merchant of Venice.txt\n",
      "./files/gutenburg/French/chevalier/L'åle de sable.txt\n",
      "./files/gutenburg/French/chevalier/L'enfer et le paradis de l'autre monde.txt\n",
      "./files/gutenburg/French/chevalier/La capitaine.txt\n",
      "./files/gutenburg/French/chevalier/La fille des indiens rouges.txt\n",
      "./files/gutenburg/French/chevalier/La fille du pirate.txt\n",
      "./files/gutenburg/French/chevalier/Le chasseur noir.txt\n",
      "./files/gutenburg/French/chevalier/Les derniers Iroquois.txt\n",
      "./files/gutenburg/French/de Maupassant/Boule de Suif.txt\n",
      "./files/gutenburg/French/de Maupassant/Claire de Lune.txt\n",
      "./files/gutenburg/French/de Maupassant/Contes de la Becasse.txt\n",
      "./files/gutenburg/French/de Maupassant/L'inutile beautÇ.txt\n",
      "./files/gutenburg/French/de Maupassant/La Main Gauche.txt\n",
      "./files/gutenburg/French/de Maupassant/La Maison Tellier.txt\n",
      "./files/gutenburg/French/de Maupassant/La petite roque.txt\n",
      "./files/gutenburg/French/de Maupassant/Le Horla.txt\n",
      "./files/gutenburg/French/de Maupassant/Œuvres complètes de Guy de Maupassant.txt\n",
      "./files/gutenburg/French/diderot/Ceci n'est pas un conte.txt\n",
      "./files/gutenburg/French/diderot/Entretien d'un päre avec ses enfants.txt\n",
      "./files/gutenburg/French/diderot/L'oiseau blanc.txt\n",
      "./files/gutenburg/French/diderot/Les deux amis de Bourbonne.txt\n",
      "./files/gutenburg/French/diderot/Regrets sur ma vieille robe de chambre.txt\n",
      "./files/gutenburg/French/sand/cora.txt\n",
      "./files/gutenburg/French/sand/Jacques le fataliste et son maåtre.txt\n",
      "./files/gutenburg/French/sand/L' Orco.txt\n",
      "./files/gutenburg/French/sand/La Coupe; Lupo Liverani; Le Toast; Garnier; Le Contrebandier; La Ràverie Ö Paris.txt\n",
      "./files/gutenburg/French/sand/La Marquise.txt\n",
      "./files/gutenburg/French/sand/Le Piccinino.txt\n",
      "./files/gutenburg/French/sand/Le poâme de Myrza.txt\n",
      "./files/gutenburg/French/sand/Mattea.txt\n",
      "./files/gutenburg/French/sand/Metella.txt\n",
      "./files/gutenburg/French/sand/Oeuvres illustrÇes de George Sand.txt\n",
      "./files/gutenburg/French/sand/Pauline.txt\n",
      "./files/gutenburg/German/lessing/der freigeist.txt\n",
      "./files/gutenburg/German/lessing/der junge gelehrte.txt\n",
      "./files/gutenburg/German/lessing/die juden.txt\n",
      "./files/gutenburg/German/lessing/emilia galotti.txt\n",
      "./files/gutenburg/German/lessing/hamburgische dramaturgie.txt\n",
      "./files/gutenburg/German/lessing/minna von barnhelm.txt\n",
      "./files/gutenburg/German/lessing/miss sara sampson.txt\n",
      "./files/gutenburg/German/lessing/philotas.txt\n",
      "./files/gutenburg/German/raimund/Das MÑdchen aus der Feenwelt.txt\n",
      "./files/gutenburg/German/raimund/Der Alpenkînig und der Menschenfeind.txt\n",
      "./files/gutenburg/German/raimund/Der Barometermacher auf der Zauberinsel.txt\n",
      "./files/gutenburg/German/raimund/Der Diamant des Geisterkînigs.txt\n",
      "./files/gutenburg/German/raimund/Der Verschwender.txt\n",
      "./files/gutenburg/German/raimund/Die gefesselte Phantasie.txt\n",
      "./files/gutenburg/German/raimund/Die unheilbringende Krone.txt\n",
      "./files/gutenburg/German/raimund/Moisasurs Zauberfluch.txt\n",
      "./files/gutenburg/German/schiller/Der Neffe als Onkel.txt\n",
      "./files/gutenburg/German/schiller/Der Parasit, oder die Kunst, sein GlÅck zu machen.txt\n",
      "./files/gutenburg/German/schiller/die braut von messina.txt\n",
      "./files/gutenburg/German/schiller/Die Huldigung der KÅnste.txt\n",
      "./files/gutenburg/German/schiller/Die Jungfrau von Orleans.txt\n",
      "./files/gutenburg/German/schiller/Die Piccolomini.txt\n",
      "./files/gutenburg/German/schiller/Die Verschwîrung des Fiesco zu Genua.txt\n",
      "./files/gutenburg/German/schiller/Kabale und Liebe.txt\n",
      "./files/gutenburg/German/schiller/Turandot, Prinzessin von China.txt\n",
      "./files/gutenburg/German/schiller/Wallensteins Lager.txt\n",
      "./files/gutenburg/German/schiller/Wallensteins Tod.txt\n",
      "./files/gutenburg/German/shakespeare/Der Kaufmann von Venedig.txt\n",
      "./files/gutenburg/German/shakespeare/Ein Sommernachtstraum.txt\n",
      "./files/gutenburg/German/shakespeare/Hamlet.txt\n",
      "./files/gutenburg/German/shakespeare/Macbeth.txt\n",
      "./files/gutenburg/German/shakespeare/Othello.txt\n",
      "./files/gutenburg/German/shakespeare/Richard III.txt\n",
      "./files/gutenburg/German/shakespeare/Romeo und Julia.txt\n",
      "./files/gutenburg/Portuguese/branco/A Filha do Arcediago.txt\n",
      "./files/gutenburg/Portuguese/branco/A Neta do Arcediago.txt\n",
      "./files/gutenburg/Portuguese/branco/A Queda d'um Anjo.txt\n",
      "./files/gutenburg/Portuguese/branco/Agulha em Palheiro.txt\n",
      "./files/gutenburg/Portuguese/branco/Amor de Perdição.txt\n",
      "./files/gutenburg/Portuguese/branco/Amor de Salvação.txt\n",
      "./files/gutenburg/Portuguese/branco/Annos de Prosa.txt\n",
      "./files/gutenburg/Portuguese/branco/Carlota Angela.txt\n",
      "./files/gutenburg/Portuguese/branco/Estrellas Funestas.txt\n",
      "./files/gutenburg/Portuguese/branco/Estrellas Prop°cias.txt\n",
      "./files/gutenburg/Portuguese/branco/Lagrimas Abenáoadas.txt\n",
      "./files/gutenburg/Portuguese/branco/Livro de Consolação.txt\n",
      "./files/gutenburg/Portuguese/branco/O Olho de Vidro.txt\n",
      "./files/gutenburg/Portuguese/branco/O que fazem mulheres.txt\n",
      "./files/gutenburg/Portuguese/branco/O Regicida.txt\n",
      "./files/gutenburg/Portuguese/branco/Scenas Contemporaneas.txt\n",
      "./files/gutenburg/Portuguese/dinis/A Morgadinha dos Cannaviaes.txt\n",
      "./files/gutenburg/Portuguese/dinis/Os fidalgos da Casa Mourisca.txt\n",
      "./files/gutenburg/Portuguese/dinis/Uma fam°lia ingleza.txt\n",
      "./files/gutenburg/Portuguese/Queir¢s/A Cidade e as Serras.txt\n",
      "./files/gutenburg/Portuguese/Queir¢s/A correspondància de Fradique Mendes.txt\n",
      "./files/gutenburg/Portuguese/Queir¢s/A Illustre Casa de Ramires.txt\n",
      "./files/gutenburg/Portuguese/Queir¢s/A Rel°quia.txt\n",
      "./files/gutenburg/Portuguese/Queir¢s/Cartas de Inglaterra.txt\n",
      "./files/gutenburg/Portuguese/Queir¢s/O crime do padre Amaro.txt\n",
      "./files/gutenburg/Portuguese/Queir¢s/O Mandarim.txt\n",
      "./files/gutenburg/Portuguese/Queir¢s/O Primo Bazilio.txt\n",
      "./files/gutenburg/Portuguese/Queir¢s/Os Maias.txt\n",
      "./files/gutenburg/Portuguese/shakespeare/Hamlet.txt\n"
     ]
    }
   ],
   "source": [
    "import os\n",
    "book_dir = \"./files/gutenburg\"\n",
    "\n",
    "for language in listdir_filtered(book_dir):\n",
    "    for author in listdir_filtered(book_dir + \"/\" + language):\n",
    "        for title in listdir_filtered(book_dir + \"/\" + language + \"/\" + author):\n",
    "            inputfile = book_dir + \"/\" + language + \"/\" + author + \"/\" + title\n",
    "            print(inputfile)"
   ]
  },
  {
   "cell_type": "markdown",
   "metadata": {},
   "source": [
    "The code does work ! Another way that I found is using `os.walk`"
   ]
  },
  {
   "cell_type": "code",
   "execution_count": 102,
   "metadata": {},
   "outputs": [
    {
     "name": "stdout",
     "output_type": "stream",
     "text": [
      "['English', 'French', 'German', 'Portuguese']\n",
      "['shakespeare']\n",
      "[]\n",
      "['chevalier', 'de Maupassant', 'diderot', 'sand']\n",
      "[]\n",
      "[]\n",
      "[]\n",
      "[]\n",
      "['lessing', 'raimund', 'schiller', 'shakespeare']\n",
      "[]\n",
      "[]\n",
      "[]\n",
      "[]\n",
      "['branco', 'dinis', 'Queir¢s', 'shakespeare']\n",
      "[]\n",
      "[]\n",
      "[]\n",
      "[]\n"
     ]
    }
   ],
   "source": [
    "for path, directories, files in os.walk(\"./files/gutenburg/\"):  \n",
    "    #print(path)\n",
    "    print(directories)\n",
    "    #print(files) # shows hidden files"
   ]
  },
  {
   "cell_type": "code",
   "execution_count": 36,
   "metadata": {},
   "outputs": [
    {
     "name": "stdout",
     "output_type": "stream",
     "text": [
      "A Midsummer Night's Dream.txt\n",
      "Hamlet.txt\n",
      "Macbeth.txt\n",
      "Othello.txt\n",
      "Richard III.txt\n",
      "Romeo and Juliet.txt\n",
      "The Merchant of Venice.txt\n",
      "L'åle de sable.txt\n",
      "L'enfer et le paradis de l'autre monde.txt\n",
      "La capitaine.txt\n",
      "La fille des indiens rouges.txt\n",
      "La fille du pirate.txt\n",
      "Le chasseur noir.txt\n",
      "Les derniers Iroquois.txt\n",
      "Boule de Suif.txt\n",
      "Claire de Lune.txt\n",
      "Contes de la Becasse.txt\n",
      "L'inutile beautÇ.txt\n",
      "La Main Gauche.txt\n",
      "La Maison Tellier.txt\n",
      "La petite roque.txt\n",
      "Le Horla.txt\n",
      "Œuvres complètes de Guy de Maupassant.txt\n",
      "Ceci n'est pas un conte.txt\n",
      "Entretien d'un päre avec ses enfants.txt\n",
      "L'oiseau blanc.txt\n",
      "Les deux amis de Bourbonne.txt\n",
      "Regrets sur ma vieille robe de chambre.txt\n",
      "cora.txt\n",
      "Jacques le fataliste et son maåtre.txt\n",
      "L' Orco.txt\n",
      "La Coupe; Lupo Liverani; Le Toast; Garnier; Le Contrebandier; La Ràverie Ö Paris.txt\n",
      "La Marquise.txt\n",
      "Le Piccinino.txt\n",
      "Le poâme de Myrza.txt\n",
      "Mattea.txt\n",
      "Metella.txt\n",
      "Oeuvres illustrÇes de George Sand.txt\n",
      "Pauline.txt\n",
      "der freigeist.txt\n",
      "der junge gelehrte.txt\n",
      "die juden.txt\n",
      "emilia galotti.txt\n",
      "hamburgische dramaturgie.txt\n",
      "minna von barnhelm.txt\n",
      "miss sara sampson.txt\n",
      "philotas.txt\n",
      "Das MÑdchen aus der Feenwelt.txt\n",
      "Der Alpenkînig und der Menschenfeind.txt\n",
      "Der Barometermacher auf der Zauberinsel.txt\n",
      "Der Diamant des Geisterkînigs.txt\n",
      "Der Verschwender.txt\n",
      "Die gefesselte Phantasie.txt\n",
      "Die unheilbringende Krone.txt\n",
      "Moisasurs Zauberfluch.txt\n",
      "Der Neffe als Onkel.txt\n",
      "Der Parasit, oder die Kunst, sein GlÅck zu machen.txt\n",
      "die braut von messina.txt\n",
      "Die Huldigung der KÅnste.txt\n",
      "Die Jungfrau von Orleans.txt\n",
      "Die Piccolomini.txt\n",
      "Die Verschwîrung des Fiesco zu Genua.txt\n",
      "Kabale und Liebe.txt\n",
      "Turandot, Prinzessin von China.txt\n",
      "Wallensteins Lager.txt\n",
      "Wallensteins Tod.txt\n",
      "Der Kaufmann von Venedig.txt\n",
      "Ein Sommernachtstraum.txt\n",
      "Hamlet.txt\n",
      "Macbeth.txt\n",
      "Othello.txt\n",
      "Richard III.txt\n",
      "Romeo und Julia.txt\n",
      "A Filha do Arcediago.txt\n",
      "A Neta do Arcediago.txt\n",
      "A Queda d'um Anjo.txt\n",
      "Agulha em Palheiro.txt\n",
      "Amor de Perdição.txt\n",
      "Amor de Salvação.txt\n",
      "Annos de Prosa.txt\n",
      "Carlota Angela.txt\n",
      "Estrellas Funestas.txt\n",
      "Estrellas Prop°cias.txt\n",
      "Lagrimas Abenáoadas.txt\n",
      "Livro de Consolação.txt\n",
      "O Olho de Vidro.txt\n",
      "O que fazem mulheres.txt\n",
      "O Regicida.txt\n",
      "Scenas Contemporaneas.txt\n",
      "A Morgadinha dos Cannaviaes.txt\n",
      "Os fidalgos da Casa Mourisca.txt\n",
      "Uma fam°lia ingleza.txt\n",
      "A Cidade e as Serras.txt\n",
      "A correspondància de Fradique Mendes.txt\n",
      "A Illustre Casa de Ramires.txt\n",
      "A Rel°quia.txt\n",
      "Cartas de Inglaterra.txt\n",
      "O crime do padre Amaro.txt\n",
      "O Mandarim.txt\n",
      "O Primo Bazilio.txt\n",
      "Os Maias.txt\n",
      "Hamlet.txt\n"
     ]
    }
   ],
   "source": [
    "for path, directories, files in os.walk(\"./files/gutenburg/\"):  \n",
    "    for inputfile in files:\n",
    "        if not inputfile.startswith('.'):\n",
    "            print(inputfile) # hidden files gone !"
   ]
  },
  {
   "cell_type": "code",
   "execution_count": 56,
   "metadata": {},
   "outputs": [
    {
     "name": "stdout",
     "output_type": "stream",
     "text": [
      "./files/gutenburg/English/shakespeare/A Midsummer Night's Dream.txt\n",
      "./files/gutenburg/English/shakespeare/Hamlet.txt\n",
      "./files/gutenburg/English/shakespeare/Macbeth.txt\n",
      "./files/gutenburg/English/shakespeare/Othello.txt\n",
      "./files/gutenburg/English/shakespeare/Richard III.txt\n",
      "./files/gutenburg/English/shakespeare/Romeo and Juliet.txt\n",
      "./files/gutenburg/English/shakespeare/The Merchant of Venice.txt\n",
      "./files/gutenburg/French/chevalier/L'åle de sable.txt\n",
      "./files/gutenburg/French/chevalier/L'enfer et le paradis de l'autre monde.txt\n",
      "./files/gutenburg/French/chevalier/La capitaine.txt\n",
      "./files/gutenburg/French/chevalier/La fille des indiens rouges.txt\n",
      "./files/gutenburg/French/chevalier/La fille du pirate.txt\n",
      "./files/gutenburg/French/chevalier/Le chasseur noir.txt\n",
      "./files/gutenburg/French/chevalier/Les derniers Iroquois.txt\n",
      "./files/gutenburg/French/de Maupassant/Boule de Suif.txt\n",
      "./files/gutenburg/French/de Maupassant/Claire de Lune.txt\n",
      "./files/gutenburg/French/de Maupassant/Contes de la Becasse.txt\n",
      "./files/gutenburg/French/de Maupassant/L'inutile beautÇ.txt\n",
      "./files/gutenburg/French/de Maupassant/La Main Gauche.txt\n",
      "./files/gutenburg/French/de Maupassant/La Maison Tellier.txt\n",
      "./files/gutenburg/French/de Maupassant/La petite roque.txt\n",
      "./files/gutenburg/French/de Maupassant/Le Horla.txt\n",
      "./files/gutenburg/French/de Maupassant/Œuvres complètes de Guy de Maupassant.txt\n",
      "./files/gutenburg/French/diderot/Ceci n'est pas un conte.txt\n",
      "./files/gutenburg/French/diderot/Entretien d'un päre avec ses enfants.txt\n",
      "./files/gutenburg/French/diderot/L'oiseau blanc.txt\n",
      "./files/gutenburg/French/diderot/Les deux amis de Bourbonne.txt\n",
      "./files/gutenburg/French/diderot/Regrets sur ma vieille robe de chambre.txt\n",
      "./files/gutenburg/French/sand/cora.txt\n",
      "./files/gutenburg/French/sand/Jacques le fataliste et son maåtre.txt\n",
      "./files/gutenburg/French/sand/L' Orco.txt\n",
      "./files/gutenburg/French/sand/La Coupe; Lupo Liverani; Le Toast; Garnier; Le Contrebandier; La Ràverie Ö Paris.txt\n",
      "./files/gutenburg/French/sand/La Marquise.txt\n",
      "./files/gutenburg/French/sand/Le Piccinino.txt\n",
      "./files/gutenburg/French/sand/Le poâme de Myrza.txt\n",
      "./files/gutenburg/French/sand/Mattea.txt\n",
      "./files/gutenburg/French/sand/Metella.txt\n",
      "./files/gutenburg/French/sand/Oeuvres illustrÇes de George Sand.txt\n",
      "./files/gutenburg/French/sand/Pauline.txt\n",
      "./files/gutenburg/German/lessing/der freigeist.txt\n",
      "./files/gutenburg/German/lessing/der junge gelehrte.txt\n",
      "./files/gutenburg/German/lessing/die juden.txt\n",
      "./files/gutenburg/German/lessing/emilia galotti.txt\n",
      "./files/gutenburg/German/lessing/hamburgische dramaturgie.txt\n",
      "./files/gutenburg/German/lessing/minna von barnhelm.txt\n",
      "./files/gutenburg/German/lessing/miss sara sampson.txt\n",
      "./files/gutenburg/German/lessing/philotas.txt\n",
      "./files/gutenburg/German/raimund/Das MÑdchen aus der Feenwelt.txt\n",
      "./files/gutenburg/German/raimund/Der Alpenkînig und der Menschenfeind.txt\n",
      "./files/gutenburg/German/raimund/Der Barometermacher auf der Zauberinsel.txt\n",
      "./files/gutenburg/German/raimund/Der Diamant des Geisterkînigs.txt\n",
      "./files/gutenburg/German/raimund/Der Verschwender.txt\n",
      "./files/gutenburg/German/raimund/Die gefesselte Phantasie.txt\n",
      "./files/gutenburg/German/raimund/Die unheilbringende Krone.txt\n",
      "./files/gutenburg/German/raimund/Moisasurs Zauberfluch.txt\n",
      "./files/gutenburg/German/schiller/Der Neffe als Onkel.txt\n",
      "./files/gutenburg/German/schiller/Der Parasit, oder die Kunst, sein GlÅck zu machen.txt\n",
      "./files/gutenburg/German/schiller/die braut von messina.txt\n",
      "./files/gutenburg/German/schiller/Die Huldigung der KÅnste.txt\n",
      "./files/gutenburg/German/schiller/Die Jungfrau von Orleans.txt\n",
      "./files/gutenburg/German/schiller/Die Piccolomini.txt\n",
      "./files/gutenburg/German/schiller/Die Verschwîrung des Fiesco zu Genua.txt\n",
      "./files/gutenburg/German/schiller/Kabale und Liebe.txt\n",
      "./files/gutenburg/German/schiller/Turandot, Prinzessin von China.txt\n",
      "./files/gutenburg/German/schiller/Wallensteins Lager.txt\n",
      "./files/gutenburg/German/schiller/Wallensteins Tod.txt\n",
      "./files/gutenburg/German/shakespeare/Der Kaufmann von Venedig.txt\n",
      "./files/gutenburg/German/shakespeare/Ein Sommernachtstraum.txt\n",
      "./files/gutenburg/German/shakespeare/Hamlet.txt\n",
      "./files/gutenburg/German/shakespeare/Macbeth.txt\n",
      "./files/gutenburg/German/shakespeare/Othello.txt\n",
      "./files/gutenburg/German/shakespeare/Richard III.txt\n",
      "./files/gutenburg/German/shakespeare/Romeo und Julia.txt\n",
      "./files/gutenburg/Portuguese/branco/A Filha do Arcediago.txt\n",
      "./files/gutenburg/Portuguese/branco/A Neta do Arcediago.txt\n",
      "./files/gutenburg/Portuguese/branco/A Queda d'um Anjo.txt\n",
      "./files/gutenburg/Portuguese/branco/Agulha em Palheiro.txt\n",
      "./files/gutenburg/Portuguese/branco/Amor de Perdição.txt\n",
      "./files/gutenburg/Portuguese/branco/Amor de Salvação.txt\n",
      "./files/gutenburg/Portuguese/branco/Annos de Prosa.txt\n",
      "./files/gutenburg/Portuguese/branco/Carlota Angela.txt\n",
      "./files/gutenburg/Portuguese/branco/Estrellas Funestas.txt\n",
      "./files/gutenburg/Portuguese/branco/Estrellas Prop°cias.txt\n",
      "./files/gutenburg/Portuguese/branco/Lagrimas Abenáoadas.txt\n",
      "./files/gutenburg/Portuguese/branco/Livro de Consolação.txt\n",
      "./files/gutenburg/Portuguese/branco/O Olho de Vidro.txt\n",
      "./files/gutenburg/Portuguese/branco/O que fazem mulheres.txt\n",
      "./files/gutenburg/Portuguese/branco/O Regicida.txt\n",
      "./files/gutenburg/Portuguese/branco/Scenas Contemporaneas.txt\n",
      "./files/gutenburg/Portuguese/dinis/A Morgadinha dos Cannaviaes.txt\n",
      "./files/gutenburg/Portuguese/dinis/Os fidalgos da Casa Mourisca.txt\n",
      "./files/gutenburg/Portuguese/dinis/Uma fam°lia ingleza.txt\n",
      "./files/gutenburg/Portuguese/Queir¢s/A Cidade e as Serras.txt\n",
      "./files/gutenburg/Portuguese/Queir¢s/A correspondància de Fradique Mendes.txt\n",
      "./files/gutenburg/Portuguese/Queir¢s/A Illustre Casa de Ramires.txt\n",
      "./files/gutenburg/Portuguese/Queir¢s/A Rel°quia.txt\n",
      "./files/gutenburg/Portuguese/Queir¢s/Cartas de Inglaterra.txt\n",
      "./files/gutenburg/Portuguese/Queir¢s/O crime do padre Amaro.txt\n",
      "./files/gutenburg/Portuguese/Queir¢s/O Mandarim.txt\n",
      "./files/gutenburg/Portuguese/Queir¢s/O Primo Bazilio.txt\n",
      "./files/gutenburg/Portuguese/Queir¢s/Os Maias.txt\n",
      "./files/gutenburg/Portuguese/shakespeare/Hamlet.txt\n"
     ]
    }
   ],
   "source": [
    "for path, directories, files in os.walk(\"./files/gutenburg/\"):  \n",
    "    for inputfile in files:\n",
    "        if not inputfile.startswith('.'):\n",
    "            #print(inputfile)\n",
    "            inputpath = path+ \"/\"+inputfile\n",
    "            print(inputpath)\n",
    "            text = read_book(inputpath)\n",
    "            (num_unique, counts)=word_stats(count_words(text))           "
   ]
  },
  {
   "cell_type": "markdown",
   "metadata": {},
   "source": [
    "#### Pandas (panel data)\n",
    "\n",
    "Though the code above works fine, we can be more efficient by using Pandas to track out book statistics\n",
    "\n",
    "Lets quickly create a table using pandas dataframe function to see how it works"
   ]
  },
  {
   "cell_type": "code",
   "execution_count": 61,
   "metadata": {},
   "outputs": [
    {
     "data": {
      "text/html": [
       "<div>\n",
       "<style>\n",
       "    .dataframe thead tr:only-child th {\n",
       "        text-align: right;\n",
       "    }\n",
       "\n",
       "    .dataframe thead th {\n",
       "        text-align: left;\n",
       "    }\n",
       "\n",
       "    .dataframe tbody tr th {\n",
       "        vertical-align: top;\n",
       "    }\n",
       "</style>\n",
       "<table border=\"1\" class=\"dataframe\">\n",
       "  <thead>\n",
       "    <tr style=\"text-align: right;\">\n",
       "      <th></th>\n",
       "      <th>name</th>\n",
       "      <th>age</th>\n",
       "    </tr>\n",
       "  </thead>\n",
       "  <tbody>\n",
       "    <tr>\n",
       "      <th>1</th>\n",
       "      <td>James</td>\n",
       "      <td>22</td>\n",
       "    </tr>\n",
       "    <tr>\n",
       "      <th>2</th>\n",
       "      <td>Jess</td>\n",
       "      <td>24</td>\n",
       "    </tr>\n",
       "  </tbody>\n",
       "</table>\n",
       "</div>"
      ],
      "text/plain": [
       "    name age\n",
       "1  James  22\n",
       "2   Jess  24"
      ]
     },
     "execution_count": 61,
     "metadata": {},
     "output_type": "execute_result"
    }
   ],
   "source": [
    "import pandas as pd\n",
    "table = pd.DataFrame(columns= (\"name\",\"age\")) # lets first specify the columns\n",
    "table.loc[1] = \"James\", 22 # row 1\n",
    "table.loc[2] = \"Jess\", 24 # row 2\n",
    "table"
   ]
  },
  {
   "cell_type": "code",
   "execution_count": 10,
   "metadata": {},
   "outputs": [
    {
     "name": "stdout",
     "output_type": "stream",
     "text": [
      "./files/gutenburg/English/shakespeare/A Midsummer Night's Dream.txt\n"
     ]
    },
    {
     "ename": "NameError",
     "evalue": "name 'word_stats' is not defined",
     "output_type": "error",
     "traceback": [
      "\u001b[0;31m---------------------------------------------------------------------------\u001b[0m",
      "\u001b[0;31mNameError\u001b[0m                                 Traceback (most recent call last)",
      "\u001b[0;32m<ipython-input-10-14366519e909>\u001b[0m in \u001b[0;36m<module>\u001b[0;34m()\u001b[0m\n\u001b[1;32m     11\u001b[0m             \u001b[0mprint\u001b[0m\u001b[0;34m(\u001b[0m\u001b[0minputpath\u001b[0m\u001b[0;34m)\u001b[0m\u001b[0;34m\u001b[0m\u001b[0m\n\u001b[1;32m     12\u001b[0m             \u001b[0mtext\u001b[0m \u001b[0;34m=\u001b[0m \u001b[0mread_book\u001b[0m\u001b[0;34m(\u001b[0m\u001b[0minputpath\u001b[0m\u001b[0;34m)\u001b[0m\u001b[0;34m\u001b[0m\u001b[0m\n\u001b[0;32m---> 13\u001b[0;31m             \u001b[0;34m(\u001b[0m\u001b[0mnum_unique\u001b[0m\u001b[0;34m,\u001b[0m \u001b[0mcounts\u001b[0m\u001b[0;34m)\u001b[0m\u001b[0;34m=\u001b[0m\u001b[0mword_stats\u001b[0m\u001b[0;34m(\u001b[0m\u001b[0mcount_words\u001b[0m\u001b[0;34m(\u001b[0m\u001b[0mtext\u001b[0m\u001b[0;34m)\u001b[0m\u001b[0;34m)\u001b[0m\u001b[0;34m\u001b[0m\u001b[0m\n\u001b[0m\u001b[1;32m     14\u001b[0m             \u001b[0mstats\u001b[0m\u001b[0;34m.\u001b[0m\u001b[0mloc\u001b[0m\u001b[0;34m[\u001b[0m\u001b[0mtitle_num\u001b[0m\u001b[0;34m]\u001b[0m \u001b[0;34m=\u001b[0m \u001b[0mlanguage\u001b[0m\u001b[0;34m,\u001b[0m \u001b[0mauthor\u001b[0m\u001b[0;34m,\u001b[0m \u001b[0mtitle\u001b[0m\u001b[0;34m,\u001b[0m\u001b[0msum\u001b[0m\u001b[0;34m(\u001b[0m\u001b[0mcounts\u001b[0m\u001b[0;34m)\u001b[0m\u001b[0;34m,\u001b[0m\u001b[0mnum_unique\u001b[0m\u001b[0;34m\u001b[0m\u001b[0m\n\u001b[1;32m     15\u001b[0m             \u001b[0mtitle_num\u001b[0m \u001b[0;34m+=\u001b[0m \u001b[0;36m1\u001b[0m\u001b[0;34m\u001b[0m\u001b[0m\n",
      "\u001b[0;31mNameError\u001b[0m: name 'word_stats' is not defined"
     ]
    }
   ],
   "source": [
    "import os\n",
    "book_dir = \"./files/gutenburg\"\n",
    "\n",
    "import pandas as pd\n",
    "stats = pd.DataFrame(columns=(\"language\",\"author\",\"title\",\"length\",\"unique\"))\n",
    "title_num = 1\n",
    "for language in listdir_filtered(book_dir):\n",
    "    for author in listdir_filtered(book_dir + \"/\" + language):\n",
    "        for title in listdir_filtered(book_dir + \"/\" + language + \"/\" + author):\n",
    "            inputpath = book_dir + \"/\" + language + \"/\" + author + \"/\" + title\n",
    "            print(inputpath)\n",
    "            text = read_book(inputpath)\n",
    "            (num_unique, counts)=word_stats(count_words(text))\n",
    "            stats.loc[title_num] = language, author, title,sum(counts),num_unique\n",
    "            title_num += 1"
   ]
  },
  {
   "cell_type": "code",
   "execution_count": 104,
   "metadata": {},
   "outputs": [
    {
     "data": {
      "text/html": [
       "<div>\n",
       "<style>\n",
       "    .dataframe thead tr:only-child th {\n",
       "        text-align: right;\n",
       "    }\n",
       "\n",
       "    .dataframe thead th {\n",
       "        text-align: left;\n",
       "    }\n",
       "\n",
       "    .dataframe tbody tr th {\n",
       "        vertical-align: top;\n",
       "    }\n",
       "</style>\n",
       "<table border=\"1\" class=\"dataframe\">\n",
       "  <thead>\n",
       "    <tr style=\"text-align: right;\">\n",
       "      <th></th>\n",
       "      <th>language</th>\n",
       "      <th>author</th>\n",
       "      <th>title</th>\n",
       "      <th>length</th>\n",
       "      <th>unique</th>\n",
       "    </tr>\n",
       "  </thead>\n",
       "  <tbody>\n",
       "    <tr>\n",
       "      <th>1</th>\n",
       "      <td>English</td>\n",
       "      <td>shakespeare</td>\n",
       "      <td>A Midsummer Night's Dream.txt</td>\n",
       "      <td>16103</td>\n",
       "      <td>4345</td>\n",
       "    </tr>\n",
       "    <tr>\n",
       "      <th>2</th>\n",
       "      <td>English</td>\n",
       "      <td>shakespeare</td>\n",
       "      <td>Hamlet.txt</td>\n",
       "      <td>28551</td>\n",
       "      <td>6776</td>\n",
       "    </tr>\n",
       "    <tr>\n",
       "      <th>3</th>\n",
       "      <td>English</td>\n",
       "      <td>shakespeare</td>\n",
       "      <td>Macbeth.txt</td>\n",
       "      <td>16874</td>\n",
       "      <td>4780</td>\n",
       "    </tr>\n",
       "    <tr>\n",
       "      <th>4</th>\n",
       "      <td>English</td>\n",
       "      <td>shakespeare</td>\n",
       "      <td>Othello.txt</td>\n",
       "      <td>26590</td>\n",
       "      <td>5898</td>\n",
       "    </tr>\n",
       "    <tr>\n",
       "      <th>5</th>\n",
       "      <td>English</td>\n",
       "      <td>shakespeare</td>\n",
       "      <td>Richard III.txt</td>\n",
       "      <td>48315</td>\n",
       "      <td>5449</td>\n",
       "    </tr>\n",
       "    <tr>\n",
       "      <th>6</th>\n",
       "      <td>English</td>\n",
       "      <td>shakespeare</td>\n",
       "      <td>Romeo and Juliet.txt</td>\n",
       "      <td>40776</td>\n",
       "      <td>5118</td>\n",
       "    </tr>\n",
       "    <tr>\n",
       "      <th>7</th>\n",
       "      <td>English</td>\n",
       "      <td>shakespeare</td>\n",
       "      <td>The Merchant of Venice.txt</td>\n",
       "      <td>20949</td>\n",
       "      <td>4978</td>\n",
       "    </tr>\n",
       "    <tr>\n",
       "      <th>8</th>\n",
       "      <td>French</td>\n",
       "      <td>chevalier</td>\n",
       "      <td>L'åle de sable.txt</td>\n",
       "      <td>73801</td>\n",
       "      <td>18989</td>\n",
       "    </tr>\n",
       "    <tr>\n",
       "      <th>9</th>\n",
       "      <td>French</td>\n",
       "      <td>chevalier</td>\n",
       "      <td>L'enfer et le paradis de l'autre monde.txt</td>\n",
       "      <td>40827</td>\n",
       "      <td>10831</td>\n",
       "    </tr>\n",
       "    <tr>\n",
       "      <th>10</th>\n",
       "      <td>French</td>\n",
       "      <td>chevalier</td>\n",
       "      <td>La capitaine.txt</td>\n",
       "      <td>46306</td>\n",
       "      <td>13083</td>\n",
       "    </tr>\n",
       "    <tr>\n",
       "      <th>11</th>\n",
       "      <td>French</td>\n",
       "      <td>chevalier</td>\n",
       "      <td>La fille des indiens rouges.txt</td>\n",
       "      <td>66621</td>\n",
       "      <td>17875</td>\n",
       "    </tr>\n",
       "    <tr>\n",
       "      <th>12</th>\n",
       "      <td>French</td>\n",
       "      <td>chevalier</td>\n",
       "      <td>La fille du pirate.txt</td>\n",
       "      <td>52519</td>\n",
       "      <td>14649</td>\n",
       "    </tr>\n",
       "    <tr>\n",
       "      <th>13</th>\n",
       "      <td>French</td>\n",
       "      <td>chevalier</td>\n",
       "      <td>Le chasseur noir.txt</td>\n",
       "      <td>51341</td>\n",
       "      <td>12945</td>\n",
       "    </tr>\n",
       "    <tr>\n",
       "      <th>14</th>\n",
       "      <td>French</td>\n",
       "      <td>chevalier</td>\n",
       "      <td>Les derniers Iroquois.txt</td>\n",
       "      <td>55565</td>\n",
       "      <td>15583</td>\n",
       "    </tr>\n",
       "    <tr>\n",
       "      <th>15</th>\n",
       "      <td>French</td>\n",
       "      <td>de Maupassant</td>\n",
       "      <td>Boule de Suif.txt</td>\n",
       "      <td>35905</td>\n",
       "      <td>10725</td>\n",
       "    </tr>\n",
       "    <tr>\n",
       "      <th>16</th>\n",
       "      <td>French</td>\n",
       "      <td>de Maupassant</td>\n",
       "      <td>Claire de Lune.txt</td>\n",
       "      <td>25975</td>\n",
       "      <td>8076</td>\n",
       "    </tr>\n",
       "    <tr>\n",
       "      <th>17</th>\n",
       "      <td>French</td>\n",
       "      <td>de Maupassant</td>\n",
       "      <td>Contes de la Becasse.txt</td>\n",
       "      <td>34723</td>\n",
       "      <td>10210</td>\n",
       "    </tr>\n",
       "    <tr>\n",
       "      <th>18</th>\n",
       "      <td>French</td>\n",
       "      <td>de Maupassant</td>\n",
       "      <td>L'inutile beautÇ.txt</td>\n",
       "      <td>37840</td>\n",
       "      <td>10781</td>\n",
       "    </tr>\n",
       "    <tr>\n",
       "      <th>19</th>\n",
       "      <td>French</td>\n",
       "      <td>de Maupassant</td>\n",
       "      <td>La Main Gauche.txt</td>\n",
       "      <td>33481</td>\n",
       "      <td>9983</td>\n",
       "    </tr>\n",
       "    <tr>\n",
       "      <th>20</th>\n",
       "      <td>French</td>\n",
       "      <td>de Maupassant</td>\n",
       "      <td>La Maison Tellier.txt</td>\n",
       "      <td>43685</td>\n",
       "      <td>12305</td>\n",
       "    </tr>\n",
       "    <tr>\n",
       "      <th>21</th>\n",
       "      <td>French</td>\n",
       "      <td>de Maupassant</td>\n",
       "      <td>La petite roque.txt</td>\n",
       "      <td>40688</td>\n",
       "      <td>10890</td>\n",
       "    </tr>\n",
       "    <tr>\n",
       "      <th>22</th>\n",
       "      <td>French</td>\n",
       "      <td>de Maupassant</td>\n",
       "      <td>Le Horla.txt</td>\n",
       "      <td>41485</td>\n",
       "      <td>11091</td>\n",
       "    </tr>\n",
       "    <tr>\n",
       "      <th>23</th>\n",
       "      <td>French</td>\n",
       "      <td>de Maupassant</td>\n",
       "      <td>Œuvres complètes de Guy de Maupassant.txt</td>\n",
       "      <td>54772</td>\n",
       "      <td>15028</td>\n",
       "    </tr>\n",
       "    <tr>\n",
       "      <th>24</th>\n",
       "      <td>French</td>\n",
       "      <td>diderot</td>\n",
       "      <td>Ceci n'est pas un conte.txt</td>\n",
       "      <td>10938</td>\n",
       "      <td>3674</td>\n",
       "    </tr>\n",
       "    <tr>\n",
       "      <th>25</th>\n",
       "      <td>French</td>\n",
       "      <td>diderot</td>\n",
       "      <td>Entretien d'un päre avec ses enfants.txt</td>\n",
       "      <td>11125</td>\n",
       "      <td>3720</td>\n",
       "    </tr>\n",
       "    <tr>\n",
       "      <th>26</th>\n",
       "      <td>French</td>\n",
       "      <td>diderot</td>\n",
       "      <td>L'oiseau blanc.txt</td>\n",
       "      <td>21973</td>\n",
       "      <td>6337</td>\n",
       "    </tr>\n",
       "    <tr>\n",
       "      <th>27</th>\n",
       "      <td>French</td>\n",
       "      <td>diderot</td>\n",
       "      <td>Les deux amis de Bourbonne.txt</td>\n",
       "      <td>8510</td>\n",
       "      <td>2929</td>\n",
       "    </tr>\n",
       "    <tr>\n",
       "      <th>28</th>\n",
       "      <td>French</td>\n",
       "      <td>diderot</td>\n",
       "      <td>Regrets sur ma vieille robe de chambre.txt</td>\n",
       "      <td>4980</td>\n",
       "      <td>1876</td>\n",
       "    </tr>\n",
       "    <tr>\n",
       "      <th>29</th>\n",
       "      <td>French</td>\n",
       "      <td>sand</td>\n",
       "      <td>cora.txt</td>\n",
       "      <td>12370</td>\n",
       "      <td>4370</td>\n",
       "    </tr>\n",
       "    <tr>\n",
       "      <th>30</th>\n",
       "      <td>French</td>\n",
       "      <td>sand</td>\n",
       "      <td>Jacques le fataliste et son maåtre.txt</td>\n",
       "      <td>85756</td>\n",
       "      <td>18744</td>\n",
       "    </tr>\n",
       "    <tr>\n",
       "      <th>...</th>\n",
       "      <td>...</td>\n",
       "      <td>...</td>\n",
       "      <td>...</td>\n",
       "      <td>...</td>\n",
       "      <td>...</td>\n",
       "    </tr>\n",
       "    <tr>\n",
       "      <th>73</th>\n",
       "      <td>German</td>\n",
       "      <td>shakespeare</td>\n",
       "      <td>Romeo und Julia.txt</td>\n",
       "      <td>20311</td>\n",
       "      <td>7527</td>\n",
       "    </tr>\n",
       "    <tr>\n",
       "      <th>74</th>\n",
       "      <td>Portuguese</td>\n",
       "      <td>branco</td>\n",
       "      <td>A Filha do Arcediago.txt</td>\n",
       "      <td>74446</td>\n",
       "      <td>18238</td>\n",
       "    </tr>\n",
       "    <tr>\n",
       "      <th>75</th>\n",
       "      <td>Portuguese</td>\n",
       "      <td>branco</td>\n",
       "      <td>A Neta do Arcediago.txt</td>\n",
       "      <td>52996</td>\n",
       "      <td>14549</td>\n",
       "    </tr>\n",
       "    <tr>\n",
       "      <th>76</th>\n",
       "      <td>Portuguese</td>\n",
       "      <td>branco</td>\n",
       "      <td>A Queda d'um Anjo.txt</td>\n",
       "      <td>48022</td>\n",
       "      <td>15133</td>\n",
       "    </tr>\n",
       "    <tr>\n",
       "      <th>77</th>\n",
       "      <td>Portuguese</td>\n",
       "      <td>branco</td>\n",
       "      <td>Agulha em Palheiro.txt</td>\n",
       "      <td>43575</td>\n",
       "      <td>12761</td>\n",
       "    </tr>\n",
       "    <tr>\n",
       "      <th>78</th>\n",
       "      <td>Portuguese</td>\n",
       "      <td>branco</td>\n",
       "      <td>Amor de Perdição.txt</td>\n",
       "      <td>46751</td>\n",
       "      <td>12884</td>\n",
       "    </tr>\n",
       "    <tr>\n",
       "      <th>79</th>\n",
       "      <td>Portuguese</td>\n",
       "      <td>branco</td>\n",
       "      <td>Amor de Salvação.txt</td>\n",
       "      <td>47739</td>\n",
       "      <td>14337</td>\n",
       "    </tr>\n",
       "    <tr>\n",
       "      <th>80</th>\n",
       "      <td>Portuguese</td>\n",
       "      <td>branco</td>\n",
       "      <td>Annos de Prosa.txt</td>\n",
       "      <td>61473</td>\n",
       "      <td>16987</td>\n",
       "    </tr>\n",
       "    <tr>\n",
       "      <th>81</th>\n",
       "      <td>Portuguese</td>\n",
       "      <td>branco</td>\n",
       "      <td>Carlota Angela.txt</td>\n",
       "      <td>46927</td>\n",
       "      <td>13456</td>\n",
       "    </tr>\n",
       "    <tr>\n",
       "      <th>82</th>\n",
       "      <td>Portuguese</td>\n",
       "      <td>branco</td>\n",
       "      <td>Estrellas Funestas.txt</td>\n",
       "      <td>46709</td>\n",
       "      <td>13450</td>\n",
       "    </tr>\n",
       "    <tr>\n",
       "      <th>83</th>\n",
       "      <td>Portuguese</td>\n",
       "      <td>branco</td>\n",
       "      <td>Estrellas Prop°cias.txt</td>\n",
       "      <td>43445</td>\n",
       "      <td>12478</td>\n",
       "    </tr>\n",
       "    <tr>\n",
       "      <th>84</th>\n",
       "      <td>Portuguese</td>\n",
       "      <td>branco</td>\n",
       "      <td>Lagrimas Abenáoadas.txt</td>\n",
       "      <td>45182</td>\n",
       "      <td>12622</td>\n",
       "    </tr>\n",
       "    <tr>\n",
       "      <th>85</th>\n",
       "      <td>Portuguese</td>\n",
       "      <td>branco</td>\n",
       "      <td>Livro de Consolação.txt</td>\n",
       "      <td>54151</td>\n",
       "      <td>15871</td>\n",
       "    </tr>\n",
       "    <tr>\n",
       "      <th>86</th>\n",
       "      <td>Portuguese</td>\n",
       "      <td>branco</td>\n",
       "      <td>O Olho de Vidro.txt</td>\n",
       "      <td>45461</td>\n",
       "      <td>13180</td>\n",
       "    </tr>\n",
       "    <tr>\n",
       "      <th>87</th>\n",
       "      <td>Portuguese</td>\n",
       "      <td>branco</td>\n",
       "      <td>O que fazem mulheres.txt</td>\n",
       "      <td>41175</td>\n",
       "      <td>12316</td>\n",
       "    </tr>\n",
       "    <tr>\n",
       "      <th>88</th>\n",
       "      <td>Portuguese</td>\n",
       "      <td>branco</td>\n",
       "      <td>O Regicida.txt</td>\n",
       "      <td>50751</td>\n",
       "      <td>14779</td>\n",
       "    </tr>\n",
       "    <tr>\n",
       "      <th>89</th>\n",
       "      <td>Portuguese</td>\n",
       "      <td>branco</td>\n",
       "      <td>Scenas Contemporaneas.txt</td>\n",
       "      <td>48889</td>\n",
       "      <td>14395</td>\n",
       "    </tr>\n",
       "    <tr>\n",
       "      <th>90</th>\n",
       "      <td>Portuguese</td>\n",
       "      <td>dinis</td>\n",
       "      <td>A Morgadinha dos Cannaviaes.txt</td>\n",
       "      <td>134382</td>\n",
       "      <td>30728</td>\n",
       "    </tr>\n",
       "    <tr>\n",
       "      <th>91</th>\n",
       "      <td>Portuguese</td>\n",
       "      <td>dinis</td>\n",
       "      <td>Os fidalgos da Casa Mourisca.txt</td>\n",
       "      <td>130834</td>\n",
       "      <td>27834</td>\n",
       "    </tr>\n",
       "    <tr>\n",
       "      <th>92</th>\n",
       "      <td>Portuguese</td>\n",
       "      <td>dinis</td>\n",
       "      <td>Uma fam°lia ingleza.txt</td>\n",
       "      <td>109270</td>\n",
       "      <td>26786</td>\n",
       "    </tr>\n",
       "    <tr>\n",
       "      <th>93</th>\n",
       "      <td>Portuguese</td>\n",
       "      <td>Queir¢s</td>\n",
       "      <td>A Cidade e as Serras.txt</td>\n",
       "      <td>65225</td>\n",
       "      <td>19230</td>\n",
       "    </tr>\n",
       "    <tr>\n",
       "      <th>94</th>\n",
       "      <td>Portuguese</td>\n",
       "      <td>Queir¢s</td>\n",
       "      <td>A correspondància de Fradique Mendes.txt</td>\n",
       "      <td>52982</td>\n",
       "      <td>16648</td>\n",
       "    </tr>\n",
       "    <tr>\n",
       "      <th>95</th>\n",
       "      <td>Portuguese</td>\n",
       "      <td>Queir¢s</td>\n",
       "      <td>A Illustre Casa de Ramires.txt</td>\n",
       "      <td>98218</td>\n",
       "      <td>25353</td>\n",
       "    </tr>\n",
       "    <tr>\n",
       "      <th>96</th>\n",
       "      <td>Portuguese</td>\n",
       "      <td>Queir¢s</td>\n",
       "      <td>A Rel°quia.txt</td>\n",
       "      <td>77627</td>\n",
       "      <td>21399</td>\n",
       "    </tr>\n",
       "    <tr>\n",
       "      <th>97</th>\n",
       "      <td>Portuguese</td>\n",
       "      <td>Queir¢s</td>\n",
       "      <td>Cartas de Inglaterra.txt</td>\n",
       "      <td>44293</td>\n",
       "      <td>13898</td>\n",
       "    </tr>\n",
       "    <tr>\n",
       "      <th>98</th>\n",
       "      <td>Portuguese</td>\n",
       "      <td>Queir¢s</td>\n",
       "      <td>O crime do padre Amaro.txt</td>\n",
       "      <td>128630</td>\n",
       "      <td>29300</td>\n",
       "    </tr>\n",
       "    <tr>\n",
       "      <th>99</th>\n",
       "      <td>Portuguese</td>\n",
       "      <td>Queir¢s</td>\n",
       "      <td>O Mandarim.txt</td>\n",
       "      <td>21440</td>\n",
       "      <td>7836</td>\n",
       "    </tr>\n",
       "    <tr>\n",
       "      <th>100</th>\n",
       "      <td>Portuguese</td>\n",
       "      <td>Queir¢s</td>\n",
       "      <td>O Primo Bazilio.txt</td>\n",
       "      <td>107303</td>\n",
       "      <td>27644</td>\n",
       "    </tr>\n",
       "    <tr>\n",
       "      <th>101</th>\n",
       "      <td>Portuguese</td>\n",
       "      <td>Queir¢s</td>\n",
       "      <td>Os Maias.txt</td>\n",
       "      <td>195771</td>\n",
       "      <td>40665</td>\n",
       "    </tr>\n",
       "    <tr>\n",
       "      <th>102</th>\n",
       "      <td>Portuguese</td>\n",
       "      <td>shakespeare</td>\n",
       "      <td>Hamlet.txt</td>\n",
       "      <td>30567</td>\n",
       "      <td>9700</td>\n",
       "    </tr>\n",
       "  </tbody>\n",
       "</table>\n",
       "<p>102 rows × 5 columns</p>\n",
       "</div>"
      ],
      "text/plain": [
       "       language         author                                       title  \\\n",
       "1       English    shakespeare               A Midsummer Night's Dream.txt   \n",
       "2       English    shakespeare                                  Hamlet.txt   \n",
       "3       English    shakespeare                                 Macbeth.txt   \n",
       "4       English    shakespeare                                 Othello.txt   \n",
       "5       English    shakespeare                             Richard III.txt   \n",
       "6       English    shakespeare                        Romeo and Juliet.txt   \n",
       "7       English    shakespeare                  The Merchant of Venice.txt   \n",
       "8        French      chevalier                         L'åle de sable.txt   \n",
       "9        French      chevalier  L'enfer et le paradis de l'autre monde.txt   \n",
       "10       French      chevalier                            La capitaine.txt   \n",
       "11       French      chevalier             La fille des indiens rouges.txt   \n",
       "12       French      chevalier                      La fille du pirate.txt   \n",
       "13       French      chevalier                        Le chasseur noir.txt   \n",
       "14       French      chevalier                   Les derniers Iroquois.txt   \n",
       "15       French  de Maupassant                           Boule de Suif.txt   \n",
       "16       French  de Maupassant                          Claire de Lune.txt   \n",
       "17       French  de Maupassant                    Contes de la Becasse.txt   \n",
       "18       French  de Maupassant                       L'inutile beautÇ.txt   \n",
       "19       French  de Maupassant                          La Main Gauche.txt   \n",
       "20       French  de Maupassant                       La Maison Tellier.txt   \n",
       "21       French  de Maupassant                         La petite roque.txt   \n",
       "22       French  de Maupassant                                Le Horla.txt   \n",
       "23       French  de Maupassant  Œuvres complètes de Guy de Maupassant.txt   \n",
       "24       French        diderot                 Ceci n'est pas un conte.txt   \n",
       "25       French        diderot   Entretien d'un päre avec ses enfants.txt   \n",
       "26       French        diderot                          L'oiseau blanc.txt   \n",
       "27       French        diderot              Les deux amis de Bourbonne.txt   \n",
       "28       French        diderot  Regrets sur ma vieille robe de chambre.txt   \n",
       "29       French           sand                                    cora.txt   \n",
       "30       French           sand     Jacques le fataliste et son maåtre.txt   \n",
       "..          ...            ...                                         ...   \n",
       "73       German    shakespeare                         Romeo und Julia.txt   \n",
       "74   Portuguese         branco                    A Filha do Arcediago.txt   \n",
       "75   Portuguese         branco                     A Neta do Arcediago.txt   \n",
       "76   Portuguese         branco                       A Queda d'um Anjo.txt   \n",
       "77   Portuguese         branco                      Agulha em Palheiro.txt   \n",
       "78   Portuguese         branco                      Amor de Perdição.txt   \n",
       "79   Portuguese         branco                      Amor de Salvação.txt   \n",
       "80   Portuguese         branco                          Annos de Prosa.txt   \n",
       "81   Portuguese         branco                          Carlota Angela.txt   \n",
       "82   Portuguese         branco                      Estrellas Funestas.txt   \n",
       "83   Portuguese         branco                     Estrellas Prop°cias.txt   \n",
       "84   Portuguese         branco                    Lagrimas Abenáoadas.txt   \n",
       "85   Portuguese         branco                   Livro de Consolação.txt   \n",
       "86   Portuguese         branco                         O Olho de Vidro.txt   \n",
       "87   Portuguese         branco                    O que fazem mulheres.txt   \n",
       "88   Portuguese         branco                              O Regicida.txt   \n",
       "89   Portuguese         branco                   Scenas Contemporaneas.txt   \n",
       "90   Portuguese          dinis             A Morgadinha dos Cannaviaes.txt   \n",
       "91   Portuguese          dinis            Os fidalgos da Casa Mourisca.txt   \n",
       "92   Portuguese          dinis                     Uma fam°lia ingleza.txt   \n",
       "93   Portuguese        Queir¢s                    A Cidade e as Serras.txt   \n",
       "94   Portuguese        Queir¢s   A correspondància de Fradique Mendes.txt   \n",
       "95   Portuguese        Queir¢s              A Illustre Casa de Ramires.txt   \n",
       "96   Portuguese        Queir¢s                              A Rel°quia.txt   \n",
       "97   Portuguese        Queir¢s                    Cartas de Inglaterra.txt   \n",
       "98   Portuguese        Queir¢s                  O crime do padre Amaro.txt   \n",
       "99   Portuguese        Queir¢s                              O Mandarim.txt   \n",
       "100  Portuguese        Queir¢s                         O Primo Bazilio.txt   \n",
       "101  Portuguese        Queir¢s                                Os Maias.txt   \n",
       "102  Portuguese    shakespeare                                  Hamlet.txt   \n",
       "\n",
       "     length unique  \n",
       "1     16103   4345  \n",
       "2     28551   6776  \n",
       "3     16874   4780  \n",
       "4     26590   5898  \n",
       "5     48315   5449  \n",
       "6     40776   5118  \n",
       "7     20949   4978  \n",
       "8     73801  18989  \n",
       "9     40827  10831  \n",
       "10    46306  13083  \n",
       "11    66621  17875  \n",
       "12    52519  14649  \n",
       "13    51341  12945  \n",
       "14    55565  15583  \n",
       "15    35905  10725  \n",
       "16    25975   8076  \n",
       "17    34723  10210  \n",
       "18    37840  10781  \n",
       "19    33481   9983  \n",
       "20    43685  12305  \n",
       "21    40688  10890  \n",
       "22    41485  11091  \n",
       "23    54772  15028  \n",
       "24    10938   3674  \n",
       "25    11125   3720  \n",
       "26    21973   6337  \n",
       "27     8510   2929  \n",
       "28     4980   1876  \n",
       "29    12370   4370  \n",
       "30    85756  18744  \n",
       "..      ...    ...  \n",
       "73    20311   7527  \n",
       "74    74446  18238  \n",
       "75    52996  14549  \n",
       "76    48022  15133  \n",
       "77    43575  12761  \n",
       "78    46751  12884  \n",
       "79    47739  14337  \n",
       "80    61473  16987  \n",
       "81    46927  13456  \n",
       "82    46709  13450  \n",
       "83    43445  12478  \n",
       "84    45182  12622  \n",
       "85    54151  15871  \n",
       "86    45461  13180  \n",
       "87    41175  12316  \n",
       "88    50751  14779  \n",
       "89    48889  14395  \n",
       "90   134382  30728  \n",
       "91   130834  27834  \n",
       "92   109270  26786  \n",
       "93    65225  19230  \n",
       "94    52982  16648  \n",
       "95    98218  25353  \n",
       "96    77627  21399  \n",
       "97    44293  13898  \n",
       "98   128630  29300  \n",
       "99    21440   7836  \n",
       "100  107303  27644  \n",
       "101  195771  40665  \n",
       "102   30567   9700  \n",
       "\n",
       "[102 rows x 5 columns]"
      ]
     },
     "execution_count": 104,
     "metadata": {},
     "output_type": "execute_result"
    }
   ],
   "source": [
    "stats"
   ]
  },
  {
   "cell_type": "code",
   "execution_count": 105,
   "metadata": {},
   "outputs": [
    {
     "data": {
      "text/html": [
       "<div>\n",
       "<style>\n",
       "    .dataframe thead tr:only-child th {\n",
       "        text-align: right;\n",
       "    }\n",
       "\n",
       "    .dataframe thead th {\n",
       "        text-align: left;\n",
       "    }\n",
       "\n",
       "    .dataframe tbody tr th {\n",
       "        vertical-align: top;\n",
       "    }\n",
       "</style>\n",
       "<table border=\"1\" class=\"dataframe\">\n",
       "  <thead>\n",
       "    <tr style=\"text-align: right;\">\n",
       "      <th></th>\n",
       "      <th>language</th>\n",
       "      <th>author</th>\n",
       "      <th>title</th>\n",
       "      <th>length</th>\n",
       "      <th>unique</th>\n",
       "    </tr>\n",
       "  </thead>\n",
       "  <tbody>\n",
       "    <tr>\n",
       "      <th>1</th>\n",
       "      <td>English</td>\n",
       "      <td>shakespeare</td>\n",
       "      <td>A Midsummer Night's Dream.txt</td>\n",
       "      <td>16103</td>\n",
       "      <td>4345</td>\n",
       "    </tr>\n",
       "    <tr>\n",
       "      <th>2</th>\n",
       "      <td>English</td>\n",
       "      <td>shakespeare</td>\n",
       "      <td>Hamlet.txt</td>\n",
       "      <td>28551</td>\n",
       "      <td>6776</td>\n",
       "    </tr>\n",
       "    <tr>\n",
       "      <th>3</th>\n",
       "      <td>English</td>\n",
       "      <td>shakespeare</td>\n",
       "      <td>Macbeth.txt</td>\n",
       "      <td>16874</td>\n",
       "      <td>4780</td>\n",
       "    </tr>\n",
       "    <tr>\n",
       "      <th>4</th>\n",
       "      <td>English</td>\n",
       "      <td>shakespeare</td>\n",
       "      <td>Othello.txt</td>\n",
       "      <td>26590</td>\n",
       "      <td>5898</td>\n",
       "    </tr>\n",
       "    <tr>\n",
       "      <th>5</th>\n",
       "      <td>English</td>\n",
       "      <td>shakespeare</td>\n",
       "      <td>Richard III.txt</td>\n",
       "      <td>48315</td>\n",
       "      <td>5449</td>\n",
       "    </tr>\n",
       "  </tbody>\n",
       "</table>\n",
       "</div>"
      ],
      "text/plain": [
       "  language       author                          title length unique\n",
       "1  English  shakespeare  A Midsummer Night's Dream.txt  16103   4345\n",
       "2  English  shakespeare                     Hamlet.txt  28551   6776\n",
       "3  English  shakespeare                    Macbeth.txt  16874   4780\n",
       "4  English  shakespeare                    Othello.txt  26590   5898\n",
       "5  English  shakespeare                Richard III.txt  48315   5449"
      ]
     },
     "execution_count": 105,
     "metadata": {},
     "output_type": "execute_result"
    }
   ],
   "source": [
    "stats.head()"
   ]
  },
  {
   "cell_type": "code",
   "execution_count": 72,
   "metadata": {},
   "outputs": [
    {
     "data": {
      "text/html": [
       "<div>\n",
       "<style>\n",
       "    .dataframe thead tr:only-child th {\n",
       "        text-align: right;\n",
       "    }\n",
       "\n",
       "    .dataframe thead th {\n",
       "        text-align: left;\n",
       "    }\n",
       "\n",
       "    .dataframe tbody tr th {\n",
       "        vertical-align: top;\n",
       "    }\n",
       "</style>\n",
       "<table border=\"1\" class=\"dataframe\">\n",
       "  <thead>\n",
       "    <tr style=\"text-align: right;\">\n",
       "      <th></th>\n",
       "      <th>language</th>\n",
       "      <th>author</th>\n",
       "      <th>title</th>\n",
       "      <th>length</th>\n",
       "      <th>unique</th>\n",
       "    </tr>\n",
       "  </thead>\n",
       "  <tbody>\n",
       "    <tr>\n",
       "      <th>98</th>\n",
       "      <td>Portuguese</td>\n",
       "      <td>Queir¢s</td>\n",
       "      <td>O crime do padre Amaro.txt</td>\n",
       "      <td>128630</td>\n",
       "      <td>29300</td>\n",
       "    </tr>\n",
       "    <tr>\n",
       "      <th>99</th>\n",
       "      <td>Portuguese</td>\n",
       "      <td>Queir¢s</td>\n",
       "      <td>O Mandarim.txt</td>\n",
       "      <td>21440</td>\n",
       "      <td>7836</td>\n",
       "    </tr>\n",
       "    <tr>\n",
       "      <th>100</th>\n",
       "      <td>Portuguese</td>\n",
       "      <td>Queir¢s</td>\n",
       "      <td>O Primo Bazilio.txt</td>\n",
       "      <td>107303</td>\n",
       "      <td>27644</td>\n",
       "    </tr>\n",
       "    <tr>\n",
       "      <th>101</th>\n",
       "      <td>Portuguese</td>\n",
       "      <td>Queir¢s</td>\n",
       "      <td>Os Maias.txt</td>\n",
       "      <td>195771</td>\n",
       "      <td>40665</td>\n",
       "    </tr>\n",
       "    <tr>\n",
       "      <th>102</th>\n",
       "      <td>Portuguese</td>\n",
       "      <td>shakespeare</td>\n",
       "      <td>Hamlet.txt</td>\n",
       "      <td>30567</td>\n",
       "      <td>9700</td>\n",
       "    </tr>\n",
       "  </tbody>\n",
       "</table>\n",
       "</div>"
      ],
      "text/plain": [
       "       language       author                       title  length unique\n",
       "98   Portuguese      Queir¢s  O crime do padre Amaro.txt  128630  29300\n",
       "99   Portuguese      Queir¢s              O Mandarim.txt   21440   7836\n",
       "100  Portuguese      Queir¢s         O Primo Bazilio.txt  107303  27644\n",
       "101  Portuguese      Queir¢s                Os Maias.txt  195771  40665\n",
       "102  Portuguese  shakespeare                  Hamlet.txt   30567   9700"
      ]
     },
     "execution_count": 72,
     "metadata": {},
     "output_type": "execute_result"
    }
   ],
   "source": [
    "stats.tail()"
   ]
  },
  {
   "cell_type": "code",
   "execution_count": 106,
   "metadata": {},
   "outputs": [
    {
     "data": {
      "text/plain": [
       "(102, 5)"
      ]
     },
     "execution_count": 106,
     "metadata": {},
     "output_type": "execute_result"
    }
   ],
   "source": [
    "stats.shape"
   ]
  },
  {
   "cell_type": "markdown",
   "metadata": {},
   "source": [
    "Testing out using our shorter code using `os.walk`, I realized that it is not useful for the pandas dataframe creation since I can't seperate the directories at invidual levels without needing to break the code (using either `break` or `next`)"
   ]
  },
  {
   "cell_type": "markdown",
   "metadata": {},
   "source": [
    "Now lets make some modifications in the table.\n",
    "-  Capitalize the authors names\n",
    "-  Remove the `.txt` from the file names"
   ]
  },
  {
   "cell_type": "code",
   "execution_count": 2,
   "metadata": {},
   "outputs": [
    {
     "ename": "NameError",
     "evalue": "name 'listdir_filtered' is not defined",
     "output_type": "error",
     "traceback": [
      "\u001b[0;31m---------------------------------------------------------------------------\u001b[0m",
      "\u001b[0;31mNameError\u001b[0m                                 Traceback (most recent call last)",
      "\u001b[0;32m<ipython-input-2-bddbcb691158>\u001b[0m in \u001b[0;36m<module>\u001b[0;34m()\u001b[0m\n\u001b[1;32m      5\u001b[0m \u001b[0mstats\u001b[0m \u001b[0;34m=\u001b[0m \u001b[0mpd\u001b[0m\u001b[0;34m.\u001b[0m\u001b[0mDataFrame\u001b[0m\u001b[0;34m(\u001b[0m\u001b[0mcolumns\u001b[0m\u001b[0;34m=\u001b[0m\u001b[0;34m(\u001b[0m\u001b[0;34m\"language\"\u001b[0m\u001b[0;34m,\u001b[0m\u001b[0;34m\"author\"\u001b[0m\u001b[0;34m,\u001b[0m\u001b[0;34m\"title\"\u001b[0m\u001b[0;34m,\u001b[0m\u001b[0;34m\"length\"\u001b[0m\u001b[0;34m,\u001b[0m\u001b[0;34m\"unique\"\u001b[0m\u001b[0;34m)\u001b[0m\u001b[0;34m)\u001b[0m\u001b[0;34m\u001b[0m\u001b[0m\n\u001b[1;32m      6\u001b[0m \u001b[0mtitle_num\u001b[0m \u001b[0;34m=\u001b[0m \u001b[0;36m1\u001b[0m\u001b[0;34m\u001b[0m\u001b[0m\n\u001b[0;32m----> 7\u001b[0;31m \u001b[0;32mfor\u001b[0m \u001b[0mlanguage\u001b[0m \u001b[0;32min\u001b[0m \u001b[0mlistdir_filtered\u001b[0m\u001b[0;34m(\u001b[0m\u001b[0mbook_dir\u001b[0m\u001b[0;34m)\u001b[0m\u001b[0;34m:\u001b[0m\u001b[0;34m\u001b[0m\u001b[0m\n\u001b[0m\u001b[1;32m      8\u001b[0m     \u001b[0;32mfor\u001b[0m \u001b[0mauthor\u001b[0m \u001b[0;32min\u001b[0m \u001b[0mlistdir_filtered\u001b[0m\u001b[0;34m(\u001b[0m\u001b[0mbook_dir\u001b[0m \u001b[0;34m+\u001b[0m \u001b[0;34m\"/\"\u001b[0m \u001b[0;34m+\u001b[0m \u001b[0mlanguage\u001b[0m\u001b[0;34m)\u001b[0m\u001b[0;34m:\u001b[0m\u001b[0;34m\u001b[0m\u001b[0m\n\u001b[1;32m      9\u001b[0m         \u001b[0;32mfor\u001b[0m \u001b[0mtitle\u001b[0m \u001b[0;32min\u001b[0m \u001b[0mlistdir_filtered\u001b[0m\u001b[0;34m(\u001b[0m\u001b[0mbook_dir\u001b[0m \u001b[0;34m+\u001b[0m \u001b[0;34m\"/\"\u001b[0m \u001b[0;34m+\u001b[0m \u001b[0mlanguage\u001b[0m \u001b[0;34m+\u001b[0m \u001b[0;34m\"/\"\u001b[0m \u001b[0;34m+\u001b[0m \u001b[0mauthor\u001b[0m\u001b[0;34m)\u001b[0m\u001b[0;34m:\u001b[0m\u001b[0;34m\u001b[0m\u001b[0m\n",
      "\u001b[0;31mNameError\u001b[0m: name 'listdir_filtered' is not defined"
     ]
    }
   ],
   "source": [
    "import os\n",
    "book_dir = \"./files/gutenburg\"\n",
    "\n",
    "import pandas as pd\n",
    "stats = pd.DataFrame(columns=(\"language\",\"author\",\"title\",\"length\",\"unique\"))\n",
    "title_num = 1\n",
    "for language in listdir_filtered(book_dir):\n",
    "    for author in listdir_filtered(book_dir + \"/\" + language):\n",
    "        for title in listdir_filtered(book_dir + \"/\" + language + \"/\" + author):\n",
    "            inputpath = book_dir + \"/\" + language + \"/\" + author + \"/\" + title\n",
    "            #print(inputpath)\n",
    "            text = read_book(inputpath)\n",
    "            (num_unique, counts)=word_stats(count_words(text))\n",
    "            stats.loc[title_num] = language, author.capitalize(), title.replace(\".txt\",\"\"),sum(counts),num_unique\n",
    "            title_num += 1            \n",
    "stats.head()"
   ]
  },
  {
   "cell_type": "markdown",
   "metadata": {},
   "source": [
    "Now say you already have a table and now you want to capitalize and replace text in colums.\n"
   ]
  },
  {
   "cell_type": "code",
   "execution_count": 12,
   "metadata": {},
   "outputs": [
    {
     "data": {
      "text/html": [
       "<div>\n",
       "<style>\n",
       "    .dataframe thead tr:only-child th {\n",
       "        text-align: right;\n",
       "    }\n",
       "\n",
       "    .dataframe thead th {\n",
       "        text-align: left;\n",
       "    }\n",
       "\n",
       "    .dataframe tbody tr th {\n",
       "        vertical-align: top;\n",
       "    }\n",
       "</style>\n",
       "<table border=\"1\" class=\"dataframe\">\n",
       "  <thead>\n",
       "    <tr style=\"text-align: right;\">\n",
       "      <th></th>\n",
       "      <th>language</th>\n",
       "      <th>author</th>\n",
       "      <th>title</th>\n",
       "      <th>length</th>\n",
       "      <th>unique</th>\n",
       "    </tr>\n",
       "  </thead>\n",
       "  <tbody>\n",
       "    <tr>\n",
       "      <th>1</th>\n",
       "      <td>English</td>\n",
       "      <td>shakespeare</td>\n",
       "      <td>A Midsummer Night's Dream.txt</td>\n",
       "      <td>16103</td>\n",
       "      <td>4345</td>\n",
       "    </tr>\n",
       "    <tr>\n",
       "      <th>2</th>\n",
       "      <td>English</td>\n",
       "      <td>shakespeare</td>\n",
       "      <td>Hamlet.txt</td>\n",
       "      <td>28551</td>\n",
       "      <td>6776</td>\n",
       "    </tr>\n",
       "    <tr>\n",
       "      <th>3</th>\n",
       "      <td>English</td>\n",
       "      <td>shakespeare</td>\n",
       "      <td>Macbeth.txt</td>\n",
       "      <td>16874</td>\n",
       "      <td>4780</td>\n",
       "    </tr>\n",
       "    <tr>\n",
       "      <th>4</th>\n",
       "      <td>English</td>\n",
       "      <td>shakespeare</td>\n",
       "      <td>Othello.txt</td>\n",
       "      <td>26590</td>\n",
       "      <td>5898</td>\n",
       "    </tr>\n",
       "    <tr>\n",
       "      <th>5</th>\n",
       "      <td>English</td>\n",
       "      <td>shakespeare</td>\n",
       "      <td>Richard III.txt</td>\n",
       "      <td>48315</td>\n",
       "      <td>5449</td>\n",
       "    </tr>\n",
       "  </tbody>\n",
       "</table>\n",
       "</div>"
      ],
      "text/plain": [
       "  language       author                          title length unique\n",
       "1  English  shakespeare  A Midsummer Night's Dream.txt  16103   4345\n",
       "2  English  shakespeare                     Hamlet.txt  28551   6776\n",
       "3  English  shakespeare                    Macbeth.txt  16874   4780\n",
       "4  English  shakespeare                    Othello.txt  26590   5898\n",
       "5  English  shakespeare                Richard III.txt  48315   5449"
      ]
     },
     "execution_count": 12,
     "metadata": {},
     "output_type": "execute_result"
    }
   ],
   "source": [
    "import os\n",
    "book_dir = \"./files/gutenburg\"\n",
    "\n",
    "import pandas as pd\n",
    "stats = pd.DataFrame(columns=(\"language\",\"author\",\"title\",\"length\",\"unique\"))\n",
    "title_num = 1\n",
    "for language in listdir_filtered(book_dir):\n",
    "    for author in listdir_filtered(book_dir + \"/\" + language):\n",
    "        for title in listdir_filtered(book_dir + \"/\" + language + \"/\" + author):\n",
    "            inputpath = book_dir + \"/\" + language + \"/\" + author + \"/\" + title\n",
    "            #print(inputpath)\n",
    "            text = read_book(inputpath)\n",
    "            (num_unique, counts)=word_stats(count_words(text))\n",
    "            stats.loc[title_num] = language, author, title,sum(counts),num_unique\n",
    "            title_num += 1       \n",
    "stats.head()"
   ]
  },
  {
   "cell_type": "code",
   "execution_count": 110,
   "metadata": {},
   "outputs": [
    {
     "data": {
      "text/html": [
       "<div>\n",
       "<style>\n",
       "    .dataframe thead tr:only-child th {\n",
       "        text-align: right;\n",
       "    }\n",
       "\n",
       "    .dataframe thead th {\n",
       "        text-align: left;\n",
       "    }\n",
       "\n",
       "    .dataframe tbody tr th {\n",
       "        vertical-align: top;\n",
       "    }\n",
       "</style>\n",
       "<table border=\"1\" class=\"dataframe\">\n",
       "  <thead>\n",
       "    <tr style=\"text-align: right;\">\n",
       "      <th></th>\n",
       "      <th>language</th>\n",
       "      <th>author</th>\n",
       "      <th>title</th>\n",
       "      <th>length</th>\n",
       "      <th>unique</th>\n",
       "    </tr>\n",
       "  </thead>\n",
       "  <tbody>\n",
       "    <tr>\n",
       "      <th>1</th>\n",
       "      <td>English</td>\n",
       "      <td>Shakespeare</td>\n",
       "      <td>A Midsummer Night's Dream.txt</td>\n",
       "      <td>16103</td>\n",
       "      <td>4345</td>\n",
       "    </tr>\n",
       "    <tr>\n",
       "      <th>2</th>\n",
       "      <td>English</td>\n",
       "      <td>Shakespeare</td>\n",
       "      <td>Hamlet.txt</td>\n",
       "      <td>28551</td>\n",
       "      <td>6776</td>\n",
       "    </tr>\n",
       "    <tr>\n",
       "      <th>3</th>\n",
       "      <td>English</td>\n",
       "      <td>Shakespeare</td>\n",
       "      <td>Macbeth.txt</td>\n",
       "      <td>16874</td>\n",
       "      <td>4780</td>\n",
       "    </tr>\n",
       "    <tr>\n",
       "      <th>4</th>\n",
       "      <td>English</td>\n",
       "      <td>Shakespeare</td>\n",
       "      <td>Othello.txt</td>\n",
       "      <td>26590</td>\n",
       "      <td>5898</td>\n",
       "    </tr>\n",
       "    <tr>\n",
       "      <th>5</th>\n",
       "      <td>English</td>\n",
       "      <td>Shakespeare</td>\n",
       "      <td>Richard III.txt</td>\n",
       "      <td>48315</td>\n",
       "      <td>5449</td>\n",
       "    </tr>\n",
       "  </tbody>\n",
       "</table>\n",
       "</div>"
      ],
      "text/plain": [
       "  language       author                          title length unique\n",
       "1  English  Shakespeare  A Midsummer Night's Dream.txt  16103   4345\n",
       "2  English  Shakespeare                     Hamlet.txt  28551   6776\n",
       "3  English  Shakespeare                    Macbeth.txt  16874   4780\n",
       "4  English  Shakespeare                    Othello.txt  26590   5898\n",
       "5  English  Shakespeare                Richard III.txt  48315   5449"
      ]
     },
     "execution_count": 110,
     "metadata": {},
     "output_type": "execute_result"
    }
   ],
   "source": [
    "stats['author'] = stats['author'].str.capitalize()\n",
    "stats.head()"
   ]
  },
  {
   "cell_type": "code",
   "execution_count": 111,
   "metadata": {},
   "outputs": [
    {
     "data": {
      "text/html": [
       "<div>\n",
       "<style>\n",
       "    .dataframe thead tr:only-child th {\n",
       "        text-align: right;\n",
       "    }\n",
       "\n",
       "    .dataframe thead th {\n",
       "        text-align: left;\n",
       "    }\n",
       "\n",
       "    .dataframe tbody tr th {\n",
       "        vertical-align: top;\n",
       "    }\n",
       "</style>\n",
       "<table border=\"1\" class=\"dataframe\">\n",
       "  <thead>\n",
       "    <tr style=\"text-align: right;\">\n",
       "      <th></th>\n",
       "      <th>language</th>\n",
       "      <th>author</th>\n",
       "      <th>title</th>\n",
       "      <th>length</th>\n",
       "      <th>unique</th>\n",
       "    </tr>\n",
       "  </thead>\n",
       "  <tbody>\n",
       "    <tr>\n",
       "      <th>1</th>\n",
       "      <td>English</td>\n",
       "      <td>Shakespeare</td>\n",
       "      <td>A Midsummer Night's Dream</td>\n",
       "      <td>16103</td>\n",
       "      <td>4345</td>\n",
       "    </tr>\n",
       "    <tr>\n",
       "      <th>2</th>\n",
       "      <td>English</td>\n",
       "      <td>Shakespeare</td>\n",
       "      <td>Hamlet</td>\n",
       "      <td>28551</td>\n",
       "      <td>6776</td>\n",
       "    </tr>\n",
       "    <tr>\n",
       "      <th>3</th>\n",
       "      <td>English</td>\n",
       "      <td>Shakespeare</td>\n",
       "      <td>Macbeth</td>\n",
       "      <td>16874</td>\n",
       "      <td>4780</td>\n",
       "    </tr>\n",
       "    <tr>\n",
       "      <th>4</th>\n",
       "      <td>English</td>\n",
       "      <td>Shakespeare</td>\n",
       "      <td>Othello</td>\n",
       "      <td>26590</td>\n",
       "      <td>5898</td>\n",
       "    </tr>\n",
       "    <tr>\n",
       "      <th>5</th>\n",
       "      <td>English</td>\n",
       "      <td>Shakespeare</td>\n",
       "      <td>Richard III</td>\n",
       "      <td>48315</td>\n",
       "      <td>5449</td>\n",
       "    </tr>\n",
       "  </tbody>\n",
       "</table>\n",
       "</div>"
      ],
      "text/plain": [
       "  language       author                      title length unique\n",
       "1  English  Shakespeare  A Midsummer Night's Dream  16103   4345\n",
       "2  English  Shakespeare                     Hamlet  28551   6776\n",
       "3  English  Shakespeare                    Macbeth  16874   4780\n",
       "4  English  Shakespeare                    Othello  26590   5898\n",
       "5  English  Shakespeare                Richard III  48315   5449"
      ]
     },
     "execution_count": 111,
     "metadata": {},
     "output_type": "execute_result"
    }
   ],
   "source": [
    "stats['title'] = stats['title'].str.replace(\".txt\",\"\")\n",
    "stats.head()"
   ]
  },
  {
   "cell_type": "code",
   "execution_count": 155,
   "metadata": {},
   "outputs": [
    {
     "data": {
      "text/plain": [
       "1    16103\n",
       "2    28551\n",
       "3    16874\n",
       "4    26590\n",
       "5    48315\n",
       "Name: length, dtype: object"
      ]
     },
     "execution_count": 155,
     "metadata": {},
     "output_type": "execute_result"
    }
   ],
   "source": [
    "stats.length.head() # access the entire column using stats.length"
   ]
  },
  {
   "cell_type": "code",
   "execution_count": 156,
   "metadata": {},
   "outputs": [
    {
     "data": {
      "text/plain": [
       "1    16103\n",
       "2    28551\n",
       "3    16874\n",
       "4    26590\n",
       "5    48315\n",
       "Name: length, dtype: object"
      ]
     },
     "execution_count": 156,
     "metadata": {},
     "output_type": "execute_result"
    }
   ],
   "source": [
    "stats[\"length\"].head()"
   ]
  },
  {
   "cell_type": "code",
   "execution_count": 13,
   "metadata": {},
   "outputs": [
    {
     "data": {
      "image/png": "[encoded data removed]",
      "text/plain": [
       "<matplotlib.figure.Figure at 0x1144438d0>"
      ]
     },
     "metadata": {},
     "output_type": "display_data"
    }
   ],
   "source": [
    "%matplotlib inline\n",
    "import matplotlib.pyplot as plt\n",
    "plt.plot(stats.length, stats.unique,\"bo\");"
   ]
  },
  {
   "cell_type": "code",
   "execution_count": 114,
   "metadata": {},
   "outputs": [
    {
     "data": {
      "image/png": "[encoded data removed]",
      "text/plain": [
       "<matplotlib.figure.Figure at 0x10894ac18>"
      ]
     },
     "metadata": {},
     "output_type": "display_data"
    }
   ],
   "source": [
    "%matplotlib inline\n",
    "import matplotlib.pyplot as plt\n",
    "plt.loglog(stats.length, stats.unique,\"bo\");"
   ]
  },
  {
   "cell_type": "markdown",
   "metadata": {},
   "source": [
    "We can also stratify our data by language in pandas"
   ]
  },
  {
   "cell_type": "code",
   "execution_count": 115,
   "metadata": {},
   "outputs": [
    {
     "data": {
      "text/html": [
       "<div>\n",
       "<style>\n",
       "    .dataframe thead tr:only-child th {\n",
       "        text-align: right;\n",
       "    }\n",
       "\n",
       "    .dataframe thead th {\n",
       "        text-align: left;\n",
       "    }\n",
       "\n",
       "    .dataframe tbody tr th {\n",
       "        vertical-align: top;\n",
       "    }\n",
       "</style>\n",
       "<table border=\"1\" class=\"dataframe\">\n",
       "  <thead>\n",
       "    <tr style=\"text-align: right;\">\n",
       "      <th></th>\n",
       "      <th>language</th>\n",
       "      <th>author</th>\n",
       "      <th>title</th>\n",
       "      <th>length</th>\n",
       "      <th>unique</th>\n",
       "    </tr>\n",
       "  </thead>\n",
       "  <tbody>\n",
       "    <tr>\n",
       "      <th>1</th>\n",
       "      <td>English</td>\n",
       "      <td>Shakespeare</td>\n",
       "      <td>A Midsummer Night's Dream</td>\n",
       "      <td>16103</td>\n",
       "      <td>4345</td>\n",
       "    </tr>\n",
       "    <tr>\n",
       "      <th>2</th>\n",
       "      <td>English</td>\n",
       "      <td>Shakespeare</td>\n",
       "      <td>Hamlet</td>\n",
       "      <td>28551</td>\n",
       "      <td>6776</td>\n",
       "    </tr>\n",
       "    <tr>\n",
       "      <th>3</th>\n",
       "      <td>English</td>\n",
       "      <td>Shakespeare</td>\n",
       "      <td>Macbeth</td>\n",
       "      <td>16874</td>\n",
       "      <td>4780</td>\n",
       "    </tr>\n",
       "    <tr>\n",
       "      <th>4</th>\n",
       "      <td>English</td>\n",
       "      <td>Shakespeare</td>\n",
       "      <td>Othello</td>\n",
       "      <td>26590</td>\n",
       "      <td>5898</td>\n",
       "    </tr>\n",
       "    <tr>\n",
       "      <th>5</th>\n",
       "      <td>English</td>\n",
       "      <td>Shakespeare</td>\n",
       "      <td>Richard III</td>\n",
       "      <td>48315</td>\n",
       "      <td>5449</td>\n",
       "    </tr>\n",
       "    <tr>\n",
       "      <th>6</th>\n",
       "      <td>English</td>\n",
       "      <td>Shakespeare</td>\n",
       "      <td>Romeo and Juliet</td>\n",
       "      <td>40776</td>\n",
       "      <td>5118</td>\n",
       "    </tr>\n",
       "    <tr>\n",
       "      <th>7</th>\n",
       "      <td>English</td>\n",
       "      <td>Shakespeare</td>\n",
       "      <td>The Merchant of Venice</td>\n",
       "      <td>20949</td>\n",
       "      <td>4978</td>\n",
       "    </tr>\n",
       "  </tbody>\n",
       "</table>\n",
       "</div>"
      ],
      "text/plain": [
       "  language       author                      title length unique\n",
       "1  English  Shakespeare  A Midsummer Night's Dream  16103   4345\n",
       "2  English  Shakespeare                     Hamlet  28551   6776\n",
       "3  English  Shakespeare                    Macbeth  16874   4780\n",
       "4  English  Shakespeare                    Othello  26590   5898\n",
       "5  English  Shakespeare                Richard III  48315   5449\n",
       "6  English  Shakespeare           Romeo and Juliet  40776   5118\n",
       "7  English  Shakespeare     The Merchant of Venice  20949   4978"
      ]
     },
     "execution_count": 115,
     "metadata": {},
     "output_type": "execute_result"
    }
   ],
   "source": [
    "stats[stats.language == \"English\"]"
   ]
  },
  {
   "cell_type": "code",
   "execution_count": 127,
   "metadata": {},
   "outputs": [
    {
     "data": {
      "image/png": "[encoded data removed]",
      "text/plain": [
       "<matplotlib.figure.Figure at 0x1088fdeb8>"
      ]
     },
     "metadata": {},
     "output_type": "display_data"
    }
   ],
   "source": [
    "plt.figure(figsize=(10,10))\n",
    "\n",
    "subset = stats[stats.language == \"English\"]\n",
    "plt.loglog(subset.length, subset.unique, \"o\", label = \"English\", color = \"crimson\")\n",
    "\n",
    "subset = stats[stats.language == \"French\"]\n",
    "plt.loglog(subset.length, subset.unique, \"o\", label = \"French\", color = \"forestgreen\")\n",
    "\n",
    "subset = stats[stats.language == \"German\"]\n",
    "plt.loglog(subset.length, subset.unique, \"o\", label = \"German\", color = \"orange\")\n",
    "\n",
    "subset = stats[stats.language == \"Portuguese\"]\n",
    "plt.loglog(subset.length, subset.unique, \"o\", label = \"Portuguese\", color = \"blueviolet\")\n",
    "\n",
    "plt.legend()\n",
    "plt.xlabel(\"Book length\")\n",
    "plt.ylabel(\"Number of unique words\");\n",
    "#plt.savefig(\"lang_plot.pdf\")"
   ]
  },
  {
   "cell_type": "code",
   "execution_count": 18,
   "metadata": {},
   "outputs": [
    {
     "data": {
      "image/png": "[encoded data removed]",
      "text/plain": [
       "<matplotlib.figure.Figure at 0x11a860a20>"
      ]
     },
     "metadata": {},
     "output_type": "display_data"
    }
   ],
   "source": [
    "import seaborn as sns\n",
    "g = sns.pairplot(x_vars=['length'], y_vars=['unique'], data=stats, hue='language', size=7) \n",
    "#g = g.map_offdiag(plt.scatter,  s=35,alpha=0.5);"
   ]
  },
  {
   "cell_type": "code",
   "execution_count": null,
   "metadata": {},
   "outputs": [],
   "source": [
    "g = sns.pairplot(x_vars=['length'], y_vars=['unique'], data=stats, hue='language', size=7, plot_kws = {\"s\": 80}) # increase point size"
   ]
  },
  {
   "cell_type": "markdown",
   "metadata": {},
   "source": [
    "# Homework\n",
    "\n",
    "**Exercise 1**\n",
    "\n",
    "In this case study, we will find and visualize summary statistics of the text of different translations of Hamlet. For this case study, functions count_words_fast, read_book, and word_stats are already defined as in the Case 2 Videos (Videos 3.2.x).\n",
    "\n",
    "book_titles is a nested dictionary, containing book titles within authors within languages, all of which are strings. These books are all stored online, and are accessed throughout this case study. In this exercise, we will first read in and store each translation of Hamlet.\n",
    "\n",
    "\n",
    "-  Define `hamlets` as a `pandas` dataframe with columns `language` and `text`.\n",
    "-  Add an `if`statement to check if the title is equal to `'Hamlet'`.\n",
    "-  Store the results from `read_book(inputfile)` to `text`.\n",
    "-  Consider: How many translations are there? Which languages are they translated into? \n",
    "    Ans: There are three translations: English, German, and Portuguese.\n"
   ]
  },
  {
   "cell_type": "code",
   "execution_count": null,
   "metadata": {},
   "outputs": [],
   "source": [
    "import pandas as pd\n",
    "hamlets = pd.DataFrame(columns=(\"language\",\"text\"))\n",
    "book_dir = \"Books\"\n",
    "title_num = 1\n",
    "for language in book_titles:\n",
    "    for author in book_titles[language]:\n",
    "        for title in book_titles[language][author]:\n",
    "            if title == \"Hamlet\":\n",
    "                inputfile = data_filepath+\"Books/\"+language+\"/\"+author+\"/\"+title+\".txt\"\n",
    "                text = read_book(inputfile)\n",
    "                hamlets.loc[title_num] = language, text\n",
    "                title_num += 1"
   ]
  },
  {
   "cell_type": "markdown",
   "metadata": {},
   "source": [
    "**Exercise 2**\n",
    "In this exercise, we will summarize the text for a single translation of Hamlet in a `pandas` dataframe. The language and text of the first translation of Hamlet in `hamlets` is given in the code section.\n",
    "\n",
    "\n",
    "-  Find the dictionary of word frequency in `text` by calling `count_words_fast()`. Store this as `counted_text`.\n",
    "-  Create a `pandas` dataframe named `data`.\n",
    "-  Using `counted_text`, define two columns in data:\n",
    "    -  `word`, consisting of each unique word in `text`.\n",
    "    -  `count`, consisting of the number of times each word in `word` is included in the text.\n"
   ]
  },
  {
   "cell_type": "code",
   "execution_count": null,
   "metadata": {},
   "outputs": [],
   "source": [
    "import pandas as pd\n",
    "language, text = hamlets.iloc[0]\n",
    "\n",
    "counted_text = count_words_fast(text)\n",
    "data = pd.DataFrame({'word': list(counted_text.keys()),'count': list(counted_text.values())})"
   ]
  },
  {
   "cell_type": "markdown",
   "metadata": {},
   "source": [
    "**Exercise 3**\n",
    "In this exercise, we will continue to define summary statistics for a single translation of Hamlet. The solution code from the previous section is already included here.\n",
    "\n",
    "-  Add a column to `data` named `length`, defined as the length of each word.\n",
    "-  Add another column named `frequency`, which is defined as follows for each word in data:\n",
    "    -  If `count` > 10, frequency is `frequent`.\n",
    "    -  If 1 < `count` <= 10, frequency is `infrequent`.\n",
    "    -  If `count` == 1, frequency is `unique`.\n"
   ]
  },
  {
   "cell_type": "code",
   "execution_count": null,
   "metadata": {},
   "outputs": [],
   "source": [
    "language, text = hamlets.iloc[0]\n",
    "\n",
    "counted_text = count_words_fast(text)\n",
    "\n",
    "data = pd.DataFrame({\n",
    "    \"word\": list(counted_text.keys()),\n",
    "    \"count\": list(counted_text.values())\n",
    "})\n",
    "\n",
    "# df['elderly'] = np.where(df['age']>=50, 'yes', 'no')\n",
    "data['length'] = data.apply(lambda row: len(row.word), axis=1)\n",
    "data.loc[data['count'] > 10,'frequency'] = 'frequent'\n",
    "data.loc[((data['count'] > 1) & (data['count'] <= 10)),'frequency'] = 'infrequent'\n",
    "data.loc[data['count'] == 1,'frequency'] = 'unique'"
   ]
  },
  {
   "cell_type": "code",
   "execution_count": null,
   "metadata": {},
   "outputs": [],
   "source": [
    "# instructor solution\n",
    "language, text = hamlets.iloc[0]\n",
    "\n",
    "counted_text = count_words_fast(text)\n",
    "\n",
    "data = pd.DataFrame({\n",
    "    \"word\": list(counted_text.keys()),\n",
    "    \"count\": list(counted_text.values())\n",
    "})\n",
    "\n",
    "data[\"length\"] = data[\"word\"].apply(len)\n",
    "\n",
    "data.loc[data[\"count\"] > 10,  \"frequency\"] = \"frequent\"\n",
    "data.loc[data[\"count\"] <= 10, \"frequency\"] = \"infrequent\"\n",
    "data.loc[data[\"count\"] == 1,  \"frequency\"] = \"unique\"\n"
   ]
  },
  {
   "cell_type": "markdown",
   "metadata": {},
   "source": [
    "**Exercise 4**\n",
    "In this exercise, we will summarize the statistics in data into a smaller pandas dataframe. The solution code from the previous section is already included here.\n",
    "\n",
    "Create a pandas dataframe named `sub_data` including the following columns:\n",
    "\n",
    "-  `language`, which is the language of the text.\n",
    "-  `frequency`, which is a list containing the strings \"frequent\", \"infrequent\", and \"unique\".\n",
    "-  `mean_word_length`, which is the mean word length of each value in frequency.\n",
    "-  `num_words`, which is the total number of words in each frequency category."
   ]
  },
  {
   "cell_type": "code",
   "execution_count": null,
   "metadata": {},
   "outputs": [],
   "source": [
    "language, text = hamlets.iloc[0]\n",
    "\n",
    "counted_text = count_words_fast(text)\n",
    "\n",
    "data = pd.DataFrame({\n",
    "    \"word\": list(counted_text.keys()),\n",
    "    \"count\": list(counted_text.values())\n",
    "})\n",
    "\n",
    "data[\"length\"] = data[\"word\"].apply(len)\n",
    "\n",
    "data.loc[data[\"count\"] > 10,  \"frequency\"] = \"frequent\"\n",
    "data.loc[data[\"count\"] <= 10, \"frequency\"] = \"infrequent\"\n",
    "data.loc[data[\"count\"] == 1,  \"frequency\"] = \"unique\"\n",
    "\n",
    "# Enter your code here.\n",
    "#sub_data = pd.DataFrame(columns=(\"language\",\"frequency\",\"mean_word_length\",\"num_words\"))\n",
    "sub_data = pd.DataFrame({\n",
    "    \"language\": language,\n",
    "    \"frequency\":  [\"frequent\",\"infrequent\",\"unique\"],\n",
    "    \"mean_word_length\": data.groupby(\"frequency\")[\"length\"].mean(),\n",
    "    \"num_words\": data.groupby(\"frequency\")[\"count\"].size()\n",
    "})\n",
    "sub_data"
   ]
  },
  {
   "cell_type": "markdown",
   "metadata": {},
   "source": [
    "**Exercise 5**\n",
    "\n",
    "In this exercise, we will join all the data summaries for text Hamlet translation.\n",
    "\n",
    "The previous code for summarizing a particular translation of Hamlet is consolidated into a single function called `summarize_text`. Create a pandas dataframe `grouped_data` consisting of the results of `summarize_text` for translation of Hamlet in `hamlets`.\n",
    "\n",
    "-  Use a `for` loop across the row indices of `hamlets` to assign each translation to a new row.\n",
    "-  Obtain the `ith` row of `hamlets` to variables using the `.iloc` method, and assign the output to variables `language` and `text`.\n",
    "-  Call `summarize_text` using `language` and `text`, and assign the output to `sub_data`.\n",
    "-  Use the `pandas .append()` function to append to pandas dataframes row-wise to grouped_data."
   ]
  },
  {
   "cell_type": "code",
   "execution_count": null,
   "metadata": {},
   "outputs": [],
   "source": [
    "def summarize_text(language, text):\n",
    "    counted_text = count_words_fast(text)\n",
    "\n",
    "    data = pd.DataFrame({\n",
    "        \"word\": list(counted_text.keys()),\n",
    "        \"count\": list(counted_text.values())\n",
    "    })\n",
    "    \n",
    "    data.loc[data[\"count\"] > 10,  \"frequency\"] = \"frequent\"\n",
    "    data.loc[data[\"count\"] <= 10, \"frequency\"] = \"infrequent\"\n",
    "    data.loc[data[\"count\"] == 1,  \"frequency\"] = \"unique\"\n",
    "    \n",
    "    data[\"length\"] = data[\"word\"].apply(len)\n",
    "    \n",
    "    sub_data = pd.DataFrame({\n",
    "        \"language\": language,\n",
    "        \"frequency\": [\"frequent\",\"infrequent\",\"unique\"],\n",
    "        \"mean_word_length\": data.groupby(by = \"frequency\")[\"length\"].mean(),\n",
    "        \"num_words\": data.groupby(by = \"frequency\").size()\n",
    "    })\n",
    "\n",
    "    return(sub_data)\n",
    "    \n",
    "grouped_data = pd.DataFrame({})\n",
    "rowcount = 0;\n",
    "for row in hamlets.iterrows():\n",
    "    if rowcount in range(0,len(hamlets[\"language\"])):\n",
    "        language, text = hamlets.iloc[rowcount]\n",
    "        rowcount += 1\n",
    "        sub_data = summarize_text(language, text)   \n",
    "        #print(sub_data)\n",
    "        grouped_data = grouped_data.append(sub_data)\n",
    "        grouped_data.index.name=None # couldn't have guessed this without the discussion forum !\n",
    "        grouped_data[\"num_words\"] = grouped_data.num_words.astype(float) # couldn't have guessed this without the discussion forum !\n",
    "        \n",
    "grouped_data\n"
   ]
  },
  {
   "cell_type": "markdown",
   "metadata": {},
   "source": [
    "**Exercise 6**\n",
    "\n",
    "In this exercise, we will plot our results and look for differences across each translation.\n",
    "\n",
    "\n",
    "-  Plot the word statistics of each translations on a single plot. Note that we have already done most of the work for you.\n",
    "-  Consider: do the word statistics differ by translation?\n"
   ]
  },
  {
   "cell_type": "code",
   "execution_count": null,
   "metadata": {},
   "outputs": [],
   "source": [
    "colors = {\"Portuguese\": \"green\", \"English\": \"blue\", \"German\": \"red\"}\n",
    "markers = {\"frequent\": \"o\",\"infrequent\": \"s\", \"unique\": \"^\"}\n",
    "import matplotlib.pyplot as plt\n",
    "for i in range(grouped_data.shape[0]): # no. of rows in group_data\n",
    "    row = grouped_data.iloc[i]\n",
    "    plt.plot(row.mean_word_length, row.num_words,\n",
    "        marker=markers[row.frequency],\n",
    "        color = colors[row.language],\n",
    "        markersize = 10\n",
    "    )\n",
    "\n",
    "color_legend = []\n",
    "marker_legend = []\n",
    "for color in colors:\n",
    "    color_legend.append(\n",
    "        plt.plot([], [],\n",
    "        color=colors[color],\n",
    "        marker=\"o\",\n",
    "        label = color, markersize = 10, linestyle=\"None\")\n",
    "    )\n",
    "for marker in markers:\n",
    "    marker_legend.append(\n",
    "        plt.plot([], [],\n",
    "        color=\"k\",\n",
    "        marker=markers[marker],\n",
    "        label = marker, markersize = 10, linestyle=\"None\")\n",
    "    )\n",
    "plt.legend(numpoints=1, loc = \"upper left\")\n",
    "\n",
    "plt.xlabel(\"Mean Word Length\")\n",
    "plt.ylabel(\"Number of Words\")\n",
    "plt.show()"
   ]
  },
  {
   "cell_type": "markdown",
   "metadata": {},
   "source": [
    "We see that the original English version of Hamlet contains fewer words overall, and its unique words are shorter than its translations. "
   ]
  },
  {
   "cell_type": "markdown",
   "metadata": {},
   "source": [
    "## Case study 3: Introduction to classification\n",
    "\n",
    "If the response/dependent variable (result) of a supervised learning method is quantitative (e.g. weight), then the problem is called a **regression** problem. OTOH, qualitative problems (e.g. boolean) are called **classification** problems.\n",
    "\n",
    "### K-nearest neighbour classifier (kNN)\n"
   ]
  },
  {
   "cell_type": "code",
   "execution_count": 24,
   "metadata": {},
   "outputs": [
    {
     "data": {
      "text/plain": [
       "4.2426406871192848"
      ]
     },
     "execution_count": 24,
     "metadata": {},
     "output_type": "execute_result"
    }
   ],
   "source": [
    "import numpy as np\n",
    "\n",
    "def distance(p1,p2):\n",
    "    \"\"\"\n",
    "    Find distance between points p1 and p2\n",
    "    \"\"\"\n",
    "    return np.sqrt(np.sum(np.power((p2-p1),2)))\n",
    "\n",
    "p1 = np.array([1,1])\n",
    "p2 = np.array([4,4])\n",
    "distance(p1,p2)"
   ]
  },
  {
   "cell_type": "code",
   "execution_count": 26,
   "metadata": {},
   "outputs": [
    {
     "data": {
      "text/plain": [
       "3"
      ]
     },
     "execution_count": 26,
     "metadata": {},
     "output_type": "execute_result"
    }
   ],
   "source": [
    "import random\n",
    "def majority_vote(votes):\n",
    "    \"\"\"\n",
    "    Return the most common element in votes\n",
    "    \"\"\"\n",
    "\n",
    "    vote_counts = {}\n",
    "    for vote in votes:\n",
    "        if vote in vote_counts:\n",
    "            vote_counts[vote] += 1\n",
    "        else:\n",
    "            vote_counts[vote] = 1\n",
    "    winners=[]\n",
    "    max_count = max(vote_counts.values())\n",
    "    for vote, count in vote_counts.items():\n",
    "        if count == max_count:\n",
    "            winners.append(vote)\n",
    "\n",
    "    return random.choice(winners)\n",
    "\n",
    "votes = [1,2,3,1,3,2,3,3,3]\n",
    "winner = majority_vote(votes)\n",
    "winner\n",
    "\n"
   ]
  },
  {
   "cell_type": "code",
   "execution_count": 10,
   "metadata": {},
   "outputs": [
    {
     "data": {
      "text/plain": [
       "array([ 3.])"
      ]
     },
     "execution_count": 10,
     "metadata": {},
     "output_type": "execute_result"
    }
   ],
   "source": [
    "import scipy.stats as ss\n",
    "\n",
    "def majority_vote_short(votes):\n",
    "    \"\"\"\n",
    "    Return the most common element in votes\n",
    "    \"\"\"\n",
    "\n",
    "    mode, count = ss.mstats.mode(votes)\n",
    "\n",
    "    return mode\n",
    "\n",
    "votes = [1,2,3,1,3,2,3,3,3]\n",
    "winner = majority_vote_short(votes)\n",
    "winner\n",
    "\n"
   ]
  },
  {
   "cell_type": "markdown",
   "metadata": {},
   "source": [
    "The majority_vote function is still preferred bcoz it gives an option to pick one random majority vote in case of >1 majority winners"
   ]
  },
  {
   "cell_type": "code",
   "execution_count": 44,
   "metadata": {},
   "outputs": [
    {
     "data": {
      "text/plain": [
       "4"
      ]
     },
     "execution_count": 44,
     "metadata": {},
     "output_type": "execute_result"
    }
   ],
   "source": [
    "import random\n",
    "random.choice([4])"
   ]
  },
  {
   "cell_type": "markdown",
   "metadata": {},
   "source": [
    "Given a set of point space, can we find the nearest K neighbours of a given point ?"
   ]
  },
  {
   "cell_type": "code",
   "execution_count": 19,
   "metadata": {},
   "outputs": [
    {
     "data": {
      "text/plain": [
       "[<matplotlib.lines.Line2D at 0x10fe14710>]"
      ]
     },
     "execution_count": 19,
     "metadata": {},
     "output_type": "execute_result"
    },
    {
     "data": {
      "text/plain": [
       "[<matplotlib.lines.Line2D at 0x10fbd30b8>]"
      ]
     },
     "execution_count": 19,
     "metadata": {},
     "output_type": "execute_result"
    },
    {
     "data": {
      "text/plain": [
       "[0.5, 4, 0.5, 4]"
      ]
     },
     "execution_count": 19,
     "metadata": {},
     "output_type": "execute_result"
    },
    {
     "data": {
      "image/png": "[encoded data removed]",
      "text/plain": [
       "<matplotlib.figure.Figure at 0x10fbd3cc0>"
      ]
     },
     "metadata": {},
     "output_type": "display_data"
    }
   ],
   "source": [
    "points = np.array([[1,1],[1,2],[1,3],[2,1],[2,2],[2,3],[3,1],[3,2],[3,3]]) # point space\n",
    "p = np.array([2.5, 2]) # point for which we want to find nearest neighbours\n",
    "plt.plot(points[:,0], points[:,1],\"bo\")\n",
    "plt.plot(p[0],p[1], \"ro\")\n",
    "plt.axis([0.5,4,0.5,4])"
   ]
  },
  {
   "cell_type": "code",
   "execution_count": 22,
   "metadata": {},
   "outputs": [
    {
     "ename": "NameError",
     "evalue": "name 'p' is not defined",
     "output_type": "error",
     "traceback": [
      "\u001b[0;31m---------------------------------------------------------------------------\u001b[0m",
      "\u001b[0;31mNameError\u001b[0m                                 Traceback (most recent call last)",
      "\u001b[0;32m<ipython-input-22-a17e65925bae>\u001b[0m in \u001b[0;36m<module>\u001b[0;34m()\u001b[0m\n\u001b[1;32m      5\u001b[0m \u001b[0;34m\u001b[0m\u001b[0m\n\u001b[1;32m      6\u001b[0m \u001b[0;32mfor\u001b[0m \u001b[0mi\u001b[0m \u001b[0;32min\u001b[0m \u001b[0mrange\u001b[0m\u001b[0;34m(\u001b[0m\u001b[0mlen\u001b[0m\u001b[0;34m(\u001b[0m\u001b[0mdistances\u001b[0m\u001b[0;34m)\u001b[0m\u001b[0;34m)\u001b[0m\u001b[0;34m:\u001b[0m\u001b[0;34m\u001b[0m\u001b[0m\n\u001b[0;32m----> 7\u001b[0;31m     \u001b[0mdistances\u001b[0m\u001b[0;34m[\u001b[0m\u001b[0mi\u001b[0m\u001b[0;34m]\u001b[0m \u001b[0;34m=\u001b[0m \u001b[0mdistance\u001b[0m\u001b[0;34m(\u001b[0m\u001b[0mp\u001b[0m\u001b[0;34m,\u001b[0m \u001b[0mpoints\u001b[0m\u001b[0;34m[\u001b[0m\u001b[0mi\u001b[0m\u001b[0;34m]\u001b[0m\u001b[0;34m)\u001b[0m\u001b[0;34m\u001b[0m\u001b[0m\n\u001b[0m\u001b[1;32m      8\u001b[0m \u001b[0;34m\u001b[0m\u001b[0m\n\u001b[1;32m      9\u001b[0m \u001b[0mdistances\u001b[0m\u001b[0;34m\u001b[0m\u001b[0m\n",
      "\u001b[0;31mNameError\u001b[0m: name 'p' is not defined"
     ]
    }
   ],
   "source": [
    "distances = np.zeros(points.shape[0]) # just get the first column of shape returned 2D array. This is a dummy empty list created to populate with actual distances below\n",
    "#test = np.zeros(points.shape)\n",
    "#distances\n",
    "#test\n",
    "\n",
    "for i in range(len(distances)):\n",
    "    distances[i] = distance(p, points[i])\n",
    "\n",
    "distances"
   ]
  },
  {
   "cell_type": "markdown",
   "metadata": {},
   "source": [
    "From the list of distances returned above, we need to sort them in ascending order to find those  (say 2) points that have the smallest distance. Thankfully, numpy has `argsort` for this"
   ]
  },
  {
   "cell_type": "code",
   "execution_count": 10,
   "metadata": {},
   "outputs": [],
   "source": [
    "def find_nearest_neighbours(p, points, k=5):\n",
    "    \"\"\" Find the k nearest neighbours of point p and return their indices\"\"\"\n",
    "    distances = np.zeros(points.shape[0])\n",
    "    for i in range(len(distances)):\n",
    "        distances[i] = distance(p, points[i])\n",
    "    ind = np.argsort(distances)\n",
    "    return ind[:k]\n",
    "\n",
    "def knn_predict(p, points, outcomes, k=5):\n",
    "    ind = find_nearest_neighbours(p, points, k)\n",
    "    return majority_vote(outcomes[ind])"
   ]
  },
  {
   "cell_type": "code",
   "execution_count": 31,
   "metadata": {},
   "outputs": [
    {
     "data": {
      "text/plain": [
       "1"
      ]
     },
     "execution_count": 31,
     "metadata": {},
     "output_type": "execute_result"
    },
    {
     "data": {
      "text/plain": [
       "0"
      ]
     },
     "execution_count": 31,
     "metadata": {},
     "output_type": "execute_result"
    }
   ],
   "source": [
    "outcomes = np.array([0,0,0,0,1,1,1,1,1]) # what group each of the 9 points belong to. So based on its distance our query point could then be classified as one group or other\n",
    "knn_predict(np.array([2.5,2.7]), points, outcomes, k=2)\n",
    "knn_predict(np.array([1.0,2.7]), points, outcomes, k=2)"
   ]
  },
  {
   "cell_type": "code",
   "execution_count": 34,
   "metadata": {},
   "outputs": [
    {
     "data": {
      "text/plain": [
       "array([ 0.,  0.,  0.,  0.,  0.,  0.,  0.,  0.,  0.])"
      ]
     },
     "execution_count": 34,
     "metadata": {},
     "output_type": "execute_result"
    },
    {
     "data": {
      "text/plain": [
       "array([[ 0.,  0.],\n",
       "       [ 0.,  0.],\n",
       "       [ 0.,  0.],\n",
       "       [ 0.,  0.],\n",
       "       [ 0.,  0.],\n",
       "       [ 0.,  0.],\n",
       "       [ 0.,  0.],\n",
       "       [ 0.,  0.],\n",
       "       [ 0.,  0.]])"
      ]
     },
     "execution_count": 34,
     "metadata": {},
     "output_type": "execute_result"
    }
   ],
   "source": [
    "(np.zeros(points.shape[0]))\n",
    "(np.zeros(points.shape))"
   ]
  },
  {
   "cell_type": "markdown",
   "metadata": {},
   "source": [
    "# Generating synthetic data\n",
    "\n",
    "Why ? You know exactly how the data were generated so you know what to expect when testing code.\n",
    "\n",
    "Lets generate synthetic bivariate data (i.e. computer generated data beloning to either of two variables - group/class 1 or 0)"
   ]
  },
  {
   "cell_type": "code",
   "execution_count": 5,
   "metadata": {},
   "outputs": [
    {
     "data": {
      "text/plain": [
       "array([[ 1.38898247,  0.71649133],\n",
       "       [ 0.90943954, -1.73736741],\n",
       "       [ 0.45005084, -0.48659579],\n",
       "       [-0.01018545, -0.76399927],\n",
       "       [ 0.6985411 , -0.98213853]])"
      ]
     },
     "execution_count": 5,
     "metadata": {},
     "output_type": "execute_result"
    },
    {
     "data": {
      "text/plain": [
       "array([[  2.10935874e+00,   8.33271494e-01],\n",
       "       [  3.15892107e+00,  -2.63167996e-05],\n",
       "       [  1.57041889e+00,   5.98982724e-01],\n",
       "       [  1.88377263e+00,   1.94455085e+00],\n",
       "       [  5.54368822e-01,   1.94463193e+00]])"
      ]
     },
     "execution_count": 5,
     "metadata": {},
     "output_type": "execute_result"
    }
   ],
   "source": [
    "from scipy import stats as ss\n",
    "import numpy as np\n",
    "# generate 5-rows and 2-cols data using scipy norm function for first class with mean 0 and std dev 1 (normal distribution)\n",
    "ss.norm(0,1).rvs((5,2))\n",
    "\n",
    "# same for the second class except with mean of 1 i.e. getting a different distribution\n",
    "ss.norm(1,1).rvs((5,2))"
   ]
  },
  {
   "cell_type": "markdown",
   "metadata": {},
   "source": [
    "Explanation of `ss.norm(0,1).rvs((5,2))` \n",
    "\n",
    "norm = normal distribution given mean and standard deviation (0 and 1, respectively, in the given example)\n",
    "\n",
    ".rvs = random variables given dimensions (5 rows and 2 columns, as you point out)\n",
    "\n",
    "So essentially, you are asking for a table of randomly selected numbers fitting the specified normal distribution. \n",
    "\n",
    "Concatanate the two arrays by rows (i.e. axis 0)"
   ]
  },
  {
   "cell_type": "code",
   "execution_count": 6,
   "metadata": {},
   "outputs": [
    {
     "data": {
      "text/plain": [
       "array([[ 1.00925517,  0.7098674 ],\n",
       "       [ 0.39054135,  0.42830665],\n",
       "       [ 0.47080923, -0.28051162],\n",
       "       [-0.20644765,  1.06153983],\n",
       "       [ 1.06775025,  0.1868666 ],\n",
       "       [ 0.01554987,  1.48634131],\n",
       "       [-0.80207791,  1.6264883 ],\n",
       "       [ 0.65738114,  1.09708334],\n",
       "       [ 2.40515962,  2.20491866],\n",
       "       [ 0.7053263 ,  1.91204237]])"
      ]
     },
     "execution_count": 6,
     "metadata": {},
     "output_type": "execute_result"
    }
   ],
   "source": [
    "np.concatenate((ss.norm(0,1).rvs((5,2)), ss.norm(1,1).rvs((5,2))), axis =0)"
   ]
  },
  {
   "cell_type": "markdown",
   "metadata": {},
   "source": [
    "Now lets convert above steps to a function."
   ]
  },
  {
   "cell_type": "code",
   "execution_count": 7,
   "metadata": {},
   "outputs": [],
   "source": [
    "def generate_synth_data(n=50):\n",
    "    \"\"\"Create two sets of points from bivariate normal distributions\"\"\"\n",
    "    points = np.concatenate((ss.norm(0,1).rvs((n,2)), ss.norm(1,1).rvs((n,2))), axis =0)\n",
    "    outcomes = np.concatenate((np.repeat(0,n), np.repeat(1,n)))\n",
    "    return(points,outcomes)"
   ]
  },
  {
   "cell_type": "code",
   "execution_count": 9,
   "metadata": {},
   "outputs": [
    {
     "data": {
      "text/plain": [
       "[<matplotlib.lines.Line2D at 0x1a0ef712e8>]"
      ]
     },
     "execution_count": 9,
     "metadata": {},
     "output_type": "execute_result"
    },
    {
     "data": {
      "text/plain": [
       "[<matplotlib.lines.Line2D at 0x1060ce198>]"
      ]
     },
     "execution_count": 9,
     "metadata": {},
     "output_type": "execute_result"
    },
    {
     "data": {
      "image/png": "[encoded data removed]",
      "text/plain": [
       "<matplotlib.figure.Figure at 0x1060ce128>"
      ]
     },
     "metadata": {},
     "output_type": "display_data"
    }
   ],
   "source": [
    "n = 20\n",
    "\n",
    "(points, outcomes)=generate_synth_data(n)\n",
    "plt.plot(points[:n,0], points[:n,1], \"ro\") # grp 1 points are the first n observations (i.e. rows) x-value in first col and y-value in second col\n",
    "plt.plot(points[n:, 0], points[n:,1], \"bo\")"
   ]
  },
  {
   "cell_type": "markdown",
   "metadata": {},
   "source": [
    "# Prediction Grid"
   ]
  },
  {
   "cell_type": "code",
   "execution_count": 17,
   "metadata": {},
   "outputs": [],
   "source": [
    "def make_prediction_grid(predictors,outcomes,limits, h, k):\n",
    "    \"\"\"Classify each pt on the prediction grid\"\"\"\n",
    "    (x_min, x_max, y_min, y_max) = limits\n",
    "    xs = np.arange(x_min, x_max, h) # h = stepsize\n",
    "    ys = np.arange(y_min, y_max, h)\n",
    "    xx,yy = np.meshgrid(xs, ys)\n",
    "    \n",
    "    prediction_grid = np.zeros(xx.shape, dtype= int)\n",
    "    for i,x in enumerate(xs):\n",
    "        for j,y in enumerate(ys):\n",
    "            p = np.array([x,y])\n",
    "            prediction_grid[j,i] = knn_predict(p, predictors, outcomes, k)\n",
    "            \n",
    "    return(xx, yy, prediction_grid)"
   ]
  },
  {
   "cell_type": "markdown",
   "metadata": {},
   "source": [
    "how does `enumerate` work ?"
   ]
  },
  {
   "cell_type": "code",
   "execution_count": 13,
   "metadata": {},
   "outputs": [
    {
     "data": {
      "text/plain": [
       "[(0, 'spring'), (1, 'summer'), (2, 'winter'), (3, 'fall')]"
      ]
     },
     "execution_count": 13,
     "metadata": {},
     "output_type": "execute_result"
    },
    {
     "name": "stdout",
     "output_type": "stream",
     "text": [
      "0 -- spring\n",
      "1 -- summer\n",
      "2 -- winter\n",
      "3 -- fall\n"
     ]
    }
   ],
   "source": [
    "season = [\"spring\",\"summer\",\"winter\",\"fall\"]\n",
    "list(enumerate(season))\n",
    "\n",
    "for idx,season in enumerate(season):\n",
    "    print(idx,\"--\",season)"
   ]
  },
  {
   "cell_type": "markdown",
   "metadata": {},
   "source": [
    "The value of `k` controls the smoothness of the fit (i.e. decision boundary), where the larger the value of k, the smoother the fit.\n",
    "\n",
    "**NOTE** : The script `plot_prediction_grid.py` is provided by the instructors"
   ]
  },
  {
   "cell_type": "code",
   "execution_count": 15,
   "metadata": {},
   "outputs": [
    {
     "data": {
      "text/plain": [
       "(100, 2)"
      ]
     },
     "execution_count": 15,
     "metadata": {},
     "output_type": "execute_result"
    },
    {
     "data": {
      "text/plain": [
       "(100,)"
      ]
     },
     "execution_count": 15,
     "metadata": {},
     "output_type": "execute_result"
    }
   ],
   "source": [
    "(predictors,outcomes) = generate_synth_data()\n",
    "predictors.shape\n",
    "outcomes.shape"
   ]
  },
  {
   "cell_type": "code",
   "execution_count": 31,
   "metadata": {},
   "outputs": [],
   "source": [
    "def plot_prediction_grid (xx, yy, prediction_grid, filename):\n",
    "    \"\"\" Plot KNN predictions for every point on the grid.\"\"\"\n",
    "    from matplotlib.colors import ListedColormap\n",
    "    background_colormap = ListedColormap ([\"hotpink\",\"lightskyblue\", \"yellowgreen\"])\n",
    "    observation_colormap = ListedColormap ([\"red\",\"blue\",\"green\"])\n",
    "    plt.figure(figsize =(10,10))\n",
    "    plt.pcolormesh(xx, yy, prediction_grid, cmap = background_colormap, alpha = 0.5)\n",
    "    plt.scatter(predictors[:,0], predictors [:,1], c = outcomes, cmap = observation_colormap, s = 50)\n",
    "    plt.xlabel('Variable 1'); plt.ylabel('Variable 2')\n",
    "    plt.xticks(()); plt.yticks(())\n",
    "    plt.xlim (np.min(xx), np.max(xx))\n",
    "    plt.ylim (np.min(yy), np.max(yy))\n",
    "    plt.savefig(filename)"
   ]
  },
  {
   "cell_type": "code",
   "execution_count": 32,
   "metadata": {},
   "outputs": [
    {
     "data": {
      "image/png": "[encoded data removed]",
      "text/plain": [
       "<matplotlib.figure.Figure at 0x1a0f0691d0>"
      ]
     },
     "metadata": {},
     "output_type": "display_data"
    }
   ],
   "source": [
    "k=5; filename=\"knn_synth_5.pdf\" ;limits= (-3,4,-3,4); h=0.1\n",
    "(xx,yy,prediction_grid) = make_prediction_grid(predictors, outcomes, limits, h ,k)\n",
    "plot_prediction_grid(xx,yy,prediction_grid,filename)\n",
    "# %run -i files/plot_prediction_grid.py --flag1 xx --flag2 yy --flag3 prediction_grid --flag4 filename"
   ]
  },
  {
   "cell_type": "code",
   "execution_count": 33,
   "metadata": {},
   "outputs": [
    {
     "data": {
      "image/png": "[encoded data removed]",
      "text/plain": [
       "<matplotlib.figure.Figure at 0x1060c1320>"
      ]
     },
     "metadata": {},
     "output_type": "display_data"
    }
   ],
   "source": [
    "k=50; filename=\"knn_synth_50.pdf\" ;limits= (-3,4,-3,4); h=0.1\n",
    "(xx,yy,prediction_grid) = make_prediction_grid(predictors, outcomes, limits, h ,k)\n",
    "plot_prediction_grid(xx,yy,prediction_grid,filename)\n",
    "# %run -i files/plot_prediction_grid.py --flag1 xx --flag2 yy --flag3 prediction_grid --flag4 filename"
   ]
  },
  {
   "cell_type": "markdown",
   "metadata": {},
   "source": [
    "As you can see in the images above, the decision boundary for k=50 is a lot smoother than that of k=5. Even so, it is not wise to go with an extremely large (or small) k value for your predictions (bias-variance tradeoff), because utltimately it really doesn't matter how well your method performs on the training set, what matters is its performance on the test dataset. Hence, intermediate values of k might actually be the best"
   ]
  },
  {
   "cell_type": "markdown",
   "metadata": {},
   "source": [
    "Lets now apply the KNN method using iris dataset (50 observations each of sepal length, sepal width, petal length, petal width from 3 different flowers (total 150 observations))"
   ]
  },
  {
   "cell_type": "code",
   "execution_count": 35,
   "metadata": {},
   "outputs": [],
   "source": [
    "from sklearn import datasets\n",
    "iris = datasets.load_iris()"
   ]
  },
  {
   "cell_type": "code",
   "execution_count": 36,
   "metadata": {},
   "outputs": [
    {
     "data": {
      "text/plain": [
       "array([[ 5.1,  3.5,  1.4,  0.2],\n",
       "       [ 4.9,  3. ,  1.4,  0.2],\n",
       "       [ 4.7,  3.2,  1.3,  0.2],\n",
       "       [ 4.6,  3.1,  1.5,  0.2],\n",
       "       [ 5. ,  3.6,  1.4,  0.2],\n",
       "       [ 5.4,  3.9,  1.7,  0.4],\n",
       "       [ 4.6,  3.4,  1.4,  0.3],\n",
       "       [ 5. ,  3.4,  1.5,  0.2],\n",
       "       [ 4.4,  2.9,  1.4,  0.2],\n",
       "       [ 4.9,  3.1,  1.5,  0.1],\n",
       "       [ 5.4,  3.7,  1.5,  0.2],\n",
       "       [ 4.8,  3.4,  1.6,  0.2],\n",
       "       [ 4.8,  3. ,  1.4,  0.1],\n",
       "       [ 4.3,  3. ,  1.1,  0.1],\n",
       "       [ 5.8,  4. ,  1.2,  0.2],\n",
       "       [ 5.7,  4.4,  1.5,  0.4],\n",
       "       [ 5.4,  3.9,  1.3,  0.4],\n",
       "       [ 5.1,  3.5,  1.4,  0.3],\n",
       "       [ 5.7,  3.8,  1.7,  0.3],\n",
       "       [ 5.1,  3.8,  1.5,  0.3],\n",
       "       [ 5.4,  3.4,  1.7,  0.2],\n",
       "       [ 5.1,  3.7,  1.5,  0.4],\n",
       "       [ 4.6,  3.6,  1. ,  0.2],\n",
       "       [ 5.1,  3.3,  1.7,  0.5],\n",
       "       [ 4.8,  3.4,  1.9,  0.2],\n",
       "       [ 5. ,  3. ,  1.6,  0.2],\n",
       "       [ 5. ,  3.4,  1.6,  0.4],\n",
       "       [ 5.2,  3.5,  1.5,  0.2],\n",
       "       [ 5.2,  3.4,  1.4,  0.2],\n",
       "       [ 4.7,  3.2,  1.6,  0.2],\n",
       "       [ 4.8,  3.1,  1.6,  0.2],\n",
       "       [ 5.4,  3.4,  1.5,  0.4],\n",
       "       [ 5.2,  4.1,  1.5,  0.1],\n",
       "       [ 5.5,  4.2,  1.4,  0.2],\n",
       "       [ 4.9,  3.1,  1.5,  0.1],\n",
       "       [ 5. ,  3.2,  1.2,  0.2],\n",
       "       [ 5.5,  3.5,  1.3,  0.2],\n",
       "       [ 4.9,  3.1,  1.5,  0.1],\n",
       "       [ 4.4,  3. ,  1.3,  0.2],\n",
       "       [ 5.1,  3.4,  1.5,  0.2],\n",
       "       [ 5. ,  3.5,  1.3,  0.3],\n",
       "       [ 4.5,  2.3,  1.3,  0.3],\n",
       "       [ 4.4,  3.2,  1.3,  0.2],\n",
       "       [ 5. ,  3.5,  1.6,  0.6],\n",
       "       [ 5.1,  3.8,  1.9,  0.4],\n",
       "       [ 4.8,  3. ,  1.4,  0.3],\n",
       "       [ 5.1,  3.8,  1.6,  0.2],\n",
       "       [ 4.6,  3.2,  1.4,  0.2],\n",
       "       [ 5.3,  3.7,  1.5,  0.2],\n",
       "       [ 5. ,  3.3,  1.4,  0.2],\n",
       "       [ 7. ,  3.2,  4.7,  1.4],\n",
       "       [ 6.4,  3.2,  4.5,  1.5],\n",
       "       [ 6.9,  3.1,  4.9,  1.5],\n",
       "       [ 5.5,  2.3,  4. ,  1.3],\n",
       "       [ 6.5,  2.8,  4.6,  1.5],\n",
       "       [ 5.7,  2.8,  4.5,  1.3],\n",
       "       [ 6.3,  3.3,  4.7,  1.6],\n",
       "       [ 4.9,  2.4,  3.3,  1. ],\n",
       "       [ 6.6,  2.9,  4.6,  1.3],\n",
       "       [ 5.2,  2.7,  3.9,  1.4],\n",
       "       [ 5. ,  2. ,  3.5,  1. ],\n",
       "       [ 5.9,  3. ,  4.2,  1.5],\n",
       "       [ 6. ,  2.2,  4. ,  1. ],\n",
       "       [ 6.1,  2.9,  4.7,  1.4],\n",
       "       [ 5.6,  2.9,  3.6,  1.3],\n",
       "       [ 6.7,  3.1,  4.4,  1.4],\n",
       "       [ 5.6,  3. ,  4.5,  1.5],\n",
       "       [ 5.8,  2.7,  4.1,  1. ],\n",
       "       [ 6.2,  2.2,  4.5,  1.5],\n",
       "       [ 5.6,  2.5,  3.9,  1.1],\n",
       "       [ 5.9,  3.2,  4.8,  1.8],\n",
       "       [ 6.1,  2.8,  4. ,  1.3],\n",
       "       [ 6.3,  2.5,  4.9,  1.5],\n",
       "       [ 6.1,  2.8,  4.7,  1.2],\n",
       "       [ 6.4,  2.9,  4.3,  1.3],\n",
       "       [ 6.6,  3. ,  4.4,  1.4],\n",
       "       [ 6.8,  2.8,  4.8,  1.4],\n",
       "       [ 6.7,  3. ,  5. ,  1.7],\n",
       "       [ 6. ,  2.9,  4.5,  1.5],\n",
       "       [ 5.7,  2.6,  3.5,  1. ],\n",
       "       [ 5.5,  2.4,  3.8,  1.1],\n",
       "       [ 5.5,  2.4,  3.7,  1. ],\n",
       "       [ 5.8,  2.7,  3.9,  1.2],\n",
       "       [ 6. ,  2.7,  5.1,  1.6],\n",
       "       [ 5.4,  3. ,  4.5,  1.5],\n",
       "       [ 6. ,  3.4,  4.5,  1.6],\n",
       "       [ 6.7,  3.1,  4.7,  1.5],\n",
       "       [ 6.3,  2.3,  4.4,  1.3],\n",
       "       [ 5.6,  3. ,  4.1,  1.3],\n",
       "       [ 5.5,  2.5,  4. ,  1.3],\n",
       "       [ 5.5,  2.6,  4.4,  1.2],\n",
       "       [ 6.1,  3. ,  4.6,  1.4],\n",
       "       [ 5.8,  2.6,  4. ,  1.2],\n",
       "       [ 5. ,  2.3,  3.3,  1. ],\n",
       "       [ 5.6,  2.7,  4.2,  1.3],\n",
       "       [ 5.7,  3. ,  4.2,  1.2],\n",
       "       [ 5.7,  2.9,  4.2,  1.3],\n",
       "       [ 6.2,  2.9,  4.3,  1.3],\n",
       "       [ 5.1,  2.5,  3. ,  1.1],\n",
       "       [ 5.7,  2.8,  4.1,  1.3],\n",
       "       [ 6.3,  3.3,  6. ,  2.5],\n",
       "       [ 5.8,  2.7,  5.1,  1.9],\n",
       "       [ 7.1,  3. ,  5.9,  2.1],\n",
       "       [ 6.3,  2.9,  5.6,  1.8],\n",
       "       [ 6.5,  3. ,  5.8,  2.2],\n",
       "       [ 7.6,  3. ,  6.6,  2.1],\n",
       "       [ 4.9,  2.5,  4.5,  1.7],\n",
       "       [ 7.3,  2.9,  6.3,  1.8],\n",
       "       [ 6.7,  2.5,  5.8,  1.8],\n",
       "       [ 7.2,  3.6,  6.1,  2.5],\n",
       "       [ 6.5,  3.2,  5.1,  2. ],\n",
       "       [ 6.4,  2.7,  5.3,  1.9],\n",
       "       [ 6.8,  3. ,  5.5,  2.1],\n",
       "       [ 5.7,  2.5,  5. ,  2. ],\n",
       "       [ 5.8,  2.8,  5.1,  2.4],\n",
       "       [ 6.4,  3.2,  5.3,  2.3],\n",
       "       [ 6.5,  3. ,  5.5,  1.8],\n",
       "       [ 7.7,  3.8,  6.7,  2.2],\n",
       "       [ 7.7,  2.6,  6.9,  2.3],\n",
       "       [ 6. ,  2.2,  5. ,  1.5],\n",
       "       [ 6.9,  3.2,  5.7,  2.3],\n",
       "       [ 5.6,  2.8,  4.9,  2. ],\n",
       "       [ 7.7,  2.8,  6.7,  2. ],\n",
       "       [ 6.3,  2.7,  4.9,  1.8],\n",
       "       [ 6.7,  3.3,  5.7,  2.1],\n",
       "       [ 7.2,  3.2,  6. ,  1.8],\n",
       "       [ 6.2,  2.8,  4.8,  1.8],\n",
       "       [ 6.1,  3. ,  4.9,  1.8],\n",
       "       [ 6.4,  2.8,  5.6,  2.1],\n",
       "       [ 7.2,  3. ,  5.8,  1.6],\n",
       "       [ 7.4,  2.8,  6.1,  1.9],\n",
       "       [ 7.9,  3.8,  6.4,  2. ],\n",
       "       [ 6.4,  2.8,  5.6,  2.2],\n",
       "       [ 6.3,  2.8,  5.1,  1.5],\n",
       "       [ 6.1,  2.6,  5.6,  1.4],\n",
       "       [ 7.7,  3. ,  6.1,  2.3],\n",
       "       [ 6.3,  3.4,  5.6,  2.4],\n",
       "       [ 6.4,  3.1,  5.5,  1.8],\n",
       "       [ 6. ,  3. ,  4.8,  1.8],\n",
       "       [ 6.9,  3.1,  5.4,  2.1],\n",
       "       [ 6.7,  3.1,  5.6,  2.4],\n",
       "       [ 6.9,  3.1,  5.1,  2.3],\n",
       "       [ 5.8,  2.7,  5.1,  1.9],\n",
       "       [ 6.8,  3.2,  5.9,  2.3],\n",
       "       [ 6.7,  3.3,  5.7,  2.5],\n",
       "       [ 6.7,  3. ,  5.2,  2.3],\n",
       "       [ 6.3,  2.5,  5. ,  1.9],\n",
       "       [ 6.5,  3. ,  5.2,  2. ],\n",
       "       [ 6.2,  3.4,  5.4,  2.3],\n",
       "       [ 5.9,  3. ,  5.1,  1.8]])"
      ]
     },
     "execution_count": 36,
     "metadata": {},
     "output_type": "execute_result"
    }
   ],
   "source": [
    "iris[\"data\"] # lets take a peek at the data"
   ]
  },
  {
   "cell_type": "code",
   "execution_count": 37,
   "metadata": {},
   "outputs": [
    {
     "data": {
      "text/plain": [
       "[<matplotlib.lines.Line2D at 0x1a0f41c828>]"
      ]
     },
     "execution_count": 37,
     "metadata": {},
     "output_type": "execute_result"
    },
    {
     "data": {
      "text/plain": [
       "[<matplotlib.lines.Line2D at 0x1a0f462780>]"
      ]
     },
     "execution_count": 37,
     "metadata": {},
     "output_type": "execute_result"
    },
    {
     "data": {
      "text/plain": [
       "[<matplotlib.lines.Line2D at 0x1a0f41cdd8>]"
      ]
     },
     "execution_count": 37,
     "metadata": {},
     "output_type": "execute_result"
    },
    {
     "data": {
      "image/png": "[encoded data removed]",
      "text/plain": [
       "<matplotlib.figure.Figure at 0x1a0f4627b8>"
      ]
     },
     "metadata": {},
     "output_type": "display_data"
    }
   ],
   "source": [
    "predictors = iris.data[:,0:2] # lets take a subset of just the covariates or predictors (sepal lenght and width)\n",
    "outcomes = iris.target\n",
    "plt.plot(predictors[outcomes == 0][:,0],predictors[outcomes == 0][:,1],\"ro\")\n",
    "plt.plot(predictors[outcomes == 1][:,0],predictors[outcomes == 1][:,1],\"go\")\n",
    "plt.plot(predictors[outcomes == 2][:,0],predictors[outcomes == 2][:,1],\"bo\")"
   ]
  },
  {
   "cell_type": "code",
   "execution_count": 38,
   "metadata": {},
   "outputs": [
    {
     "data": {
      "image/png": "[encoded data removed]",
      "text/plain": [
       "<matplotlib.figure.Figure at 0x1a0f43f4e0>"
      ]
     },
     "metadata": {},
     "output_type": "display_data"
    }
   ],
   "source": [
    "k=5; filename=\"iris_grid.pdf\" ;limits= (4,8,1.5,4.5); h=0.1\n",
    "(xx,yy,prediction_grid) = make_prediction_grid(predictors, outcomes, limits, h ,k)\n",
    "plot_prediction_grid(xx,yy,prediction_grid,filename)\n",
    "# %run -i files/plot_prediction_grid.py --flag1 xx --flag2 yy --flag3 prediction_grid --flag4 filename"
   ]
  },
  {
   "cell_type": "markdown",
   "metadata": {},
   "source": [
    "Running predictions using scikit-learn as well as our own made function"
   ]
  },
  {
   "cell_type": "code",
   "execution_count": 42,
   "metadata": {},
   "outputs": [
    {
     "data": {
      "text/plain": [
       "KNeighborsClassifier(algorithm='auto', leaf_size=30, metric='minkowski',\n",
       "           metric_params=None, n_jobs=1, n_neighbors=5, p=2,\n",
       "           weights='uniform')"
      ]
     },
     "execution_count": 42,
     "metadata": {},
     "output_type": "execute_result"
    }
   ],
   "source": [
    "from sklearn.neighbors import KNeighborsClassifier\n",
    "knn = KNeighborsClassifier(n_neighbors = 5)\n",
    "knn.fit(predictors,outcomes)\n",
    "sk_predictions = knn.predict(predictors)"
   ]
  },
  {
   "cell_type": "code",
   "execution_count": 44,
   "metadata": {},
   "outputs": [
    {
     "data": {
      "text/plain": [
       "(150,)"
      ]
     },
     "execution_count": 44,
     "metadata": {},
     "output_type": "execute_result"
    },
    {
     "data": {
      "text/plain": [
       "array([0, 0, 0, 0, 0, 0, 0, 0, 0, 0])"
      ]
     },
     "execution_count": 44,
     "metadata": {},
     "output_type": "execute_result"
    }
   ],
   "source": [
    "sk_predictions.shape\n",
    "sk_predictions[0:10]"
   ]
  },
  {
   "cell_type": "code",
   "execution_count": 46,
   "metadata": {},
   "outputs": [
    {
     "data": {
      "text/plain": [
       "(150,)"
      ]
     },
     "execution_count": 46,
     "metadata": {},
     "output_type": "execute_result"
    }
   ],
   "source": [
    "# our function\n",
    "my_predictions = np.array([knn_predict(p, predictors, outcomes,5) for p in predictors])\n",
    "my_predictions.shape"
   ]
  },
  {
   "cell_type": "markdown",
   "metadata": {},
   "source": [
    "Lets compare the predictions we got from scikit-learn with our function"
   ]
  },
  {
   "cell_type": "code",
   "execution_count": 47,
   "metadata": {},
   "outputs": [
    {
     "data": {
      "text/plain": [
       "array([ True,  True,  True,  True,  True,  True,  True,  True,  True,\n",
       "        True,  True,  True,  True,  True,  True,  True,  True,  True,\n",
       "        True,  True,  True,  True,  True,  True,  True,  True,  True,\n",
       "        True,  True,  True,  True,  True,  True,  True,  True,  True,\n",
       "        True,  True,  True,  True,  True,  True,  True,  True,  True,\n",
       "        True,  True,  True,  True,  True,  True,  True,  True,  True,\n",
       "        True,  True,  True,  True,  True,  True,  True, False,  True,\n",
       "        True,  True,  True,  True,  True,  True,  True,  True,  True,\n",
       "        True,  True,  True,  True,  True, False,  True,  True,  True,\n",
       "        True,  True,  True,  True, False,  True,  True,  True,  True,\n",
       "        True,  True,  True,  True,  True,  True,  True,  True,  True,\n",
       "        True,  True,  True,  True,  True,  True,  True,  True,  True,\n",
       "       False,  True,  True,  True,  True,  True,  True,  True,  True,\n",
       "        True,  True,  True,  True,  True,  True,  True,  True,  True,\n",
       "        True,  True,  True,  True,  True,  True,  True,  True,  True,\n",
       "        True,  True,  True,  True,  True,  True,  True,  True,  True,\n",
       "        True, False,  True,  True,  True, False], dtype=bool)"
      ]
     },
     "execution_count": 47,
     "metadata": {},
     "output_type": "execute_result"
    }
   ],
   "source": [
    "sk_predictions == my_predictions"
   ]
  },
  {
   "cell_type": "code",
   "execution_count": 49,
   "metadata": {},
   "outputs": [
    {
     "data": {
      "text/plain": [
       "96.0"
      ]
     },
     "execution_count": 49,
     "metadata": {},
     "output_type": "execute_result"
    }
   ],
   "source": [
    "(np.mean(sk_predictions == my_predictions))*100 # true will be evaluated as 1, False as 0"
   ]
  },
  {
   "cell_type": "markdown",
   "metadata": {},
   "source": [
    "So our predictions agree 96% of the time !\n",
    "We can also ask how frequently do my predictions and SciKit predictions agree with the actual observed outcomes."
   ]
  },
  {
   "cell_type": "code",
   "execution_count": 50,
   "metadata": {},
   "outputs": [
    {
     "data": {
      "text/plain": [
       "83.333333333333343"
      ]
     },
     "execution_count": 50,
     "metadata": {},
     "output_type": "execute_result"
    },
    {
     "data": {
      "text/plain": [
       "84.666666666666671"
      ]
     },
     "execution_count": 50,
     "metadata": {},
     "output_type": "execute_result"
    }
   ],
   "source": [
    "(np.mean(sk_predictions == outcomes))*100 \n",
    "(np.mean(my_predictions == outcomes))*100 "
   ]
  },
  {
   "cell_type": "markdown",
   "metadata": {},
   "source": [
    "# HW\n",
    "\n",
    "## Exercise 1\n",
    "\n",
    "In this case study, we will analyze a dataset consisting of an assortment of wines classified as \"high quality\" and \"low quality\" and will use the k-Nearest Neighbors classifier to determine whether or not other information about the wine helps us correctly predict whether a new wine will be of high quality.\n",
    "\n",
    "Our first step is to import the dataset.\n",
    "\n",
    "Read in the data as a pandas dataframe using `pd.read_csv`. The data can be found at https://s3.amazonaws.com/demo-datasets/wine.csv."
   ]
  },
  {
   "cell_type": "code",
   "execution_count": 51,
   "metadata": {},
   "outputs": [],
   "source": [
    "import pandas as pd\n",
    "#data = pd.read_csv('/Users/nsarode/Documents/python/edx_PH526x/files/wine.csv')\n",
    "import io\n",
    "import requests\n",
    "url=\"https://s3.amazonaws.com/demo-datasets/wine.csv\"\n",
    "s=requests.get(url).content\n",
    "data=pd.read_csv(io.StringIO(s.decode('utf-8')))"
   ]
  },
  {
   "cell_type": "markdown",
   "metadata": {},
   "source": [
    "##Exercise 2\n",
    "\n",
    "In this case study, we will analyze a dataset consisting of an assortment of wines classified as \"high quality\" and \"low quality\" and will use the k-Nearest Neighbors classifier to determine whether or not other information about the wine helps us correctly predict whether a new wine will be of high quality.\n",
    "\n",
    "Next, we will inspect the dataset and perform some mild data cleaning.\n",
    "\n",
    "\n",
    "-  Print the first 5 rows of data using the `head()` method.\n",
    "-  The dataset remains stored as data. Two columns in data are `is_red` and `color`, which are redundant. Drop `color` from the dataset, and save the new dataset as `numeric_data`.\n"
   ]
  },
  {
   "cell_type": "code",
   "execution_count": 52,
   "metadata": {},
   "outputs": [
    {
     "data": {
      "text/html": [
       "<div>\n",
       "<style>\n",
       "    .dataframe thead tr:only-child th {\n",
       "        text-align: right;\n",
       "    }\n",
       "\n",
       "    .dataframe thead th {\n",
       "        text-align: left;\n",
       "    }\n",
       "\n",
       "    .dataframe tbody tr th {\n",
       "        vertical-align: top;\n",
       "    }\n",
       "</style>\n",
       "<table border=\"1\" class=\"dataframe\">\n",
       "  <thead>\n",
       "    <tr style=\"text-align: right;\">\n",
       "      <th></th>\n",
       "      <th>fixed_acidity</th>\n",
       "      <th>volatile_acidity</th>\n",
       "      <th>citric_acid</th>\n",
       "      <th>residual_sugar</th>\n",
       "      <th>chlorides</th>\n",
       "      <th>free_sulfur_dioxide</th>\n",
       "      <th>total_sulfur_dioxide</th>\n",
       "      <th>density</th>\n",
       "      <th>pH</th>\n",
       "      <th>sulphates</th>\n",
       "      <th>alcohol</th>\n",
       "      <th>quality</th>\n",
       "      <th>color</th>\n",
       "      <th>is_red</th>\n",
       "      <th>high_quality</th>\n",
       "    </tr>\n",
       "  </thead>\n",
       "  <tbody>\n",
       "    <tr>\n",
       "      <th>0</th>\n",
       "      <td>7.4</td>\n",
       "      <td>0.70</td>\n",
       "      <td>0.00</td>\n",
       "      <td>1.9</td>\n",
       "      <td>0.076</td>\n",
       "      <td>11.0</td>\n",
       "      <td>34.0</td>\n",
       "      <td>0.9978</td>\n",
       "      <td>3.51</td>\n",
       "      <td>0.56</td>\n",
       "      <td>9.4</td>\n",
       "      <td>5</td>\n",
       "      <td>red</td>\n",
       "      <td>1.0</td>\n",
       "      <td>0.0</td>\n",
       "    </tr>\n",
       "    <tr>\n",
       "      <th>1</th>\n",
       "      <td>7.8</td>\n",
       "      <td>0.88</td>\n",
       "      <td>0.00</td>\n",
       "      <td>2.6</td>\n",
       "      <td>0.098</td>\n",
       "      <td>25.0</td>\n",
       "      <td>67.0</td>\n",
       "      <td>0.9968</td>\n",
       "      <td>3.20</td>\n",
       "      <td>0.68</td>\n",
       "      <td>9.8</td>\n",
       "      <td>5</td>\n",
       "      <td>red</td>\n",
       "      <td>1.0</td>\n",
       "      <td>0.0</td>\n",
       "    </tr>\n",
       "    <tr>\n",
       "      <th>2</th>\n",
       "      <td>7.8</td>\n",
       "      <td>0.76</td>\n",
       "      <td>0.04</td>\n",
       "      <td>2.3</td>\n",
       "      <td>0.092</td>\n",
       "      <td>15.0</td>\n",
       "      <td>54.0</td>\n",
       "      <td>0.9970</td>\n",
       "      <td>3.26</td>\n",
       "      <td>0.65</td>\n",
       "      <td>9.8</td>\n",
       "      <td>5</td>\n",
       "      <td>red</td>\n",
       "      <td>1.0</td>\n",
       "      <td>0.0</td>\n",
       "    </tr>\n",
       "    <tr>\n",
       "      <th>3</th>\n",
       "      <td>11.2</td>\n",
       "      <td>0.28</td>\n",
       "      <td>0.56</td>\n",
       "      <td>1.9</td>\n",
       "      <td>0.075</td>\n",
       "      <td>17.0</td>\n",
       "      <td>60.0</td>\n",
       "      <td>0.9980</td>\n",
       "      <td>3.16</td>\n",
       "      <td>0.58</td>\n",
       "      <td>9.8</td>\n",
       "      <td>6</td>\n",
       "      <td>red</td>\n",
       "      <td>1.0</td>\n",
       "      <td>0.0</td>\n",
       "    </tr>\n",
       "    <tr>\n",
       "      <th>4</th>\n",
       "      <td>7.4</td>\n",
       "      <td>0.70</td>\n",
       "      <td>0.00</td>\n",
       "      <td>1.9</td>\n",
       "      <td>0.076</td>\n",
       "      <td>11.0</td>\n",
       "      <td>34.0</td>\n",
       "      <td>0.9978</td>\n",
       "      <td>3.51</td>\n",
       "      <td>0.56</td>\n",
       "      <td>9.4</td>\n",
       "      <td>5</td>\n",
       "      <td>red</td>\n",
       "      <td>1.0</td>\n",
       "      <td>0.0</td>\n",
       "    </tr>\n",
       "  </tbody>\n",
       "</table>\n",
       "</div>"
      ],
      "text/plain": [
       "   fixed_acidity  volatile_acidity  citric_acid  residual_sugar  chlorides  \\\n",
       "0            7.4              0.70         0.00             1.9      0.076   \n",
       "1            7.8              0.88         0.00             2.6      0.098   \n",
       "2            7.8              0.76         0.04             2.3      0.092   \n",
       "3           11.2              0.28         0.56             1.9      0.075   \n",
       "4            7.4              0.70         0.00             1.9      0.076   \n",
       "\n",
       "   free_sulfur_dioxide  total_sulfur_dioxide  density    pH  sulphates  \\\n",
       "0                 11.0                  34.0   0.9978  3.51       0.56   \n",
       "1                 25.0                  67.0   0.9968  3.20       0.68   \n",
       "2                 15.0                  54.0   0.9970  3.26       0.65   \n",
       "3                 17.0                  60.0   0.9980  3.16       0.58   \n",
       "4                 11.0                  34.0   0.9978  3.51       0.56   \n",
       "\n",
       "   alcohol  quality color  is_red  high_quality  \n",
       "0      9.4        5   red     1.0           0.0  \n",
       "1      9.8        5   red     1.0           0.0  \n",
       "2      9.8        5   red     1.0           0.0  \n",
       "3      9.8        6   red     1.0           0.0  \n",
       "4      9.4        5   red     1.0           0.0  "
      ]
     },
     "execution_count": 52,
     "metadata": {},
     "output_type": "execute_result"
    },
    {
     "data": {
      "text/html": [
       "<div>\n",
       "<style>\n",
       "    .dataframe thead tr:only-child th {\n",
       "        text-align: right;\n",
       "    }\n",
       "\n",
       "    .dataframe thead th {\n",
       "        text-align: left;\n",
       "    }\n",
       "\n",
       "    .dataframe tbody tr th {\n",
       "        vertical-align: top;\n",
       "    }\n",
       "</style>\n",
       "<table border=\"1\" class=\"dataframe\">\n",
       "  <thead>\n",
       "    <tr style=\"text-align: right;\">\n",
       "      <th></th>\n",
       "      <th>fixed_acidity</th>\n",
       "      <th>volatile_acidity</th>\n",
       "      <th>citric_acid</th>\n",
       "      <th>residual_sugar</th>\n",
       "      <th>chlorides</th>\n",
       "      <th>free_sulfur_dioxide</th>\n",
       "      <th>total_sulfur_dioxide</th>\n",
       "      <th>density</th>\n",
       "      <th>pH</th>\n",
       "      <th>sulphates</th>\n",
       "      <th>alcohol</th>\n",
       "      <th>quality</th>\n",
       "      <th>is_red</th>\n",
       "      <th>high_quality</th>\n",
       "    </tr>\n",
       "  </thead>\n",
       "  <tbody>\n",
       "    <tr>\n",
       "      <th>0</th>\n",
       "      <td>7.4</td>\n",
       "      <td>0.70</td>\n",
       "      <td>0.00</td>\n",
       "      <td>1.9</td>\n",
       "      <td>0.076</td>\n",
       "      <td>11.0</td>\n",
       "      <td>34.0</td>\n",
       "      <td>0.9978</td>\n",
       "      <td>3.51</td>\n",
       "      <td>0.56</td>\n",
       "      <td>9.4</td>\n",
       "      <td>5</td>\n",
       "      <td>1.0</td>\n",
       "      <td>0.0</td>\n",
       "    </tr>\n",
       "    <tr>\n",
       "      <th>1</th>\n",
       "      <td>7.8</td>\n",
       "      <td>0.88</td>\n",
       "      <td>0.00</td>\n",
       "      <td>2.6</td>\n",
       "      <td>0.098</td>\n",
       "      <td>25.0</td>\n",
       "      <td>67.0</td>\n",
       "      <td>0.9968</td>\n",
       "      <td>3.20</td>\n",
       "      <td>0.68</td>\n",
       "      <td>9.8</td>\n",
       "      <td>5</td>\n",
       "      <td>1.0</td>\n",
       "      <td>0.0</td>\n",
       "    </tr>\n",
       "    <tr>\n",
       "      <th>2</th>\n",
       "      <td>7.8</td>\n",
       "      <td>0.76</td>\n",
       "      <td>0.04</td>\n",
       "      <td>2.3</td>\n",
       "      <td>0.092</td>\n",
       "      <td>15.0</td>\n",
       "      <td>54.0</td>\n",
       "      <td>0.9970</td>\n",
       "      <td>3.26</td>\n",
       "      <td>0.65</td>\n",
       "      <td>9.8</td>\n",
       "      <td>5</td>\n",
       "      <td>1.0</td>\n",
       "      <td>0.0</td>\n",
       "    </tr>\n",
       "    <tr>\n",
       "      <th>3</th>\n",
       "      <td>11.2</td>\n",
       "      <td>0.28</td>\n",
       "      <td>0.56</td>\n",
       "      <td>1.9</td>\n",
       "      <td>0.075</td>\n",
       "      <td>17.0</td>\n",
       "      <td>60.0</td>\n",
       "      <td>0.9980</td>\n",
       "      <td>3.16</td>\n",
       "      <td>0.58</td>\n",
       "      <td>9.8</td>\n",
       "      <td>6</td>\n",
       "      <td>1.0</td>\n",
       "      <td>0.0</td>\n",
       "    </tr>\n",
       "    <tr>\n",
       "      <th>4</th>\n",
       "      <td>7.4</td>\n",
       "      <td>0.70</td>\n",
       "      <td>0.00</td>\n",
       "      <td>1.9</td>\n",
       "      <td>0.076</td>\n",
       "      <td>11.0</td>\n",
       "      <td>34.0</td>\n",
       "      <td>0.9978</td>\n",
       "      <td>3.51</td>\n",
       "      <td>0.56</td>\n",
       "      <td>9.4</td>\n",
       "      <td>5</td>\n",
       "      <td>1.0</td>\n",
       "      <td>0.0</td>\n",
       "    </tr>\n",
       "  </tbody>\n",
       "</table>\n",
       "</div>"
      ],
      "text/plain": [
       "   fixed_acidity  volatile_acidity  citric_acid  residual_sugar  chlorides  \\\n",
       "0            7.4              0.70         0.00             1.9      0.076   \n",
       "1            7.8              0.88         0.00             2.6      0.098   \n",
       "2            7.8              0.76         0.04             2.3      0.092   \n",
       "3           11.2              0.28         0.56             1.9      0.075   \n",
       "4            7.4              0.70         0.00             1.9      0.076   \n",
       "\n",
       "   free_sulfur_dioxide  total_sulfur_dioxide  density    pH  sulphates  \\\n",
       "0                 11.0                  34.0   0.9978  3.51       0.56   \n",
       "1                 25.0                  67.0   0.9968  3.20       0.68   \n",
       "2                 15.0                  54.0   0.9970  3.26       0.65   \n",
       "3                 17.0                  60.0   0.9980  3.16       0.58   \n",
       "4                 11.0                  34.0   0.9978  3.51       0.56   \n",
       "\n",
       "   alcohol  quality  is_red  high_quality  \n",
       "0      9.4        5     1.0           0.0  \n",
       "1      9.8        5     1.0           0.0  \n",
       "2      9.8        5     1.0           0.0  \n",
       "3      9.8        6     1.0           0.0  \n",
       "4      9.4        5     1.0           0.0  "
      ]
     },
     "execution_count": 52,
     "metadata": {},
     "output_type": "execute_result"
    }
   ],
   "source": [
    "data.head(n=5)\n",
    "numeric_data = data.drop(['color'], axis = 1)\n",
    "numeric_data.head()"
   ]
  },
  {
   "cell_type": "markdown",
   "metadata": {},
   "source": [
    "We want to ensure that each variable contributes equally to the kNN classifier, so we will need to scale the data by subtracting the mean of each column and dividing each column by its standard deviation. Then, we will use principal components to take a linear snapshot of the data from several different angles, with each snapshot ordered by how well it aligns with variation in the data. In this exercise, we will scale the numeric data and extract the first two principal components.\n",
    "\n",
    "-  Scale the data using the `sklearn.preprocessing` function `scale()` on `numeric_data`.\n",
    "-  Convert this to a pandas dataframe, and store as `numeric_data`.\n",
    "    -  Include the numeric variable names using the parameter `columns = numeric_data.columns`.\n",
    "-  Use the `sklearn.decomposition` module `PCA()`, and store this as `pca`.\n",
    "-  Use the `fit_transform()` function to extract the first two principal components from the data, and store this as `principal_components`"
   ]
  },
  {
   "cell_type": "code",
   "execution_count": null,
   "metadata": {},
   "outputs": [],
   "source": [
    "from sklearn import preprocessing\n",
    "#from sklearn.preprocessing import StandardScaler\n",
    "scaled_data = preprocessing.scale(numeric_data)\n",
    "\n",
    "#scaled_data = StandardScaler().fit_transform(numeric_data)\n",
    "numeric_data = pd.DataFrame(scaled_data, columns=numeric_data.columns)\n",
    "\n",
    "#from sklearn import decomposition\n",
    "from sklearn.decomposition import PCA\n",
    "#pca = PCA(n_components=2)\n",
    "pca = PCA()\n",
    "#pca.fit(numeric_data)\n",
    "#principal_components = pca.transform(numeric_data)\n",
    "\n",
    "principal_components = (pca.fit_transform(numeric_data))[:,:2]\n",
    "#principal_components = principal_components[:2]\n",
    "principal_components.shape\n",
    "#pca.fit(numeric_data)\n",
    "#principal_components = pca.transform(numeric_data)\n"
   ]
  },
  {
   "cell_type": "markdown",
   "metadata": {},
   "source": [
    "## Exercise 4\n",
    "\n",
    "In this exercise, we will plot the first two principal components of the covariates in the dataset. The high and low quality wines will be colored using red and blue.\n",
    "\n",
    "-  The first two principal components can be accessed using `principal_components[:,0]` and `principal_components[:,1]`. Store these as `x` and `y` respectively, and plot the first two principal components.\n",
    "-  Consider: how well are the two groups of wines separated by the first two principal components?\n"
   ]
  },
  {
   "cell_type": "code",
   "execution_count": null,
   "metadata": {},
   "outputs": [],
   "source": [
    "import matplotlib.pyplot as plt\n",
    "from matplotlib.colors import ListedColormap\n",
    "from matplotlib.backends.backend_pdf import PdfPages\n",
    "observation_colormap = ListedColormap(['red', 'blue'])\n",
    "x = principal_components[:,0]\n",
    "y = principal_components[:,1]\n",
    "\n",
    "plt.title(\"Principal Components of Wine\")\n",
    "plt.scatter(x, y, alpha = 0.2,\n",
    "    c = data['high_quality'], cmap = observation_colormap, edgecolors = 'none')\n",
    "plt.xlim(-8, 8); plt.ylim(-8, 8)\n",
    "plt.xlabel(\"Principal Component 1\"); plt.ylabel(\"Principal Component 2\")\n",
    "plt.show()\n",
    "\n",
    "# The two groups of wine quality appear to separate significantly"
   ]
  },
  {
   "cell_type": "code",
   "execution_count": null,
   "metadata": {},
   "outputs": [],
   "source": [
    "array([ 3.9084047 ,  3.89513343,  3.85128606, ..., -0.8829393 ,\n",
    "       -1.55345605, -1.36831171])\n",
    "array([ 0.18449225,  0.70607678,  0.47524455, ..., -0.16735573,\n",
    "       -3.97949648, -2.07368096])"
   ]
  },
  {
   "cell_type": "markdown",
   "metadata": {},
   "source": [
    "## Exercise 5\n",
    "\n",
    "In this exercise, we will create a function that calculates the accuracy between predictions and outcomes.\n",
    "\n",
    "\n",
    "-  Create a function `accuracy(predictions, outcomes)` that takes two lists of the same size as arguments and returns a single number, which is the percentage of elements that are equal for the two lists.\n",
    "-  Use `accuracy` to compare the percentage of similar elements in `x = np.array([1,2,3])` and `y = np.array([1,2,4])`.\n",
    "-  Print your answer.\n"
   ]
  },
  {
   "cell_type": "code",
   "execution_count": null,
   "metadata": {},
   "outputs": [],
   "source": [
    "def accuracy(predictions, outcomes):\n",
    "    per = (np.mean(predictions == outcomes))*100\n",
    "    return per\n",
    "\n",
    "x = np.array([1,2,3])\n",
    "y = np.array([1,2,4])\n",
    "\n",
    "per = accuracy(x, y)\n",
    "print(per)"
   ]
  },
  {
   "cell_type": "markdown",
   "metadata": {},
   "source": [
    "# Exercise 6\n",
    "\n",
    "The dataset remains stored as data. Because most wines in the dataset are classified as low quality, one very simple classification rule is to predict that all wines are of low quality. In this exercise, we determine the accuracy of this simple rule. The `accuracy()` function preloaded into memory as defined in Exercise 5.\n",
    "\n",
    "\n",
    "-  Use `accuracy()` to calculate how many wines in the dataset are of low quality. Do this by using `0` as the first argument, and `data[\"high_quality\"]` as the second argument.\n",
    "-  Print your result.\n"
   ]
  },
  {
   "cell_type": "code",
   "execution_count": null,
   "metadata": {},
   "outputs": [],
   "source": [
    "per = accuracy(0,data[\"high_quality\"])\n",
    "print(per)"
   ]
  },
  {
   "cell_type": "markdown",
   "metadata": {},
   "source": [
    "#Exercise 7\n",
    "\n",
    "In this exercise, we will use the kNN classifier from scikit-learn to predict the quality of wines in our dataset.\n",
    "\n",
    "\n",
    "-  Use `knn.predict(numeric_data)` to predict which wines are high and low quality and store the result as `library_predictions`.\n",
    "-  Use `accuracy` to find the accuracy of your predictions, using `library_predictions` as the first argument and `data[\"high_quality\"]` as the second argument.\n",
    "-  Print your answer. Is this prediction better than the simple classifier in Exercise 6?\n"
   ]
  },
  {
   "cell_type": "code",
   "execution_count": null,
   "metadata": {},
   "outputs": [],
   "source": [
    "from sklearn.neighbors import KNeighborsClassifier\n",
    "knn = KNeighborsClassifier(n_neighbors = 5)\n",
    "knn.fit(numeric_data, data['high_quality'])\n",
    "library_predictions = knn.predict(numeric_data)\n",
    "per = accuracy(library_predictions,data[\"high_quality\"])\n",
    "print(per)"
   ]
  },
  {
   "cell_type": "markdown",
   "metadata": {},
   "source": [
    "#Exercise 8\n",
    "\n",
    "Unlike the `scikit-learn` function, our homemade kNN classifier does not take any shortcuts in calculating which neighbors are closest to each observation, so it is likely too slow to carry out on the whole dataset. In this exercise, we will select a subset of our data to use in our homemade kNN classifier.\n",
    "\n",
    "To circumvent this, fix the random generator using `random.seed(123)`, and select 10 rows from the dataset using `random.sample(range(n_rows), 10)`. Store this selection as `selection`."
   ]
  },
  {
   "cell_type": "code",
   "execution_count": null,
   "metadata": {},
   "outputs": [],
   "source": [
    "random.seed(123)\n",
    "n_rows = data.shape[0]\n",
    "\n",
    "selection = random.sample(range(n_rows), 10)\n"
   ]
  },
  {
   "cell_type": "markdown",
   "metadata": {},
   "source": [
    "#Exercise 9\n",
    "\n",
    "We are now ready to use our homemade `kNN classifier` and compare the accuracy of our results to the baseline. The sample of 10 row indices are stored as `selection` from the previous exercise.\n",
    "\n",
    "\n",
    "-  For each predictor `p` in `predictors[selection]`, use `knn_predict(p, predictors[training_indices,:], outcomes, k=5)` to predict the quality of each wine in the prediction set, and store these predictions as a `np.array` called `my_predictions`. Note that `knn_predict` is already defined as in the Case 3 videos.\n",
    "-  Using the `accuracy` function, compare these results to the selected rows from the high_quality variable in data using `my_predictions` as the first argument and `data.high_quality[selection]` as the second argument. Store these results as `percentage`.\n",
    "-  Print your answer.\n"
   ]
  },
  {
   "cell_type": "code",
   "execution_count": null,
   "metadata": {},
   "outputs": [],
   "source": [
    "import numpy as np\n",
    "predictors = np.array(numeric_data)\n",
    "training_indices = [i for i in range(len(predictors)) if i not in selection]\n",
    "outcomes = np.array(data[\"high_quality\"])\n",
    "\n",
    "my_predictions = []\n",
    "for p in predictors[selection]:\n",
    "    knn_predictions = (knn_predict(p, predictors[training_indices,:], outcomes, k=5))\n",
    "    my_predictions.append(knn_predictions)\n",
    "    print(my_predictions)\n",
    "\n",
    "percentage = accuracy(np.array(my_predictions),data.high_quality[selection])    \n",
    "print(percentage)\n",
    "#Our accuracy is comparable to the library's function! "
   ]
  }
 ],
 "metadata": {
  "kernelspec": {
   "display_name": "Python 3",
   "language": "python",
   "name": "python3"
  },
  "language_info": {
   "codemirror_mode": {
    "name": "ipython",
    "version": 3
   },
   "file_extension": ".py",
   "mimetype": "text/x-python",
   "name": "python",
   "nbconvert_exporter": "python",
   "pygments_lexer": "ipython3",
   "version": "3.6.3"
  }
 },
 "nbformat": 4,
 "nbformat_minor": 2
}
