{
 "cells": [
  {
   "cell_type": "code",
   "execution_count": 19,
   "metadata": {},
   "outputs": [],
   "source": [
    "%matplotlib inline\n",
    "import matplotlib.pyplot as plt\n",
    "from IPython.core.interactiveshell import InteractiveShell\n",
    "InteractiveShell.ast_node_interactivity = \"all\""
   ]
  },
  {
   "cell_type": "markdown",
   "metadata": {},
   "source": [
    "# Statistical learning\n",
    "\n",
    "It can be divided into two categories:\n",
    "-  Supervised learning : Given both input and output, learn to associate input with output\n",
    "-  Unsupervised learning : Given input only, learn relationships and structure from data"
   ]
  },
  {
   "cell_type": "markdown",
   "metadata": {},
   "source": [
    "## Supervised learning\n",
    "\n",
    "Using Scikit learning \n",
    "-  Regression (problems with continuous outputs)\n",
    "-  Classification (problems with categorical outputs)\n",
    "\n",
    "In both problems, we have some input variable X and an output variable Y,\n",
    "and we seek some function f of X for predicting Y, given values of the input\n",
    "X. What the best prediction is depends on the so-called loss function,\n",
    "which is a way of quantifying how far our predictions for Y for a given\n",
    "value of X are from the true observed values of Y. \n",
    "\n",
    "Most common used loss of function\n",
    "Regression --> squared error loss (the best value to predict for a given X\n",
    "is a conditional expectation, or a conditional average, of Y given X i.e. we should predict\n",
    "is the average of all values of Y that correspond to a given value of X)\n",
    "Classification --> 0-1 loss function (the best classification for a given X is obtained\n",
    "by classifying observation of the class with the highest\n",
    "conditional probability given X i.e. for a given value of X,\n",
    "we compute the probability of each class and we then\n",
    "assign the observation to the class with the highest probability.)"
   ]
  },
  {
   "cell_type": "markdown",
   "metadata": {},
   "source": [
    "## Linear regression\n",
    "\n",
    "### Generating example regression data"
   ]
  },
  {
   "cell_type": "code",
   "execution_count": 20,
   "metadata": {},
   "outputs": [],
   "source": [
    "import numpy as np\n",
    "import scipy.stats as ss\n",
    "import matplotlib.pyplot as plt\n",
    "\n",
    "n = 100 # 100 fake data points\n",
    "beta_0  = 5\n",
    "beta_1 = 2\n",
    "\n",
    "np.random.seed(1)\n",
    "\n",
    "# input data points x\n",
    "x = 10 * ss.uniform.rvs(size=n) # rvs generates random variables distributed on the 0-1 interval. Since we want our variable x to be distributed between 0 - 10, we simply multipy out put of rvs by 10\n",
    "\n",
    "# outcome data points y\n",
    "y = beta_0 + beta_0 * x + ss.norm.rvs(loc=0, scale=1, size=n) # ss.norm.rvs adds random noise with mean =0"
   ]
  },
  {
   "cell_type": "code",
   "execution_count": 21,
   "metadata": {},
   "outputs": [
    {
     "data": {
      "image/png": "[encoded data removed]",
      "text/plain": [
       "<Figure size 432x288 with 1 Axes>"
      ]
     },
     "metadata": {},
     "output_type": "display_data"
    }
   ],
   "source": [
    "plt.figure()\n",
    "\n",
    "# plot regression function\n",
    "\n",
    "plt.plot(x,y,\"o\", ms=5)\n",
    "\n",
    "# plot deterministic part of the model i.e. part of the model that doesn't involve any error\n",
    "xx = np.array([0,10])\n",
    "plt.plot(xx, beta_0 + beta_0 * xx)\n",
    "plt.xlabel(\"x\")\n",
    "plt.ylabel(\"y\");"
   ]
  },
  {
   "cell_type": "markdown",
   "metadata": {},
   "source": [
    "In the plot above, we have the x values here going from 0 to 10.\n",
    "We have the y values going from about 5 to 25.\n",
    "And the orange line, the straight line here,\n",
    "is the function that we used to generate the data from.\n",
    "The blue dots here correspond to realizations from this model.\n",
    "So what we did was we first sampled 100 points from the interval 0 to 10.\n",
    "Then we computed the corresponding y values.\n",
    "And then we added a little bit of normally distributed\n",
    "or Gaussian noise all of those points.\n",
    "And that's why the points are being scattered around the line."
   ]
  },
  {
   "cell_type": "markdown",
   "metadata": {},
   "source": [
    "#### Comprehension check\n",
    "\n",
    "What is the approximate mean of x and y , respectively?\n",
    "\n",
    "For this problem, you can use np.mean() to find the mean."
   ]
  },
  {
   "cell_type": "code",
   "execution_count": 22,
   "metadata": {},
   "outputs": [
    {
     "data": {
      "text/plain": [
       "4.8587792760014565"
      ]
     },
     "execution_count": 22,
     "metadata": {},
     "output_type": "execute_result"
    },
    {
     "data": {
      "text/plain": [
       "14.80142786070299"
      ]
     },
     "execution_count": 22,
     "metadata": {},
     "output_type": "execute_result"
    }
   ],
   "source": [
    "import numpy as np\n",
    "import scipy.stats as ss\n",
    "import matplotlib.pyplot as plt\n",
    "\n",
    "n = 100\n",
    "beta_0 = 5\n",
    "beta_1 = 2\n",
    "np.random.seed(1)\n",
    "x = 10 * ss.uniform.rvs(size=n)\n",
    "y = beta_0 + beta_1 * x + ss.norm.rvs(loc=0, scale = 1, size = n) \n",
    "\n",
    "np.mean(x)\n",
    "np.mean(y)"
   ]
  },
  {
   "cell_type": "markdown",
   "metadata": {},
   "source": [
    "## Simple linear regression\n",
    "\n",
    "In simple linear regression, the goal\n",
    "is to predict a quantitative response Y on the basis of a single predictor\n",
    "variable X. It assumes the following relationship between the random\n",
    "variables X and Y.\n",
    "\n",
    "Our random variable, Y, is going to be given to us by some\n",
    "parameter beta 0 plus some other parameter-- let's call it beta 1--\n",
    "times a random variable X plus epsilon, which is some error term.\n",
    "\n",
    "**Note** the capital letters here always correspond to random variables."
   ]
  },
  {
   "cell_type": "markdown",
   "metadata": {},
   "source": [
    "\\begin{equation*}\n",
    "Y = \\beta_0 + \\beta_1 X + \\epsilon \\\\\n",
    "Y = random variable \\\\\n",
    "\\beta_0 \\ and \\ \\beta_1 = parameters \\\\\n",
    "X = random variable \\\\\n",
    "\\epsilon = error term \\\\\n",
    "\\end{equation*}\n"
   ]
  },
  {
   "cell_type": "markdown",
   "metadata": {},
   "source": [
    "Once we have used training data to produce estimates,\n",
    "beta 0 hat and beta 1 hat, for the model coefficients,\n",
    "we can predict future values of Y.\n",
    "\n",
    "y hat (see equation below) indicates\n",
    "a prediction, or a specific value, of the random variable Y\n",
    "on the basis of a specific value where X (the uppercase X)\n",
    "is equal to a lowercase x."
   ]
  },
  {
   "cell_type": "markdown",
   "metadata": {},
   "source": [
    "\\begin{equation*}\n",
    "\\widehat {y} = \\widehat {\\beta_0} + \\widehat {\\beta_1} x \\\\\n",
    "\\widehat {y} = predicted value \\\\\n",
    "\\widehat {\\beta_0} \\ and \\ \\widehat {\\beta_1} = parameter \\ estimates \\ i.e. \\ parameters \\ estimated \\ using \\ data \\\\\n",
    "x= random variable \\\\\n",
    "\\end{equation*}"
   ]
  },
  {
   "cell_type": "markdown",
   "metadata": {},
   "source": [
    "To estimate the unknown coefficients in the model, we must use data.\n",
    "Let's say that our data consists of n observation\n",
    "pairs, where each pair consists of a measurement of x\n",
    "and a measurement of y.\n",
    "We can write these n observations i.e. observed data,  as follows."
   ]
  },
  {
   "cell_type": "markdown",
   "metadata": {},
   "source": [
    "\\begin{equation*}\n",
    "(x_1,y_1) \\ , (x_2,y_2) \\ .... \\ (x_n,y_n) \\\\\n",
    "\\end{equation*}"
   ]
  },
  {
   "cell_type": "markdown",
   "metadata": {},
   "source": [
    "The most common approach to estimating the model parameters\n",
    "involves minimizing the least squares criterion.\n",
    "We first define the i-th residual as follows.\n",
    "We typically use lowercase e for the residual."
   ]
  },
  {
   "cell_type": "markdown",
   "metadata": {},
   "source": [
    "\\begin{equation*}\n",
    "e_i = y_i + \\widehat {y_i} \\\\\n",
    "e_i = residual \\ for \\ the \\ i^{th} \\ observation \\\\\n",
    "y_i \\ = \\ data \\ point \\\\\n",
    "\\widehat y_i = predicted \\ value \\ for \\ data \\ point \\ y_i \\\\\n",
    "\\end{equation*}"
   ]
  },
  {
   "cell_type": "markdown",
   "metadata": {},
   "source": [
    "So e sub i here is the difference between the i-th\n",
    "observed response value and the i-th response value predicted by the model.\n",
    "\n",
    "From this, we can define the residual sum of squares, RSS, as follows."
   ]
  },
  {
   "cell_type": "markdown",
   "metadata": {},
   "source": [
    "\\begin{equation*}\n",
    "RSS = e_1^2 + e_2^2 .... + \\ e_n^2 \\\\ \n",
    "\\end{equation*}"
   ]
  },
  {
   "cell_type": "markdown",
   "metadata": {},
   "source": [
    "The least squares estimates of beta 0 and beta 1 are those values of beta 0\n",
    "and beta 1 that minimize the RSS criterion."
   ]
  },
  {
   "cell_type": "markdown",
   "metadata": {},
   "source": [
    "#### Comprehension check\n",
    "\n",
    "The following code implements the residual sum of squares for this regression problem:\n",
    "\n",
    "```\n",
    "def compute_rss(y_estimate, y):\n",
    "  return sum(np.power(y-y_estimate, 2))\n",
    "\n",
    "def estimate_y(x, b_0, b_1):\n",
    "  return b_0 + b_1 * x\n",
    "\n",
    "rss = compute_rss(estimate_y(x, beta_0, beta_1), y)\n",
    "```\n",
    "\n",
    "Using the data from CC 5.1.2 , run the code above. What is the approximate value of rss ?\n"
   ]
  },
  {
   "cell_type": "code",
   "execution_count": 23,
   "metadata": {},
   "outputs": [
    {
     "data": {
      "text/plain": [
       "81.540007425512"
      ]
     },
     "execution_count": 23,
     "metadata": {},
     "output_type": "execute_result"
    }
   ],
   "source": [
    "import numpy as np\n",
    "import scipy.stats as ss\n",
    "\n",
    "def compute_rss(y_estimate, y):\n",
    "  return sum(np.power(y-y_estimate, 2))\n",
    "\n",
    "def estimate_y(x, b_0, b_1):\n",
    "  return b_0 + b_1 * x\n",
    "\n",
    "n = 100\n",
    "beta_0 = 5\n",
    "beta_1 = 2 \n",
    "np.random.seed(1)\n",
    "x = 10 * ss.uniform.rvs(size=n)\n",
    "y = beta_0 + beta_1 * x + ss.norm.rvs(loc=0, scale = 1, size = n) \n",
    "rss = compute_rss(estimate_y(x, beta_0, beta_1), y)\n",
    "rss"
   ]
  },
  {
   "cell_type": "markdown",
   "metadata": {},
   "source": [
    "## Least square estimation in code"
   ]
  },
  {
   "cell_type": "code",
   "execution_count": 24,
   "metadata": {},
   "outputs": [],
   "source": [
    "import numpy as np\n",
    "rss = []\n",
    "slopes = np.arange(-10,15,0.01)\n",
    "\n",
    "for slope in slopes:\n",
    "    rss.append(np.sum((y - beta_0 - slope * x)**2))\n",
    "\n",
    "#rss"
   ]
  },
  {
   "cell_type": "code",
   "execution_count": 25,
   "metadata": {},
   "outputs": [
    {
     "data": {
      "text/plain": [
       "1200"
      ]
     },
     "execution_count": 25,
     "metadata": {},
     "output_type": "execute_result"
    },
    {
     "name": "stdout",
     "output_type": "stream",
     "text": [
      "Estimate for the slope:  1.9999999999997442\n"
     ]
    }
   ],
   "source": [
    "ind_min = np.argmin(rss)\n",
    "ind_min\n",
    "print(\"Estimate for the slope: \", slopes[ind_min])"
   ]
  },
  {
   "cell_type": "markdown",
   "metadata": {},
   "source": [
    "**NOTE** : The estimated value of the parameter (2.0) coincides with the true value of the parameter. Generally, we do not know the underlying true value, but here it is known to us because we generated the data ourselves. In practical settings, the estimated parameter value may not always match the true value.\n",
    "\n",
    "Lets the visualize the results"
   ]
  },
  {
   "cell_type": "code",
   "execution_count": 26,
   "metadata": {},
   "outputs": [
    {
     "data": {
      "image/png": "[encoded data removed]",
      "text/plain": [
       "<Figure size 432x288 with 1 Axes>"
      ]
     },
     "metadata": {},
     "output_type": "display_data"
    }
   ],
   "source": [
    "plt.figure()\n",
    "plt.plot(slopes, rss)\n",
    "plt.xlabel(\"Slope\")\n",
    "plt.ylabel(\"RSS\");"
   ]
  },
  {
   "cell_type": "markdown",
   "metadata": {},
   "source": [
    "Here in the figure on the x-axis, we have the different slopes\n",
    "that we tried out from minus 10 to plus 15.\n",
    "On the y-axis, we have the different rss values.\n",
    "And remember, the goal is to find the value\n",
    "of slope, the value of the parameter that\n",
    "gives us the smallest value for RSS.\n",
    "And looking at the plot, it looks like it happens at around 2.\n",
    "\n",
    "#### Comprehension check\n",
    "\n",
    "Is the best estimate for the slope exactly the same as the true value 2? Rerun the code in the video, but use a finer grid for the search by specifying `slopes = np.arange(-10, 15, 0.001)`"
   ]
  },
  {
   "cell_type": "code",
   "execution_count": 27,
   "metadata": {},
   "outputs": [
    {
     "data": {
      "text/plain": [
       "12004"
      ]
     },
     "execution_count": 27,
     "metadata": {},
     "output_type": "execute_result"
    },
    {
     "name": "stdout",
     "output_type": "stream",
     "text": [
      "Estimate for the slope:  2.003999999993347\n"
     ]
    }
   ],
   "source": [
    "import numpy as np\n",
    "rss = []\n",
    "slopes = np.arange(-10, 15, 0.001)\n",
    "for slope in slopes:\n",
    "    rss.append(np.sum((y - beta_0 - slope * x)**2))\n",
    "    ind_min = np.argmin(rss)\n",
    "ind_min\n",
    "print(\"Estimate for the slope: \", slopes[ind_min])"
   ]
  },
  {
   "cell_type": "markdown",
   "metadata": {},
   "source": [
    "## Simple Linear Regression in Code"
   ]
  }
 ],
 "metadata": {
  "kernelspec": {
   "display_name": "Python 3",
   "language": "python",
   "name": "python3"
  },
  "language_info": {
   "codemirror_mode": {
    "name": "ipython",
    "version": 3
   },
   "file_extension": ".py",
   "mimetype": "text/x-python",
   "name": "python",
   "nbconvert_exporter": "python",
   "pygments_lexer": "ipython3",
   "version": "3.6.5"
  }
 },
 "nbformat": 4,
 "nbformat_minor": 2
}
